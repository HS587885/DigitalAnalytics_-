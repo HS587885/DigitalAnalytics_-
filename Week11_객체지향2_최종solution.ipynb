{
  "nbformat": 4,
  "nbformat_minor": 0,
  "metadata": {
    "colab": {
      "name": "Week11_객체지향2_최종solution.ipynb",
      "provenance": [],
      "collapsed_sections": [],
      "toc_visible": true,
      "include_colab_link": true
    },
    "kernelspec": {
      "name": "python3",
      "display_name": "Python 3"
    },
    "language_info": {
      "name": "python"
    }
  },
  "cells": [
    {
      "cell_type": "markdown",
      "metadata": {
        "id": "view-in-github",
        "colab_type": "text"
      },
      "source": [
        "<a href=\"https://colab.research.google.com/github/HS587885/DigitalAnalytics_intermediateProgramming/blob/main/Week11_%EA%B0%9D%EC%B2%B4%EC%A7%80%ED%96%A52_%EC%B5%9C%EC%A2%85solution.ipynb\" target=\"_parent\"><img src=\"https://colab.research.google.com/assets/colab-badge.svg\" alt=\"Open In Colab\"/></a>"
      ]
    },
    {
      "cell_type": "markdown",
      "source": [
        "# Review문제"
      ],
      "metadata": {
        "id": "UAGW75D2V_OU"
      }
    },
    {
      "cell_type": "code",
      "execution_count": null,
      "metadata": {
        "colab": {
          "base_uri": "https://localhost:8080/"
        },
        "id": "_9VJHDWFV7k1",
        "outputId": "b4e88ee0-bfd7-4047-f01a-dc387139c49c"
      },
      "outputs": [
        {
          "output_type": "stream",
          "name": "stdout",
          "text": [
            "radius:5\n",
            "원의 면적 : 78.54\n",
            "원의 둘레 : 31.42\n"
          ]
        }
      ],
      "source": [
        "import math\n",
        "\n",
        "class Circle:\n",
        "  def __init__(self,radius):\n",
        "    self.radius=radius\n",
        "  def getArea(self):\n",
        "    area=math.pi * self.radius**2\n",
        "    return area\n",
        "  def getPerimeter(self):\n",
        "    perimeter=2 * math.pi * self.radius \n",
        "    return perimeter\n",
        "\n",
        "# main\n",
        "raduis=int(input('radius:'))\n",
        "c1=Circle(raduis) \n",
        "print(f'원의 면적 : {c1.getArea():.2f}')\n",
        "print(f'원의 둘레 : {c1.getPerimeter():.2f}')\n"
      ]
    },
    {
      "cell_type": "markdown",
      "source": [
        "# 실습예제1 : 클래스 속성과 인스턴스 속성\n",
        "\n",
        "---\n",
        "\n"
      ],
      "metadata": {
        "id": "Cr1X0RJMYmgR"
      }
    },
    {
      "cell_type": "code",
      "source": [
        "class BankAccount:\n",
        "  #생성자\n",
        "  def __init__(self):\n",
        "    self.balance=0\n",
        "  #출금메소드\n",
        "  def withdraw(self,amount):\n",
        "    if amount<=self.balance:\n",
        "      self.balance-=amount\n",
        "      print(f'통장에 {amount}원 출금됨')\n",
        "    else:\n",
        "      print('잔액부족')\n",
        "  #입금메소드\n",
        "  def deposit(self,amount):\n",
        "    self.balance+=amount\n",
        "    print(f'통장에 {amount}원 입금됨')\n",
        "  def __str__(self):\n",
        "    return f'현재잔액 : {self.balance}'\n",
        "# Test\n",
        "b1=BankAccount()\n",
        "b1.deposit(10000)\n",
        "print(b1)\n",
        "b1.withdraw(5000)\n",
        "print(b1)\n",
        "b1.withdraw(6000)\n",
        "print(b1)"
      ],
      "metadata": {
        "colab": {
          "base_uri": "https://localhost:8080/"
        },
        "id": "Yn0ImCw_4Uuf",
        "outputId": "20986218-8258-406d-cadf-63b7ba34f5a9"
      },
      "execution_count": null,
      "outputs": [
        {
          "output_type": "stream",
          "name": "stdout",
          "text": [
            "통장에 10000원 입금됨\n",
            "현재잔액 : 10000\n",
            "통장에 5000원 출금됨\n",
            "현재잔액 : 5000\n",
            "잔액부족\n",
            "현재잔액 : 5000\n"
          ]
        }
      ]
    },
    {
      "cell_type": "markdown",
      "source": [
        "# 클래스변수와 인스턴스변수"
      ],
      "metadata": {
        "id": "RAbSywHu_hKD"
      }
    },
    {
      "cell_type": "code",
      "source": [
        "class Car:  \n",
        "  cnt=0\n",
        "  def __init__(self,model,color):\n",
        "    self.model=model # 인스턴스변수\n",
        "    self.color=color\n",
        "    self.cnt=self.cnt+1\n",
        "  def __str__(self):\n",
        "    return f'자동차 {self.cnt}가 생성되었습니다.'\n",
        "c1=Car('E-class','red')\n",
        "print(c1)\n",
        "c2=Car('E-class','blue')\n",
        "print(c2)"
      ],
      "metadata": {
        "colab": {
          "base_uri": "https://localhost:8080/"
        },
        "id": "J6JhAmEB_kcC",
        "outputId": "7830cd04-170b-461b-bc4b-a2f5ceb10c1e"
      },
      "execution_count": null,
      "outputs": [
        {
          "output_type": "stream",
          "name": "stdout",
          "text": [
            "자동차 1가 생성되었습니다.\n",
            "자동차 1가 생성되었습니다.\n"
          ]
        }
      ]
    },
    {
      "cell_type": "code",
      "source": [
        "class Car:  \n",
        "  cnt=0\n",
        "  def __init__(self,model,color):\n",
        "    self.model=model # 인스턴스변수\n",
        "    self.color=color # 인스턴스변수\n",
        "    Car.cnt=Car.cnt+1 # 클래스변수\n",
        "  def __str__(self):\n",
        "    return f'자동차 {Car.cnt}가 생성되었습니다.'\n",
        "\n",
        "c1=Car('E-class','red')\n",
        "print(c1)\n",
        "c2=Car('E-class','blue')\n",
        "print(c2)\n",
        "print(f'자동차의 총 대수는 {Car.cnt}입니다.')"
      ],
      "metadata": {
        "colab": {
          "base_uri": "https://localhost:8080/"
        },
        "id": "rZhAafYdBCt7",
        "outputId": "2f40b584-1251-4c12-adfa-e9b1d318020d"
      },
      "execution_count": null,
      "outputs": [
        {
          "output_type": "stream",
          "name": "stdout",
          "text": [
            "자동차 1가 생성되었습니다.\n",
            "자동차 2가 생성되었습니다.\n",
            "자동차의 총 대수는 2입니다.\n"
          ]
        }
      ]
    },
    {
      "cell_type": "markdown",
      "source": [
        "# 상속구현"
      ],
      "metadata": {
        "id": "xJQdt1qzODq5"
      }
    },
    {
      "cell_type": "markdown",
      "source": [
        "# 상속의 필요성\n",
        "- 클래스 사이의 멤버 중복 선언 불필요\n",
        "- 필드(멤버변수)와 메소드 재사용으로 클래스 간결화\n",
        "- 클래스 간 계층적 분류 및 관리"
      ],
      "metadata": {
        "id": "oD44X4BVayet"
      }
    },
    {
      "cell_type": "markdown",
      "source": [
        "# 상속 Review\n",
        "- 사람 : 이름,나이\n",
        "- 대학생 : 이름,나이,학과"
      ],
      "metadata": {
        "id": "B-2J1n81ajcz"
      }
    },
    {
      "cell_type": "code",
      "source": [
        "class Person:\n",
        "  #name=''\n",
        "  #age=0\n",
        "  def __init__(self,name,age):\n",
        "    self.name=name\n",
        "    self.age=age\n",
        "  def setName(self,name):\n",
        "    self.name=name\n",
        "  def setAge(self,age):\n",
        "    self.age=age\n",
        "  def show(self):\n",
        "    print(f'{self.name},{self.age}')\n",
        "  def work(self):\n",
        "    print('일을 한다.')"
      ],
      "metadata": {
        "id": "3EOL6ss2bgma"
      },
      "execution_count": null,
      "outputs": []
    },
    {
      "cell_type": "code",
      "source": [
        "class Student(Person):\n",
        "  def __init__(self,name,age,dept):\n",
        "    super().__init__(name,age)\n",
        "    self.dept=dept\n",
        "  def show(self): # 메소드 오버라이딩\n",
        "    print(f'{self.name},{self.age},{self.dept}')\n",
        "  def work(self): # 메소드 오버라이딩\n",
        "    #super().work()\n",
        "    print('공부를 한다.')"
      ],
      "metadata": {
        "id": "XSpjJhDRc0uR"
      },
      "execution_count": null,
      "outputs": []
    },
    {
      "cell_type": "code",
      "source": [
        "s1=Student('양숙희',20,'DA')\n",
        "s1.show()\n",
        "s1.work() # 부모의 메소드 < 자식의 메소드가 우선한다."
      ],
      "metadata": {
        "colab": {
          "base_uri": "https://localhost:8080/"
        },
        "id": "0p2HqHeCdQX6",
        "outputId": "af79f651-d82f-4695-bb92-a3e27a8d1216"
      },
      "execution_count": null,
      "outputs": [
        {
          "output_type": "stream",
          "name": "stdout",
          "text": [
            "양숙희,20,DA\n",
            "일을 한다.\n",
            "공부를 한다.\n"
          ]
        }
      ]
    },
    {
      "cell_type": "code",
      "source": [
        "p1=Person('양숙희',0)\n",
        "p1.setName('양숙희')\n",
        "p1.setAge(20)\n",
        "p1.show()"
      ],
      "metadata": {
        "colab": {
          "base_uri": "https://localhost:8080/"
        },
        "id": "tR7G4xMeb0OS",
        "outputId": "1fc6e422-3727-484c-924d-862d8cc7c2b3"
      },
      "execution_count": null,
      "outputs": [
        {
          "output_type": "stream",
          "name": "stdout",
          "text": [
            "양숙희,20\n"
          ]
        }
      ]
    },
    {
      "cell_type": "code",
      "source": [
        "class Car:\n",
        "  def __init__(self,model,color,price):\n",
        "    self.model=model\n",
        "    self.color=color\n",
        "    self.price=price\n",
        "  def __str__(self):\n",
        "    result=f'model:{self.model}, color:{self.color}, price:{self.price}'\n",
        "    return result"
      ],
      "metadata": {
        "id": "SqvS1wg2OFwi"
      },
      "execution_count": null,
      "outputs": []
    },
    {
      "cell_type": "code",
      "source": [
        "class ElectricCar():\n",
        "  def __init__(self,model,color,price, batterySize):\n",
        "    self.model=model\n",
        "    self.color=color\n",
        "    self.price=price\n",
        "    self.batterySize=batterySize\n",
        "\n",
        "  def __str__(self):\n",
        "    result=f'model:{self.model}, color:{self.color}, price:{self.price}, batterySize:{self.batterySize}'\n",
        "    return result\n",
        "    \n",
        "  def setColor(self,color):\n",
        "    self.color=color\n",
        "    \n",
        "e1=ElectricCar('Model 5','red',10000,0)\n",
        "print(e1)\n"
      ],
      "metadata": {
        "colab": {
          "base_uri": "https://localhost:8080/"
        },
        "id": "fIUcWXhZP275",
        "outputId": "651a8374-7981-47cb-e213-d4638d6c26a1"
      },
      "execution_count": null,
      "outputs": [
        {
          "output_type": "stream",
          "name": "stdout",
          "text": [
            "model:Model 5, color:red, price:10000, batterySize:0\n"
          ]
        }
      ]
    },
    {
      "cell_type": "code",
      "source": [
        "class ElectricCar(Car):\n",
        "  def __init__(self,model,color,price, batterySize):\n",
        "    super().__init__(model,color,price) # 부모생성자호출\n",
        "    self.batterySize=batterySize\n",
        "\n",
        "  def __str__(self):\n",
        "    result=super().__str__() # 부모 메소드 호출\n",
        "    result+=f' batterySize:{self.batterySize}'\n",
        "    return result\n",
        "\n",
        "e1=ElectricCar('Model 5','red',10000,0)"
      ],
      "metadata": {
        "colab": {
          "base_uri": "https://localhost:8080/"
        },
        "id": "f3d87Mt5P7a6",
        "outputId": "887bf4c6-8f41-406e-d77d-ac400f290e92"
      },
      "execution_count": null,
      "outputs": [
        {
          "output_type": "stream",
          "name": "stdout",
          "text": [
            "y\n"
          ]
        }
      ]
    },
    {
      "cell_type": "markdown",
      "source": [
        "## 메소드오버라이딩"
      ],
      "metadata": {
        "id": "u7XLUkxPSvzy"
      }
    },
    {
      "cell_type": "code",
      "source": [
        "class Bank(): \n",
        "  def getInterestRate(self):\n",
        "   return 0.0\n",
        "\n",
        "class BadBank(Bank):\n",
        "\tdef getInterestRate(self):\n",
        "\t\t#print(super().getInterestRate())\n",
        "\t\treturn 10.0;\n",
        "\n",
        "class NormalBank(Bank):\n",
        "\tdef getInterestRate(self):\n",
        "\t\treturn 5.0;\n",
        "\n",
        "class GoodBank(Bank):\n",
        "\tdef getInterestRate(self):\n",
        "\t\treturn 3.0;\n",
        "\n",
        "b1 = BadBank()\n",
        "b2 = NormalBank()\n",
        "b3 = GoodBank()\n",
        "print(f'BadBank의 이자율: {b1.getInterestRate()}')\n",
        "print(f'NormalBank의 이자율: {b2.getInterestRate()}')\n",
        "print(f'GoodBank의 이자율: {b3.getInterestRate()}')\n"
      ],
      "metadata": {
        "colab": {
          "base_uri": "https://localhost:8080/"
        },
        "id": "EqYYPLSAS1W4",
        "outputId": "12e30d1b-0320-47a6-8206-63d0590d6463"
      },
      "execution_count": null,
      "outputs": [
        {
          "output_type": "stream",
          "name": "stdout",
          "text": [
            "0.0\n",
            "BadBank의 이자율: 10.0\n",
            "NormalBank의 이자율: 5.0\n",
            "GoodBank의 이자율: 3.0\n"
          ]
        }
      ]
    },
    {
      "cell_type": "markdown",
      "source": [
        "# 실습예제 2 : 직원과 매니저"
      ],
      "metadata": {
        "id": "nXEzGsb-IXCc"
      }
    },
    {
      "cell_type": "code",
      "source": [
        "class Employee:\n",
        "  def __init__(self,name,salary):\n",
        "    self.name=name\n",
        "    self.salary=salary\n",
        "  def getSalary(self):\n",
        "    return self.salary\n",
        "  def __str__(self):\n",
        "    result=f'이름:{self.name}, 월급:{self.salary}'\n",
        "    return result\n",
        "  \n",
        "class Manager(Employee):\n",
        "  def __init__(self,name,salary,bonus):\n",
        "    super().__init__(name,salary)\n",
        "    self.bonus=bonus\n",
        "  def getSalary(self):\n",
        "    salary=super().getSalary()\n",
        "    salary=salary+self.bonus\n",
        "    return salary\n",
        "  def __str__(self):\n",
        "    result=f'{super().__str__()}, 보너스:{self.bonus}, 전체급여:{self.getSalary()}'\n",
        "    return result\n",
        "\n",
        "e1=Employee('구글신',200000)\n",
        "print(e1)\n",
        "m1=Manager('자바신',2000000,100000)\n",
        "print(m1)"
      ],
      "metadata": {
        "colab": {
          "base_uri": "https://localhost:8080/"
        },
        "id": "SRgUc3hTIatG",
        "outputId": "7c40d4d9-f2c7-45ce-de3f-6470db2faeb3"
      },
      "execution_count": null,
      "outputs": [
        {
          "output_type": "stream",
          "name": "stdout",
          "text": [
            "이름:구글신, 월급:200000\n",
            "이름:자바신, 월급:2000000, 보너스:100000, 전체급여:2100000\n"
          ]
        }
      ]
    },
    {
      "cell_type": "markdown",
      "source": [
        "# 응용문제1 : Person 클래스"
      ],
      "metadata": {
        "id": "86OuQrNnS8oX"
      }
    },
    {
      "cell_type": "code",
      "source": [
        "class Person:\n",
        "    def __init__(self, name, number):\n",
        "        self.name = name\n",
        "        self.number = number\n",
        "    def __str__(self):\n",
        "      result=f'이름 :{self.name}\\n주민번호:{self.number}'\n",
        "      return result\n",
        "\n",
        "class Student(Person):\n",
        "    UNDERGRADUATE=0 # 재학생\n",
        "    POSTGRADUATE=1 # 졸업생\n",
        "\n",
        "    def __init__(self, name, number, studentType ):\n",
        "        super().__init__(name, number)\n",
        "        self.studentType = studentType\n",
        "        self.gpa=0.0\n",
        "        self.classes = []\n",
        "\n",
        "    def enrollCourse(self, course):\n",
        "        self.classes.append(course)\n",
        "\n",
        "    def __str__(self):\n",
        "        result=super().__str__()\n",
        "        result+=f'\\n수강과목:{self.classes}\\n평점:{self.gpa}'\n",
        "        return result\n",
        "\n",
        "class Teacher(Person):\n",
        "    def __init__(self, name, number):\n",
        "        super().__init__(name, number)\n",
        "        self.courses = []\n",
        "        self.salary=3000000\n",
        "\n",
        "    def assignTeaching(self, course):\n",
        "        self.courses.append(course)\n",
        "\n",
        "    def __str__(self):\n",
        "        result=super().__str__()\n",
        "        result+=f'\\n강의과목:{self.courses}\\n월급:{self.salary}'\n",
        "        return result"
      ],
      "metadata": {
        "id": "S-IRi2Y0TcK4"
      },
      "execution_count": null,
      "outputs": []
    },
    {
      "cell_type": "code",
      "source": [
        "# 테스트코드\n",
        "hong = Student('홍길동', '12345678', Student.UNDERGRADUATE )\n",
        "hong.enrollCourse('중급프로그래밍')\n",
        "hong.enrollCourse('파이썬')\n",
        "hong.enrollCourse('빅데이터분석')\n",
        "print(hong)\n",
        "\n",
        "kim  = Teacher('김철수', '123456790')\n",
        "kim.assignTeaching('Python')\n",
        "kim.assignTeaching('머신러닝')\n",
        "print(kim)"
      ],
      "metadata": {
        "colab": {
          "base_uri": "https://localhost:8080/"
        },
        "id": "6jlkiz5wYg7v",
        "outputId": "fa62193a-27da-4a65-8a9a-aaad8a01ced2"
      },
      "execution_count": null,
      "outputs": [
        {
          "output_type": "stream",
          "name": "stdout",
          "text": [
            "이름 :홍길동\n",
            "주민번호:12345678\n",
            "수강과목:['중급프로그래밍', '파이썬', '빅데이터분석']\n",
            "평점:0\n",
            "이름 :김철수\n",
            "주민번호:123456790\n",
            "강의과목:['Python', '머신러닝']\n",
            "월급:3000000\n"
          ]
        }
      ]
    }
  ]
}