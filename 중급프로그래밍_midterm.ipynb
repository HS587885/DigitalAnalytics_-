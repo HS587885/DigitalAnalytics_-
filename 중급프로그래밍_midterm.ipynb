{
  "nbformat": 4,
  "nbformat_minor": 0,
  "metadata": {
    "colab": {
      "name": "중급프로그래밍_midterm.ipynb",
      "provenance": [],
      "collapsed_sections": [],
      "toc_visible": true,
      "authorship_tag": "ABX9TyM4YiDgdccqE294bL0WQW3L",
      "include_colab_link": true
    },
    "kernelspec": {
      "name": "python3",
      "display_name": "Python 3"
    },
    "language_info": {
      "name": "python"
    }
  },
  "cells": [
    {
      "cell_type": "markdown",
      "metadata": {
        "id": "view-in-github",
        "colab_type": "text"
      },
      "source": [
        "<a href=\"https://colab.research.google.com/github/HS587885/DigitalAnalytics_-/blob/main/%EC%A4%91%EA%B8%89%ED%94%84%EB%A1%9C%EA%B7%B8%EB%9E%98%EB%B0%8D_midterm.ipynb\" target=\"_parent\"><img src=\"https://colab.research.google.com/assets/colab-badge.svg\" alt=\"Open In Colab\"/></a>"
      ]
    },
    {
      "cell_type": "markdown",
      "source": [
        "# 기본 자료형의 이해"
      ],
      "metadata": {
        "id": "LlRo9GjqtuA1"
      }
    },
    {
      "cell_type": "markdown",
      "source": [
        "## 문자형"
      ],
      "metadata": {
        "id": "rvD5u0Eat9aP"
      }
    },
    {
      "cell_type": "code",
      "execution_count": null,
      "metadata": {
        "colab": {
          "base_uri": "https://localhost:8080/"
        },
        "id": "pY9ZFPeNtBLm",
        "outputId": "6a234bdc-0f8a-46f6-81a5-7ce06a13fb02"
      },
      "outputs": [
        {
          "output_type": "stream",
          "name": "stdout",
          "text": [
            "Yonsei\n"
          ]
        }
      ],
      "source": [
        "myUniv=\"Yonsei\"\n",
        "print(myUniv)"
      ]
    },
    {
      "cell_type": "code",
      "source": [
        "# 여러 문자열\n",
        "mySing='''\n",
        "기업에서 원하는 이상적인 서비스 기획자는\n",
        "1) 데이터를 추출하고,\n",
        "2) 전처리하고,\n",
        "3) 적절한 테스트도구로 분석하고,\n",
        "4) 결과를 해석하는 \n",
        "역량을 갖춰야 합니다.\n",
        "'''\n",
        "print(mySing)"
      ],
      "metadata": {
        "colab": {
          "base_uri": "https://localhost:8080/"
        },
        "id": "wpfwFHj9hWwx",
        "outputId": "46501360-7bc6-4cdb-dbe5-cb9b9639d5d1"
      },
      "execution_count": null,
      "outputs": [
        {
          "output_type": "stream",
          "name": "stdout",
          "text": [
            "\n",
            "기업에서 원하는 이상적인 서비스 기획자는\n",
            "1) 데이터를 추출하고,\n",
            "2) 전처리하고,\n",
            "3) 적절한 테스트도구로 분석하고,\n",
            "4) 결과를 해석하는 \n",
            "역량을 갖춰야 합니다.\n",
            "\n"
          ]
        }
      ]
    },
    {
      "cell_type": "code",
      "source": [
        "x='hee'\n",
        "dir(x)\n"
      ],
      "metadata": {
        "colab": {
          "base_uri": "https://localhost:8080/"
        },
        "id": "mIveGIfWhWse",
        "outputId": "5ac2b750-02ec-4e70-d1d8-0ef64a363076"
      },
      "execution_count": null,
      "outputs": [
        {
          "output_type": "execute_result",
          "data": {
            "text/plain": [
              "['__add__',\n",
              " '__class__',\n",
              " '__contains__',\n",
              " '__delattr__',\n",
              " '__dir__',\n",
              " '__doc__',\n",
              " '__eq__',\n",
              " '__format__',\n",
              " '__ge__',\n",
              " '__getattribute__',\n",
              " '__getitem__',\n",
              " '__getnewargs__',\n",
              " '__gt__',\n",
              " '__hash__',\n",
              " '__init__',\n",
              " '__init_subclass__',\n",
              " '__iter__',\n",
              " '__le__',\n",
              " '__len__',\n",
              " '__lt__',\n",
              " '__mod__',\n",
              " '__mul__',\n",
              " '__ne__',\n",
              " '__new__',\n",
              " '__reduce__',\n",
              " '__reduce_ex__',\n",
              " '__repr__',\n",
              " '__rmod__',\n",
              " '__rmul__',\n",
              " '__setattr__',\n",
              " '__sizeof__',\n",
              " '__str__',\n",
              " '__subclasshook__',\n",
              " 'capitalize',\n",
              " 'casefold',\n",
              " 'center',\n",
              " 'count',\n",
              " 'encode',\n",
              " 'endswith',\n",
              " 'expandtabs',\n",
              " 'find',\n",
              " 'format',\n",
              " 'format_map',\n",
              " 'index',\n",
              " 'isalnum',\n",
              " 'isalpha',\n",
              " 'isascii',\n",
              " 'isdecimal',\n",
              " 'isdigit',\n",
              " 'isidentifier',\n",
              " 'islower',\n",
              " 'isnumeric',\n",
              " 'isprintable',\n",
              " 'isspace',\n",
              " 'istitle',\n",
              " 'isupper',\n",
              " 'join',\n",
              " 'ljust',\n",
              " 'lower',\n",
              " 'lstrip',\n",
              " 'maketrans',\n",
              " 'partition',\n",
              " 'replace',\n",
              " 'rfind',\n",
              " 'rindex',\n",
              " 'rjust',\n",
              " 'rpartition',\n",
              " 'rsplit',\n",
              " 'rstrip',\n",
              " 'split',\n",
              " 'splitlines',\n",
              " 'startswith',\n",
              " 'strip',\n",
              " 'swapcase',\n",
              " 'title',\n",
              " 'translate',\n",
              " 'upper',\n",
              " 'zfill']"
            ]
          },
          "metadata": {},
          "execution_count": 75
        }
      ]
    },
    {
      "cell_type": "code",
      "source": [
        "# 문자열의 인덱스와 슬라이싱\n",
        "x='I am happy'\n",
        "print(x[0])\n",
        "print(x[1:3])\n",
        "print(x[-1])\n",
        "print(x[2:])\n",
        "print(x[:4])\n",
        "print(x[:])#모든 요소(element) 조회\n"
      ],
      "metadata": {
        "colab": {
          "base_uri": "https://localhost:8080/"
        },
        "id": "qbGRCwTIhWjb",
        "outputId": "4555bf11-dde1-4887-bf0e-5fc5498a4b02"
      },
      "execution_count": null,
      "outputs": [
        {
          "output_type": "stream",
          "name": "stdout",
          "text": [
            "I\n",
            " a\n",
            "y\n",
            "am happy\n",
            "I am\n",
            "I am happy\n"
          ]
        }
      ]
    },
    {
      "cell_type": "markdown",
      "source": [
        "# 숫자형\n",
        " -  정수형: int(integer)\n",
        " -  실수형: float(floating point= 부동 소수점)"
      ],
      "metadata": {
        "id": "wWJycyrc7HXL"
      }
    },
    {
      "cell_type": "code",
      "source": [
        "myNum=10\n",
        "print(myNum)\n",
        "print(type(myNum))"
      ],
      "metadata": {
        "colab": {
          "base_uri": "https://localhost:8080/"
        },
        "id": "u2gRJ0PH7GiA",
        "outputId": "c6c6db11-d91a-4de4-abb8-a4f7e30ed234"
      },
      "execution_count": null,
      "outputs": [
        {
          "output_type": "stream",
          "name": "stdout",
          "text": [
            "10\n",
            "<class 'int'>\n"
          ]
        }
      ]
    },
    {
      "cell_type": "code",
      "source": [
        "#help(int)"
      ],
      "metadata": {
        "id": "0iBQiqsl7Gfx"
      },
      "execution_count": null,
      "outputs": []
    },
    {
      "cell_type": "code",
      "source": [
        "myNum=10+10.5\n",
        "myNum\n"
      ],
      "metadata": {
        "colab": {
          "base_uri": "https://localhost:8080/"
        },
        "id": "Aed_vKbA7GdQ",
        "outputId": "928c86c4-b0bd-4e6f-f893-db0cc5188042"
      },
      "execution_count": null,
      "outputs": [
        {
          "output_type": "execute_result",
          "data": {
            "text/plain": [
              "20.5"
            ]
          },
          "metadata": {},
          "execution_count": 80
        }
      ]
    },
    {
      "cell_type": "code",
      "source": [
        "# swap 알고리즘1\n",
        "a=10\n",
        "b=20\n",
        "tmp=a\n",
        "a=b\n",
        "b=tmp"
      ],
      "metadata": {
        "id": "QpEGDk-x7Gaq"
      },
      "execution_count": null,
      "outputs": []
    },
    {
      "cell_type": "code",
      "source": [
        "# swap 알고리즘2\n",
        "a,b=10,20\n",
        "print(a,b)\n",
        "a,b=b,a\n",
        "print(a,b)"
      ],
      "metadata": {
        "colab": {
          "base_uri": "https://localhost:8080/"
        },
        "id": "rk92FkwR7GYL",
        "outputId": "e7f86071-2e7e-42c3-9ccc-94693e796885"
      },
      "execution_count": null,
      "outputs": [
        {
          "output_type": "stream",
          "name": "stdout",
          "text": [
            "10 20\n",
            "20 10\n"
          ]
        }
      ]
    },
    {
      "cell_type": "markdown",
      "source": [
        "## 논리형 \n",
        " - 참: True\n",
        " - 거짓: False"
      ],
      "metadata": {
        "id": "mPRUcZyM756X"
      }
    },
    {
      "cell_type": "code",
      "source": [
        "flag=True\n",
        "print(flag)\n",
        "print(10>20)"
      ],
      "metadata": {
        "colab": {
          "base_uri": "https://localhost:8080/"
        },
        "id": "JHvlmSD57GVr",
        "outputId": "e26cd285-520a-4d7b-ebe6-438466aabb6c"
      },
      "execution_count": null,
      "outputs": [
        {
          "output_type": "stream",
          "name": "stdout",
          "text": [
            "True\n",
            "False\n"
          ]
        }
      ]
    },
    {
      "cell_type": "markdown",
      "source": [
        "## 자료형 조회와 형변환"
      ],
      "metadata": {
        "id": "RrTTvlZJ8NLG"
      }
    },
    {
      "cell_type": "code",
      "source": [
        "name='hee'\n",
        "age=24\n",
        "job=True\n",
        "print(type(name))\n",
        "print(type(age))\n",
        "print(type(job))"
      ],
      "metadata": {
        "colab": {
          "base_uri": "https://localhost:8080/"
        },
        "id": "UIzLU49q7GNA",
        "outputId": "0f856ed0-b489-4662-9db5-a284cf01536c"
      },
      "execution_count": null,
      "outputs": [
        {
          "output_type": "stream",
          "name": "stdout",
          "text": [
            "<class 'str'>\n",
            "<class 'int'>\n",
            "<class 'bool'>\n"
          ]
        }
      ]
    },
    {
      "cell_type": "code",
      "source": [
        "type(name)==type(age)"
      ],
      "metadata": {
        "colab": {
          "base_uri": "https://localhost:8080/"
        },
        "id": "2XVnu9su8SMn",
        "outputId": "7005094e-e109-4a9e-afcd-e06e1aafe9cc"
      },
      "execution_count": null,
      "outputs": [
        {
          "output_type": "execute_result",
          "data": {
            "text/plain": [
              "False"
            ]
          },
          "metadata": {},
          "execution_count": 87
        }
      ]
    },
    {
      "cell_type": "code",
      "source": [
        "job=True\n",
        "job=str(job)\n",
        "age='10'\n",
        "print(int(age))\n",
        "\n",
        "print(type(job))\n",
        "#print(float(age))\n",
        "#print(str(job))\n",
        "#print(int('10'))"
      ],
      "metadata": {
        "colab": {
          "base_uri": "https://localhost:8080/"
        },
        "id": "EjqL0Hje8SFS",
        "outputId": "ac880477-5f30-40a8-9f95-4c68f7798d6e"
      },
      "execution_count": null,
      "outputs": [
        {
          "output_type": "stream",
          "name": "stdout",
          "text": [
            "10\n",
            "<class 'str'>\n"
          ]
        }
      ]
    },
    {
      "cell_type": "markdown",
      "source": [
        "# 기본연사자 활용\n",
        "\n",
        "산술연산자, 대입(할당)연산자, 복합대입연산자,\n",
        "문자열 연산자"
      ],
      "metadata": {
        "id": "k82sNwzEt20b"
      }
    },
    {
      "cell_type": "markdown",
      "source": [
        "## 문제1 : 공평하게 나누기\n",
        "펭수는 47개의 빵을 2개씩 같은 과 친구들에게 나누어 주고 남은 빵은 자기가 먹으려고 한다. 최대 몇 명에게 나누어 줄 수 있는 지를 구하고, 남은 빵의 개수도 구해보자"
      ],
      "metadata": {
        "id": "SVx3v0TZ8lzX"
      }
    },
    {
      "cell_type": "code",
      "source": [
        "bread = 47\n",
        "count = 2\n",
        "maxCount = bread // count\n",
        "rest = bread % count\n",
        "print(maxCount)\n",
        "print(rest)"
      ],
      "metadata": {
        "id": "7QoMTr8_tHPW",
        "colab": {
          "base_uri": "https://localhost:8080/"
        },
        "outputId": "bf66467c-69e0-4456-e498-94056eb4e559"
      },
      "execution_count": null,
      "outputs": [
        {
          "output_type": "stream",
          "name": "stdout",
          "text": [
            "23\n",
            "1\n"
          ]
        }
      ]
    },
    {
      "cell_type": "markdown",
      "source": [
        "# 문제1-2\n",
        "정수 123을 각 자릿수로 분리하시오"
      ],
      "metadata": {
        "id": "kwnsJmBX8t6d"
      }
    },
    {
      "cell_type": "code",
      "source": [
        "n=123\n",
        "d100=n//100\n",
        "rem=n%100\n",
        "d10=rem//10\n",
        "d1=rem%10\n",
        "print(f'백의자리:{d100},십의자리{d10},일의자리{d1}')"
      ],
      "metadata": {
        "colab": {
          "base_uri": "https://localhost:8080/"
        },
        "id": "igLZ0KiL8s9s",
        "outputId": "1207488f-3e9f-4445-c849-5bf26bd4a982"
      },
      "execution_count": null,
      "outputs": [
        {
          "output_type": "stream",
          "name": "stdout",
          "text": [
            "백의자리:1,십의자리2,일의자리3\n"
          ]
        }
      ]
    },
    {
      "cell_type": "markdown",
      "source": [
        "## 문제 2 : 달러 환전액과 잔액구하기\n",
        "해외 여행을 위해 한국 돈을 미국 돈으로 환전하고 자 한다.\n",
        "1달러가 1140원이라고 할 때 100만원을 환전하면 몇 달러로 받을 수 있을까요? 그리고 환전 후 남은 금액(잔액)은 얼마인지 계산해보자."
      ],
      "metadata": {
        "id": "mNCguDal8six"
      }
    },
    {
      "cell_type": "code",
      "source": [
        "money = 1000000\n",
        "rate = 1140\n",
        "moneyExchanged = money // rate\n",
        "change = money % rate\n",
        "print(moneyExchanged)\n",
        "print(change)"
      ],
      "metadata": {
        "colab": {
          "base_uri": "https://localhost:8080/"
        },
        "id": "TJn3zvJ686NT",
        "outputId": "36d87980-5df5-480f-ee50-abb3b0036226"
      },
      "execution_count": null,
      "outputs": [
        {
          "output_type": "stream",
          "name": "stdout",
          "text": [
            "877\n",
            "220\n"
          ]
        }
      ]
    },
    {
      "cell_type": "markdown",
      "source": [
        "# 입력함수 : input()"
      ],
      "metadata": {
        "id": "1Cu_7RK28rxz"
      }
    },
    {
      "cell_type": "code",
      "source": [
        "a=int(input('num1:'))\n",
        "b=int(input('num2:'))\n",
        "print(a+b)"
      ],
      "metadata": {
        "colab": {
          "base_uri": "https://localhost:8080/"
        },
        "id": "-5oCFiTb9E08",
        "outputId": "d0bfface-4afe-419c-e1d1-8d2015df7ee5"
      },
      "execution_count": null,
      "outputs": [
        {
          "output_type": "stream",
          "name": "stdout",
          "text": [
            "num1:12\n",
            "num2:20\n",
            "32\n"
          ]
        }
      ]
    },
    {
      "cell_type": "code",
      "source": [
        "# 판매금액을 입력받아\n",
        "# 할인율은 10%, 최종 판매금액을 출력해보자.\n",
        "\n",
        "price=int(input('price:'))\n",
        "discount=price*0.1\n",
        "pay=price-discount\n",
        "print(int(pay))"
      ],
      "metadata": {
        "colab": {
          "base_uri": "https://localhost:8080/"
        },
        "id": "6pvnYWEu9H7C",
        "outputId": "2a274c73-c351-4ef4-cef6-23b5ad8e3426"
      },
      "execution_count": null,
      "outputs": [
        {
          "output_type": "stream",
          "name": "stdout",
          "text": [
            "price:1000\n",
            "900\n"
          ]
        }
      ]
    },
    {
      "cell_type": "markdown",
      "source": [
        "#출력함수 : print()\n",
        "* 콤마(,)로 구분하여 출력하는 형태\n",
        "* % 형식지정자를 이용하는 형태\n",
        "* str.format( ) 함수를 이용하는 형태\n",
        "* f-string을 이용하는 형태\n",
        "* 문자열 연결 연산자(+)를 이용한 출력\n",
        "* 키워드 sep를 이용한 출력\n",
        "* 키워드 end를 이용한 출력\n"
      ],
      "metadata": {
        "id": "uPVo8cJN9AUw"
      }
    },
    {
      "cell_type": "code",
      "source": [
        "name='hee'\n",
        "age=20\n",
        "print(name,age)"
      ],
      "metadata": {
        "colab": {
          "base_uri": "https://localhost:8080/"
        },
        "id": "_g1plV3H9OU4",
        "outputId": "433c7ca9-7a16-4117-86d4-9463e33baf5f"
      },
      "execution_count": null,
      "outputs": [
        {
          "output_type": "stream",
          "name": "stdout",
          "text": [
            "hee 20\n"
          ]
        }
      ]
    },
    {
      "cell_type": "code",
      "source": [
        "result='name=%s age=%d' % (name,age)\n",
        "print(result)"
      ],
      "metadata": {
        "colab": {
          "base_uri": "https://localhost:8080/"
        },
        "id": "FH8Q1zAU9OSi",
        "outputId": "db3873ce-acc7-48e8-b64a-07a7b8f51c85"
      },
      "execution_count": null,
      "outputs": [
        {
          "output_type": "stream",
          "name": "stdout",
          "text": [
            "name=hee age=20\n"
          ]
        }
      ]
    },
    {
      "cell_type": "code",
      "source": [
        "result='name={} age={}'.format(name,age)\n",
        "print(result)"
      ],
      "metadata": {
        "colab": {
          "base_uri": "https://localhost:8080/"
        },
        "id": "5WtEyY439OP0",
        "outputId": "0922432a-7dd9-4427-a7be-81f914d87963"
      },
      "execution_count": null,
      "outputs": [
        {
          "output_type": "stream",
          "name": "stdout",
          "text": [
            "name=hee age=20\n"
          ]
        }
      ]
    },
    {
      "cell_type": "code",
      "source": [
        "print(f'name={name}, age={age}')"
      ],
      "metadata": {
        "colab": {
          "base_uri": "https://localhost:8080/"
        },
        "id": "LeFdCALu9aeP",
        "outputId": "12b126be-7744-4d61-8e34-baa052e2e740"
      },
      "execution_count": null,
      "outputs": [
        {
          "output_type": "stream",
          "name": "stdout",
          "text": [
            "name=hee, age=20\n"
          ]
        }
      ]
    },
    {
      "cell_type": "code",
      "source": [
        "print(name+str(age))"
      ],
      "metadata": {
        "colab": {
          "base_uri": "https://localhost:8080/"
        },
        "id": "kQSKBMz_9zhF",
        "outputId": "516a6862-6c50-443b-ee9b-8adc18efb11e"
      },
      "execution_count": null,
      "outputs": [
        {
          "output_type": "stream",
          "name": "stdout",
          "text": [
            "hee20\n"
          ]
        }
      ]
    },
    {
      "cell_type": "code",
      "source": [
        "print(name,end=' ')\n",
        "print(age)"
      ],
      "metadata": {
        "colab": {
          "base_uri": "https://localhost:8080/"
        },
        "id": "dD1m2_bB93W3",
        "outputId": "df7268b1-6751-4d92-9261-00da38be1168"
      },
      "execution_count": null,
      "outputs": [
        {
          "output_type": "stream",
          "name": "stdout",
          "text": [
            "hee 20\n"
          ]
        }
      ]
    },
    {
      "cell_type": "markdown",
      "source": [
        "\n",
        "# 문제3: 챗봇 만들기"
      ],
      "metadata": {
        "id": "La_XaMkq98eU"
      }
    },
    {
      "cell_type": "code",
      "source": [
        "chat='챗봇>'\n",
        "user='사람> '\n",
        "\n",
        "print(chat, '안녕하세요')\n",
        "print(chat, '나는 인공지능 챗봇입니다.')\n",
        "print(chat, '당신의 이름은?')\n",
        "name=input(user)\n",
        "print(chat, name, '학생 반가워요')\n",
        "print(chat, '전공은 무엇인가요?')\n",
        "major=input(user)\n",
        "print(chat, name, '학생은 아주 어려운', major,'을 공부하고 계시네요')\n",
        "print(chat, '다음 주에 또 만나요')"
      ],
      "metadata": {
        "colab": {
          "base_uri": "https://localhost:8080/"
        },
        "id": "PXm5CRSW93UU",
        "outputId": "916570f9-0d43-4d6f-d7c7-7e28287f893c"
      },
      "execution_count": null,
      "outputs": [
        {
          "output_type": "stream",
          "name": "stdout",
          "text": [
            "챗봇> 안녕하세요\n",
            "챗봇> 나는 인공지능 챗봇입니다.\n",
            "챗봇> 당신의 이름은?\n",
            "사람> 뚜비\n",
            "챗봇> 뚜비 학생 반가워요\n",
            "챗봇> 전공은 무엇인가요?\n",
            "사람> 쿠키먹기\n",
            "챗봇> 뚜비 학생은 아주 어려운 쿠키먹기 을 공부하고 계시네요\n",
            "챗봇> 다음 주에 또 만나요\n"
          ]
        }
      ]
    },
    {
      "cell_type": "markdown",
      "source": [
        "# 문제4 : 예산 금액 계산하기"
      ],
      "metadata": {
        "id": "XSbu-Ric-U3I"
      }
    },
    {
      "cell_type": "code",
      "source": [
        "num=int(input('Number of attendees:'))\n",
        "\n",
        "chickens=num\n",
        "beers=num*2\n",
        "coke=num*2\n",
        "\n",
        "print(f'chickens: {chickens}마리')\n",
        "print(f'beers: {beers}캔')\n",
        "print(f'coke: {coke}캔')"
      ],
      "metadata": {
        "colab": {
          "base_uri": "https://localhost:8080/"
        },
        "id": "RelXb9ti93R2",
        "outputId": "6e785f63-c141-4e56-bf59-a3ae0e0af696"
      },
      "execution_count": null,
      "outputs": [
        {
          "output_type": "stream",
          "name": "stdout",
          "text": [
            "Number of attendees:10\n",
            "chickens: 10마리\n",
            "beers: 20캔\n",
            "coke: 20캔\n"
          ]
        }
      ]
    },
    {
      "cell_type": "markdown",
      "source": [
        "# 리스트"
      ],
      "metadata": {
        "id": "om7QH6By-vIm"
      }
    },
    {
      "cell_type": "markdown",
      "source": [
        "## 리스트 생성과 추출"
      ],
      "metadata": {
        "id": "bk6Tiz0f-w2S"
      }
    },
    {
      "cell_type": "code",
      "source": [
        "# 리스트 (객체)생성\n",
        "# dir(list)\n",
        "# help(list)\n",
        "a=[] #list()\n",
        "a=[10,20] # list(range(10))"
      ],
      "metadata": {
        "id": "eG8S5jKl-uoL"
      },
      "execution_count": null,
      "outputs": []
    },
    {
      "cell_type": "code",
      "source": [
        "fruits=['apple','orange','grape','melon']\n",
        "list1=['yonsei','DA',['c','python']]\n",
        "fruits[1:]\n",
        "fruits[:3]\n",
        "fruits[-4:-2]\n",
        "len(fruits)\n",
        "len(list1)"
      ],
      "metadata": {
        "colab": {
          "base_uri": "https://localhost:8080/"
        },
        "id": "Luq2lQ5u93Pc",
        "outputId": "89e8b578-c436-4491-e8e0-0dc197d81375"
      },
      "execution_count": null,
      "outputs": [
        {
          "output_type": "execute_result",
          "data": {
            "text/plain": [
              "3"
            ]
          },
          "metadata": {},
          "execution_count": 104
        }
      ]
    },
    {
      "cell_type": "code",
      "source": [
        "a=[10,20,30,40]\n",
        "b=a[1:3] # 새로운 객체를 생성해서 리턴\n",
        "b\n",
        "hex(id(a)),hex(id(b))"
      ],
      "metadata": {
        "colab": {
          "base_uri": "https://localhost:8080/"
        },
        "id": "2krvFjXC93NI",
        "outputId": "644ca62d-8a7a-4d8f-cb83-f4db9df724d3"
      },
      "execution_count": null,
      "outputs": [
        {
          "output_type": "execute_result",
          "data": {
            "text/plain": [
              "('0x7facd67e63c0', '0x7facd6786b90')"
            ]
          },
          "metadata": {},
          "execution_count": 105
        }
      ]
    },
    {
      "cell_type": "markdown",
      "source": [
        "## 변경가능한 객체(mutable) vs 변경불가능한 객체(immutable)\n",
        "id()함수 : 객체의 고유값(레퍼런스)을 반환하는 함수"
      ],
      "metadata": {
        "id": "OqCIWegYD376"
      }
    },
    {
      "cell_type": "code",
      "source": [
        "a=100 # -5~256 범위는 동일한 주소를 갖는다.\n",
        "b=100\n",
        "print(a,b)\n",
        "print(id(a),id(b))"
      ],
      "metadata": {
        "colab": {
          "base_uri": "https://localhost:8080/"
        },
        "id": "QpxNd0tf93Ks",
        "outputId": "7cf2dc1a-9642-4aa2-830c-c8f9d4a3f039"
      },
      "execution_count": null,
      "outputs": [
        {
          "output_type": "stream",
          "name": "stdout",
          "text": [
            "100 100\n",
            "94364440319584 94364440319584\n"
          ]
        }
      ]
    },
    {
      "cell_type": "markdown",
      "source": [
        "## 변경불가능한 객체\n",
        "- int, float, str, bool, tuple"
      ],
      "metadata": {
        "id": "S6Skt9ZGD-_E"
      }
    },
    {
      "cell_type": "code",
      "source": [
        "a=300\n",
        "b=a # \n",
        "print(id(a),id(b))\n",
        "b='hee'\n",
        "print(id(a),id(b))"
      ],
      "metadata": {
        "colab": {
          "base_uri": "https://localhost:8080/"
        },
        "id": "Yc-_yMxB93IW",
        "outputId": "ce22c143-fe6a-4845-9907-d384fb8c52b6"
      },
      "execution_count": null,
      "outputs": [
        {
          "output_type": "stream",
          "name": "stdout",
          "text": [
            "140380309792560 140380309792560\n",
            "140380309792560 140380309304112\n"
          ]
        }
      ]
    },
    {
      "cell_type": "code",
      "source": [
        "old='abc abc'\n",
        "#old[0]='A'\n",
        "new=old.upper()\n",
        "id(old),id(new)"
      ],
      "metadata": {
        "colab": {
          "base_uri": "https://localhost:8080/"
        },
        "id": "lVCWVJae93F_",
        "outputId": "2d4e5792-e3b7-422a-f967-e03cedbbda3c"
      },
      "execution_count": null,
      "outputs": [
        {
          "output_type": "execute_result",
          "data": {
            "text/plain": [
              "(140380317102320, 140380309306352)"
            ]
          },
          "metadata": {},
          "execution_count": 108
        }
      ]
    },
    {
      "cell_type": "code",
      "source": [
        "# replace(), split()\n",
        "newStr=old.replace('a','A')"
      ],
      "metadata": {
        "id": "zO-qzxlu93Di"
      },
      "execution_count": null,
      "outputs": []
    },
    {
      "cell_type": "code",
      "source": [
        "data=[3,1,2,5,4]\n",
        "print(data)\n",
        "#newdata=data.sort() => data.sort()\n",
        "newdata=sorted(data)\n",
        "print(newdata)\n",
        "print(id(data),id(newdata))"
      ],
      "metadata": {
        "colab": {
          "base_uri": "https://localhost:8080/"
        },
        "id": "PaqKX5vD93BJ",
        "outputId": "8fc161da-0f03-4dbf-d80b-3edd04245aa0"
      },
      "execution_count": null,
      "outputs": [
        {
          "output_type": "stream",
          "name": "stdout",
          "text": [
            "[3, 1, 2, 5, 4]\n",
            "[1, 2, 3, 4, 5]\n",
            "140380309859616 140380310269856\n"
          ]
        }
      ]
    },
    {
      "cell_type": "code",
      "source": [
        "data2=data\n",
        "print(id(data),id(data2))\n",
        "data2[0]=30\n",
        "print(data,data2)\n",
        "print(id(data[0]), id(data2[0]))"
      ],
      "metadata": {
        "colab": {
          "base_uri": "https://localhost:8080/"
        },
        "id": "pK74Cdxj92-v",
        "outputId": "4d22b29a-feab-401f-a3ff-7afcd74be25c"
      },
      "execution_count": null,
      "outputs": [
        {
          "output_type": "stream",
          "name": "stdout",
          "text": [
            "140380309859616 140380309859616\n",
            "[30, 1, 2, 5, 4] [30, 1, 2, 5, 4]\n",
            "94364440317344 94364440317344\n"
          ]
        }
      ]
    },
    {
      "cell_type": "markdown",
      "source": [
        "# 얕은 복사 vs 깊은 복사"
      ],
      "metadata": {
        "id": "v3a499UTEwW6"
      }
    },
    {
      "cell_type": "code",
      "source": [
        "# 변경가능가능 객체\n",
        "arr1=[10,20,30]\n",
        "arr2=arr1 # 주소\n",
        "#arr2[0]=100\n",
        "arr2.append(40)\n",
        "arr1,arr2"
      ],
      "metadata": {
        "colab": {
          "base_uri": "https://localhost:8080/"
        },
        "id": "uVvYQmsL928-",
        "outputId": "fb2ee06d-04b7-4b97-eeaf-721d4b390df0"
      },
      "execution_count": null,
      "outputs": [
        {
          "output_type": "execute_result",
          "data": {
            "text/plain": [
              "([10, 20, 30, 40], [10, 20, 30, 40])"
            ]
          },
          "metadata": {},
          "execution_count": 112
        }
      ]
    },
    {
      "cell_type": "code",
      "source": [
        "#변경불가능 객체\n",
        "a1=10\n",
        "a2=a1\n",
        "print(id(a1),id(a2))\n",
        "a2=100\n",
        "print(id(a1),id(a2))"
      ],
      "metadata": {
        "colab": {
          "base_uri": "https://localhost:8080/"
        },
        "id": "NuO46vlj926c",
        "outputId": "00d00cd4-a9b5-4a83-ff0d-e5222b73d277"
      },
      "execution_count": null,
      "outputs": [
        {
          "output_type": "stream",
          "name": "stdout",
          "text": [
            "94364440316704 94364440316704\n",
            "94364440316704 94364440319584\n"
          ]
        }
      ]
    },
    {
      "cell_type": "code",
      "source": [
        "# 리스트\n",
        "a=[1,2,3,4]\n",
        "b=a.copy() # a[:]\n",
        "print(id(a),id(b))\n",
        "print(id(a[0]),id(b[0]))\n",
        "b[0]=10\n",
        "print(a,b)\n",
        "print(id(a[0]),id(b[0]))"
      ],
      "metadata": {
        "colab": {
          "base_uri": "https://localhost:8080/"
        },
        "id": "O1VTfOdl924H",
        "outputId": "1b52431c-7aeb-42d0-d8c8-ed53b55bbb28"
      },
      "execution_count": null,
      "outputs": [
        {
          "output_type": "stream",
          "name": "stdout",
          "text": [
            "140380309918656 140380309918416\n",
            "94364440316416 94364440316416\n",
            "[1, 2, 3, 4] [10, 2, 3, 4]\n",
            "94364440316416 94364440316704\n"
          ]
        }
      ]
    },
    {
      "cell_type": "code",
      "source": [
        "a=[[1,2],[3,4]]\n",
        "b=a.copy() # a[:]\n",
        "print(id(a),id(b))\n",
        "print(id(a[0]),id(b[0]))\n",
        "b[0].append(30)\n",
        "print(a)\n",
        "print(b)\n"
      ],
      "metadata": {
        "colab": {
          "base_uri": "https://localhost:8080/"
        },
        "id": "m3rZNvMb921t",
        "outputId": "fb5fade9-9085-49f5-c978-ef2d884767de"
      },
      "execution_count": null,
      "outputs": [
        {
          "output_type": "stream",
          "name": "stdout",
          "text": [
            "140380309707584 140380309370832\n",
            "140380309369952 140380309369952\n",
            "[[1, 2, 30], [3, 4]]\n",
            "[[1, 2, 30], [3, 4]]\n"
          ]
        }
      ]
    },
    {
      "cell_type": "code",
      "source": [
        "# 깊은복사(deepcopy)\n",
        "import copy\n",
        "a=[[1,2],[3,4]]\n",
        "b=copy.deepcopy(a)\n",
        "print(id(a),id(b))\n",
        "print(id(a[0]),id(b[0]))\n",
        "b[0].append(30)\n",
        "print(a)\n",
        "print(b)\n",
        "print(\"_\" * 60)\n",
        "a,b\n",
        "\n",
        "\n",
        "\n"
      ],
      "metadata": {
        "colab": {
          "base_uri": "https://localhost:8080/"
        },
        "id": "TpDI2Kc_92zT",
        "outputId": "d5be33cf-c150-40f5-83d0-4f104a4325a7"
      },
      "execution_count": null,
      "outputs": [
        {
          "output_type": "stream",
          "name": "stdout",
          "text": [
            "140380309377504 140380310033584\n",
            "140380309382080 140380309917600\n",
            "[[1, 2], [3, 4]]\n",
            "[[1, 2, 30], [3, 4]]\n",
            "____________________________________________________________\n"
          ]
        },
        {
          "output_type": "execute_result",
          "data": {
            "text/plain": [
              "([[1, 2], [3, 4]], [[1, 2, 30], [3, 4]])"
            ]
          },
          "metadata": {},
          "execution_count": 123
        }
      ]
    },
    {
      "cell_type": "markdown",
      "source": [
        "## 리스트 조작함수(메소드)\n",
        "\n",
        "![image.png](data:image/png;base64,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)"
      ],
      "metadata": {
        "id": "326MfhEQGSbW"
      }
    },
    {
      "cell_type": "code",
      "source": [
        "a=[3,2,1,5,4]\n",
        "a.append(10)\n",
        "a\n",
        "a.insert(1,15)\n",
        "a\n",
        "a.sort()\n",
        "a\n",
        "a.sort(reverse=True) # 내림차순\n",
        "a\n",
        "a.count(10) # \n",
        "a.pop()\n",
        "a\n",
        "\n"
      ],
      "metadata": {
        "colab": {
          "base_uri": "https://localhost:8080/"
        },
        "id": "Q9ZazOWt92xE",
        "outputId": "812369d9-6839-48f3-9012-b5aff4aee29c"
      },
      "execution_count": null,
      "outputs": [
        {
          "output_type": "execute_result",
          "data": {
            "text/plain": [
              "[15, 10, 5, 4, 3, 2]"
            ]
          },
          "metadata": {},
          "execution_count": 39
        }
      ]
    },
    {
      "cell_type": "code",
      "source": [
        "a.pop(0)"
      ],
      "metadata": {
        "colab": {
          "base_uri": "https://localhost:8080/"
        },
        "id": "hqvB8u-V92u6",
        "outputId": "7fbf4c38-7b67-43a4-ec03-bc2bc6ce02ff"
      },
      "execution_count": null,
      "outputs": [
        {
          "output_type": "execute_result",
          "data": {
            "text/plain": [
              "15"
            ]
          },
          "metadata": {},
          "execution_count": 125
        }
      ]
    },
    {
      "cell_type": "code",
      "source": [
        "a"
      ],
      "metadata": {
        "colab": {
          "base_uri": "https://localhost:8080/"
        },
        "id": "beM_XPUK92sT",
        "outputId": "04ba733a-b759-4240-f54b-d6833be5266c"
      },
      "execution_count": null,
      "outputs": [
        {
          "output_type": "execute_result",
          "data": {
            "text/plain": [
              "[10, 5, 4, 3, 2]"
            ]
          },
          "metadata": {},
          "execution_count": 126
        }
      ]
    },
    {
      "cell_type": "code",
      "source": [
        "a.remove(10)"
      ],
      "metadata": {
        "id": "QWMkbFTy92qv"
      },
      "execution_count": null,
      "outputs": []
    },
    {
      "cell_type": "code",
      "source": [
        "a"
      ],
      "metadata": {
        "colab": {
          "base_uri": "https://localhost:8080/"
        },
        "id": "dcAzxaTl92oB",
        "outputId": "ebaf9f58-6c0b-4fd7-ad2d-51435f596c2c"
      },
      "execution_count": null,
      "outputs": [
        {
          "output_type": "execute_result",
          "data": {
            "text/plain": [
              "[5, 4, 3, 2]"
            ]
          },
          "metadata": {},
          "execution_count": 128
        }
      ]
    },
    {
      "cell_type": "code",
      "source": [
        "a=[1,2,3,4]\n",
        "b=a.copy() # a[:] # 얕은복사\n",
        "print(id(a),id(b))\n",
        "print(id(a[0]), id(b[0]))\n",
        "print(a,b)\n",
        "b[0]=10 # 새로운 정수 객체를 생성 \n",
        "print(id(a[0]), id(b[0]))\n",
        "print(a,b)"
      ],
      "metadata": {
        "colab": {
          "base_uri": "https://localhost:8080/"
        },
        "id": "kIDRNngx92l_",
        "outputId": "141b3be7-28ce-4750-a29c-1dccb3731e97"
      },
      "execution_count": null,
      "outputs": [
        {
          "output_type": "stream",
          "name": "stdout",
          "text": [
            "140380309414928 140380309372672\n",
            "94364440316416 94364440316416\n",
            "[1, 2, 3, 4] [1, 2, 3, 4]\n",
            "94364440316416 94364440316704\n",
            "[1, 2, 3, 4] [10, 2, 3, 4]\n"
          ]
        }
      ]
    },
    {
      "cell_type": "code",
      "source": [
        "# 개수반환\n",
        "a=[45,20,10,10]\n",
        "a.count(10)"
      ],
      "metadata": {
        "colab": {
          "base_uri": "https://localhost:8080/"
        },
        "id": "LPw5kBGCH1n9",
        "outputId": "0216601b-dbb7-4fb9-a89d-7aed6ddca5bb"
      },
      "execution_count": null,
      "outputs": [
        {
          "output_type": "execute_result",
          "data": {
            "text/plain": [
              "2"
            ]
          },
          "metadata": {},
          "execution_count": 135
        }
      ]
    },
    {
      "cell_type": "markdown",
      "source": [
        "# 딕셔너리"
      ],
      "metadata": {
        "id": "Qj47nyRGG7n7"
      }
    },
    {
      "cell_type": "markdown",
      "source": [
        "## 딕셔너리 조작 함수\n",
        "- .keys()\n",
        "- .values()\n",
        "- .items()\n",
        "- .get(keys, 대체값)\n",
        "\n",
        "\n",
        "![image.png](data:image/png;base64,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)"
      ],
      "metadata": {
        "id": "50JKEZ5-7b4_"
      }
    },
    {
      "cell_type": "code",
      "source": [
        "# 딕셔너리 생성방법\n",
        "info={} # dict()\n",
        "info={100:'a',200:'b'}\n",
        "info\n",
        "#help(dict)\n",
        "info=dict(name='hee',age=20)\n",
        "#\n",
        "info={}\n",
        "for k,v in [('name','hee'),('age',20)]:\n",
        "  info[k]=v\n",
        "info"
      ],
      "metadata": {
        "colab": {
          "base_uri": "https://localhost:8080/"
        },
        "id": "Yp4bcQDv92j9",
        "outputId": "ea121ac2-5a39-4fed-b32e-717a7f24572d"
      },
      "execution_count": null,
      "outputs": [
        {
          "output_type": "execute_result",
          "data": {
            "text/plain": [
              "{'age': 20, 'name': 'hee'}"
            ]
          },
          "metadata": {},
          "execution_count": 130
        }
      ]
    },
    {
      "cell_type": "code",
      "source": [
        "info={100:'a',200:'b'}\n",
        "# 추가 -- setdefault, update\n",
        "info[100]='c'\n",
        "info\n",
        "# 수정\n",
        "\n",
        "# 삭제\n",
        "#info.pop(100)\n",
        "# 검색\n"
      ],
      "metadata": {
        "colab": {
          "base_uri": "https://localhost:8080/"
        },
        "id": "W5Luo8F492h5",
        "outputId": "56463d1a-2dad-4f9e-d39f-6944fe420686"
      },
      "execution_count": null,
      "outputs": [
        {
          "output_type": "execute_result",
          "data": {
            "text/plain": [
              "{100: 'c', 200: 'b'}"
            ]
          },
          "metadata": {},
          "execution_count": 131
        }
      ]
    },
    {
      "cell_type": "code",
      "source": [
        "#info[300]\n",
        "info.get(300,'not found')"
      ],
      "metadata": {
        "colab": {
          "base_uri": "https://localhost:8080/",
          "height": 35
        },
        "id": "Oup5jkaD92fO",
        "outputId": "a19ff0cc-96e4-42b5-9e20-136f5b844081"
      },
      "execution_count": null,
      "outputs": [
        {
          "output_type": "execute_result",
          "data": {
            "text/plain": [
              "'not found'"
            ],
            "application/vnd.google.colaboratory.intrinsic+json": {
              "type": "string"
            }
          },
          "metadata": {},
          "execution_count": 132
        }
      ]
    },
    {
      "cell_type": "code",
      "source": [
        "info.get(200,'not found')"
      ],
      "metadata": {
        "colab": {
          "base_uri": "https://localhost:8080/",
          "height": 35
        },
        "id": "IupKfzLn92dB",
        "outputId": "27ae5a28-67ba-4672-c7e0-89bdabb41bdc"
      },
      "execution_count": null,
      "outputs": [
        {
          "output_type": "execute_result",
          "data": {
            "text/plain": [
              "'b'"
            ],
            "application/vnd.google.colaboratory.intrinsic+json": {
              "type": "string"
            }
          },
          "metadata": {},
          "execution_count": 133
        }
      ]
    },
    {
      "cell_type": "code",
      "source": [
        "info={'name':'hee','age':20}\n",
        "info"
      ],
      "metadata": {
        "colab": {
          "base_uri": "https://localhost:8080/"
        },
        "id": "Pg8PmW-rH_Q5",
        "outputId": "cc47b932-4cce-4e50-f6bd-c7fbf61df779"
      },
      "execution_count": null,
      "outputs": [
        {
          "output_type": "execute_result",
          "data": {
            "text/plain": [
              "{'age': 20, 'name': 'hee'}"
            ]
          },
          "metadata": {},
          "execution_count": 137
        }
      ]
    },
    {
      "cell_type": "code",
      "source": [
        "info.keys()"
      ],
      "metadata": {
        "colab": {
          "base_uri": "https://localhost:8080/"
        },
        "id": "4TkESkzRH_Af",
        "outputId": "100e8495-8b00-4f11-cfea-c2970da9a43e"
      },
      "execution_count": null,
      "outputs": [
        {
          "output_type": "execute_result",
          "data": {
            "text/plain": [
              "dict_keys(['name', 'age'])"
            ]
          },
          "metadata": {},
          "execution_count": 140
        }
      ]
    },
    {
      "cell_type": "code",
      "source": [
        "info.items()"
      ],
      "metadata": {
        "colab": {
          "base_uri": "https://localhost:8080/"
        },
        "id": "3LzRoAveH-23",
        "outputId": "d228c081-f306-477e-def5-58f130cd417a"
      },
      "execution_count": null,
      "outputs": [
        {
          "output_type": "execute_result",
          "data": {
            "text/plain": [
              "dict_items([('name', 'hee'), ('age', 20)])"
            ]
          },
          "metadata": {},
          "execution_count": 141
        }
      ]
    },
    {
      "cell_type": "code",
      "source": [
        "del info['age']"
      ],
      "metadata": {
        "id": "4EmrrB4gH-w4"
      },
      "execution_count": null,
      "outputs": []
    },
    {
      "cell_type": "code",
      "source": [
        "info"
      ],
      "metadata": {
        "colab": {
          "base_uri": "https://localhost:8080/"
        },
        "id": "MaGU5WsAIYjS",
        "outputId": "7f2ed2fe-cbc0-440e-d2bb-aa946ecf3c71"
      },
      "execution_count": null,
      "outputs": [
        {
          "output_type": "execute_result",
          "data": {
            "text/plain": [
              "{'name': 'hee'}"
            ]
          },
          "metadata": {},
          "execution_count": 144
        }
      ]
    },
    {
      "cell_type": "code",
      "source": [
        "info.pop('name')"
      ],
      "metadata": {
        "colab": {
          "base_uri": "https://localhost:8080/",
          "height": 35
        },
        "id": "Rdfq9xRiIVBu",
        "outputId": "dfb1de8e-cc19-4b41-c7fe-680cea502655"
      },
      "execution_count": null,
      "outputs": [
        {
          "output_type": "execute_result",
          "data": {
            "text/plain": [
              "'hee'"
            ],
            "application/vnd.google.colaboratory.intrinsic+json": {
              "type": "string"
            }
          },
          "metadata": {},
          "execution_count": 146
        }
      ]
    },
    {
      "cell_type": "markdown",
      "source": [
        "# 세트 자료형\n",
        "\n"
      ],
      "metadata": {
        "id": "cv-xJAdtIUyY"
      }
    },
    {
      "cell_type": "code",
      "source": [
        "# set 생성\n",
        "set1={10,20,30,30}\n",
        "set1\n",
        "#set2=set(1,2,3)\n",
        "set2=set() # 문자열, 리스트 딕셔너리\n",
        "set2"
      ],
      "metadata": {
        "colab": {
          "base_uri": "https://localhost:8080/"
        },
        "id": "XV8cWvTOIjwh",
        "outputId": "ad0f64bb-3cec-48fc-dba4-cec934c8be45"
      },
      "execution_count": null,
      "outputs": [
        {
          "output_type": "execute_result",
          "data": {
            "text/plain": [
              "set()"
            ]
          },
          "metadata": {},
          "execution_count": 147
        }
      ]
    },
    {
      "cell_type": "code",
      "source": [
        "# 세트조작함수\n",
        "a={10,20,30}\n",
        "b={20,40}\n",
        "a&b # 교집합\n",
        "a.intersection(b)\n",
        "a|b # 합집합\n",
        "a.union(b)\n",
        "a-b\n",
        "a.difference(b)\n",
        "a.add(40)\n",
        "a\n",
        "a.update([40,50])\n",
        "a\n",
        "a.remove(10)\n",
        "a\n"
      ],
      "metadata": {
        "colab": {
          "base_uri": "https://localhost:8080/"
        },
        "id": "T_9BhGD0Iji0",
        "outputId": "7110f9fe-e8d0-4a96-9fa1-7c4038f1805d"
      },
      "execution_count": null,
      "outputs": [
        {
          "output_type": "execute_result",
          "data": {
            "text/plain": [
              "{20, 30, 40, 50}"
            ]
          },
          "metadata": {},
          "execution_count": 148
        }
      ]
    },
    {
      "cell_type": "markdown",
      "source": [
        "# 응용문제1 : 리스트 조작함수\n",
        "* 1) 학생이 2명[＇로제＇, ＇ 아이유＇]인 동아리에 ＇브레이브걸스＇가 \n",
        "가입을 했다고 가정하 고, ＇ 브레이브걸스 ＇ 를 리스트 맨 뒤에 추가하고 리스트 모든 요소를 출력하세요\n",
        "* 2) 위 리스트에 동명이인인 “로제”가 새로 가입을 했다고 가정하고 요소 “아이유” 뒤에 “로제” 를 추가하고 리스트 모든 요소를 출력하세요\n",
        "* 3) “로제”는 몇 명인지 출력하세요.\n",
        "* 4) “브레이브걸스”가 동아리 탈퇴를 하였다. 리스트에서 “브레이브걸스”를 찾아 삭제하고 리스 트 모든 요소를 출력하세요\n",
        "* 5) 본인의 이름을 리스트 마지막 요소에 추가하고 리스트 모든 요소를 출력하세요\n",
        "* 6) 현재 리스트 요소들을 오름차순으로 정렬하여 리스트 모든 요소를 출력하세요\n",
        "* 7) 현재 남아 있는 학생 인원수를 출력하세요."
      ],
      "metadata": {
        "id": "mLMrPb1wHhbJ"
      }
    },
    {
      "cell_type": "code",
      "source": [
        "club=['로제','아이유']\n",
        "print('초기 동아리 회원', club)\n",
        "\n",
        "club.append('브레이브걸스')\n",
        "print(1,club)\n",
        "\n",
        "club.insert(2,'로제')\n",
        "print(2,club)\n",
        "\n",
        "print(3,club.count('로제'))\n",
        "\n",
        "club.remove('브레이브걸스')\n",
        "print(4,club)\n",
        "\n",
        "club.append('양숙희')\n",
        "print(5,club)\n",
        "\n",
        "club.sort()\n",
        "print(6,club)\n",
        "\n",
        "print(7,len(club))\n"
      ],
      "metadata": {
        "colab": {
          "base_uri": "https://localhost:8080/"
        },
        "id": "do8pFtoTHsGf",
        "outputId": "9fe976f6-1618-4771-fcdb-f457ff1f8701"
      },
      "execution_count": null,
      "outputs": [
        {
          "output_type": "stream",
          "name": "stdout",
          "text": [
            "초기 동아리 회원 ['로제', '아이유']\n",
            "1 ['로제', '아이유', '브레이브걸스']\n",
            "2 ['로제', '아이유', '로제', '브레이브걸스']\n",
            "3 2\n",
            "4 ['로제', '아이유', '로제']\n",
            "5 ['로제', '아이유', '로제', '양숙희']\n",
            "6 ['로제', '로제', '아이유', '양숙희']\n",
            "7 4\n"
          ]
        }
      ]
    },
    {
      "cell_type": "markdown",
      "source": [
        "# 응용문제2: 딕셔너리 조작함수\n",
        "1. 이름과 전화번호를 딕셔너리로 구성\n",
        "2. 전체조회 : 주소록 모든 정보를 출력한다.\n",
        "3. 조회기능 : 이름을 입력하면 이름, 전화번호가 출력된다.\n",
        "4. 추가기능 : 새로운 친구의 이름과 전화번호를 등록한다.\n",
        "5. 수정기능 : 친구 전화번호를 수정한다.\n",
        "6. 삭제기능 : 친구 목록을 삭제한다. \n",
        "7. 전체친구의 수를 출력한다."
      ],
      "metadata": {
        "id": "PWzvc3dJHl0Q"
      }
    },
    {
      "cell_type": "code",
      "source": [
        "# 주소록 만들기\n",
        "phone={}\n",
        "phone['제니']='010-0000-0000'\n",
        "phone['로제']='010-0000-0000'\n",
        "phone['리사']='010-0000-0000'\n",
        "\n",
        "# 1. 전체조회\n",
        "print(phone)"
      ],
      "metadata": {
        "colab": {
          "base_uri": "https://localhost:8080/"
        },
        "id": "6ERCFqWfHhAV",
        "outputId": "47b05414-45af-4d56-d7e6-872f2524a3f4"
      },
      "execution_count": null,
      "outputs": [
        {
          "output_type": "stream",
          "name": "stdout",
          "text": [
            "{'제니': '010-0000-0000', '로제': '010-0000-0000', '리사': '010-0000-0000'}\n"
          ]
        }
      ]
    },
    {
      "cell_type": "code",
      "source": [
        "# 2. 이름으로 전화번호조회\n",
        "name=input('name:')\n",
        "#print(name,phone[name])\n",
        "print(name, phone.get(name,'not Found'))"
      ],
      "metadata": {
        "colab": {
          "base_uri": "https://localhost:8080/"
        },
        "id": "tK3rUBfV92a8",
        "outputId": "07e7b18e-1b1b-471c-883f-445d1fd3a586"
      },
      "execution_count": null,
      "outputs": [
        {
          "output_type": "stream",
          "name": "stdout",
          "text": [
            "name:로제\n",
            "로제 010-0000-0000\n"
          ]
        }
      ]
    },
    {
      "cell_type": "code",
      "source": [
        "# 3. 추가기능\n",
        "name=input('insert name:')\n",
        "tel=input('phone number:')\n",
        "phone[name]=tel\n",
        "#phone.setdefault(name,tel)\n",
        "print('추가', phone)"
      ],
      "metadata": {
        "colab": {
          "base_uri": "https://localhost:8080/"
        },
        "id": "LBukZZHB92Yk",
        "outputId": "65d819f2-4068-4a54-dd7c-551b497a626e"
      },
      "execution_count": null,
      "outputs": [
        {
          "output_type": "stream",
          "name": "stdout",
          "text": [
            "insert name:아이유\n",
            "phone number:010-0000-0000\n",
            "추가 {'제니': '010-0000-0000', '로제': '010-0000-0000', '리사': '010-0000-0000', '아이유': '010-0000-0000'}\n"
          ]
        }
      ]
    },
    {
      "cell_type": "code",
      "source": [
        "# 4. 수정기능\n",
        "name=input('insert name:')\n",
        "tel=input('phone number:')\n",
        "#phone[name]=tel\n",
        "#phone.update(phone[name] = tel)\n",
        "phone.update({name:tel})\n",
        "print('수정', phone)"
      ],
      "metadata": {
        "colab": {
          "base_uri": "https://localhost:8080/"
        },
        "id": "BTapQ_lp92V1",
        "outputId": "b1142c01-1d44-4a0d-b57e-f7cb801209e2"
      },
      "execution_count": null,
      "outputs": [
        {
          "output_type": "stream",
          "name": "stdout",
          "text": [
            "insert name:수지\n",
            "phone number:123456789\n",
            "수정 {'제니': '010-0000-0000', '로제': '010-0000-0000', '리사': '010-0000-0000', '아이유': '01023454', '수지': '123456789'}\n"
          ]
        }
      ]
    },
    {
      "cell_type": "code",
      "source": [
        "# 5. 삭제기능\n",
        "name=input('delete name:')\n",
        "phone.pop(name)\n",
        "print('삭제', phone)"
      ],
      "metadata": {
        "colab": {
          "base_uri": "https://localhost:8080/"
        },
        "id": "O2x40FitI_fV",
        "outputId": "f66d48e6-27d6-4cc8-f8e5-0bca90741c8e"
      },
      "execution_count": null,
      "outputs": [
        {
          "output_type": "stream",
          "name": "stdout",
          "text": [
            "delete name:리사\n",
            "삭제 {'제니': '010-0000-0000', '로제': '010-0000-0000', '아이유': '010-1234-5896'}\n"
          ]
        }
      ]
    },
    {
      "cell_type": "code",
      "source": [
        "# 6. 전체 인원수\n",
        "print(len(phone))"
      ],
      "metadata": {
        "colab": {
          "base_uri": "https://localhost:8080/"
        },
        "id": "62cljwLeI_4m",
        "outputId": "69ed8e0a-6b68-48ee-b1ed-962470f59f42"
      },
      "execution_count": null,
      "outputs": [
        {
          "output_type": "stream",
          "name": "stdout",
          "text": [
            "3\n"
          ]
        }
      ]
    },
    {
      "cell_type": "code",
      "source": [
        "# 7. 전체 이름\n",
        "print(list(phone.keys()))"
      ],
      "metadata": {
        "colab": {
          "base_uri": "https://localhost:8080/",
          "height": 193
        },
        "id": "jdh6womFJCi4",
        "outputId": "af92e23e-7184-4ae6-bae8-77be8efc275a"
      },
      "execution_count": null,
      "outputs": [
        {
          "output_type": "error",
          "ename": "NameError",
          "evalue": "ignored",
          "traceback": [
            "\u001b[0;31m---------------------------------------------------------------------------\u001b[0m",
            "\u001b[0;31mNameError\u001b[0m                                 Traceback (most recent call last)",
            "\u001b[0;32m<ipython-input-55-e99c296a65ce>\u001b[0m in \u001b[0;36m<module>\u001b[0;34m()\u001b[0m\n\u001b[1;32m      1\u001b[0m \u001b[0;31m# 7. 전체 이름\u001b[0m\u001b[0;34m\u001b[0m\u001b[0;34m\u001b[0m\u001b[0;34m\u001b[0m\u001b[0m\n\u001b[0;32m----> 2\u001b[0;31m \u001b[0mprint\u001b[0m\u001b[0;34m(\u001b[0m\u001b[0mlist\u001b[0m\u001b[0;34m(\u001b[0m\u001b[0mphone\u001b[0m\u001b[0;34m.\u001b[0m\u001b[0mkeys\u001b[0m\u001b[0;34m(\u001b[0m\u001b[0;34m)\u001b[0m\u001b[0;34m)\u001b[0m\u001b[0;34m)\u001b[0m\u001b[0;34m\u001b[0m\u001b[0;34m\u001b[0m\u001b[0m\n\u001b[0m",
            "\u001b[0;31mNameError\u001b[0m: name 'phone' is not defined"
          ]
        }
      ]
    },
    {
      "cell_type": "markdown",
      "source": [
        ""
      ],
      "metadata": {
        "id": "eAu6y_PUty1E"
      }
    },
    {
      "cell_type": "markdown",
      "source": [
        "# 응용문제3 : 동아리 회원 관리 프로그램\n",
        "동아리 A, B에 다음과 같이 학생들이 가입이 되어 있다.  다음 문제를 해결하시오.\n",
        "clubA={'kim', 'park', 'hwang'}\n",
        "clubB={'park', 'lee', 'choi'}\n",
        "1. 동아리에 가입한 학생들의 모든 명단을 ClubC에 저장한 후에 출력한다.\n",
        "2. A, B 동아리에 둘 다 가입한 학생의 명단을 출력하시오.\n",
        "3. A 동아리에서 B 동아리에 가입한 학생들의 명단을 제외하고 출력하시오.\n",
        "4. B 동아리에서 A 동아리에 가입한 학생들의 명단을 제외하고 출력하시오.\n",
        "5. A 동아리에 'yang' 회원이 새로 가입했다.\n",
        "6. B 동아리 'lee' 회원이 탈퇴했다. \n",
        "7. A, B 동아리 회원들을 각각 출력하시오."
      ],
      "metadata": {
        "id": "qcFO5xycKYM0"
      }
    },
    {
      "cell_type": "code",
      "source": [
        "clubA={'kim','park','hwang'}\n",
        "clubB={'park','lee','choi'}"
      ],
      "metadata": {
        "id": "IMepEJa5KXq9"
      },
      "execution_count": null,
      "outputs": []
    },
    {
      "cell_type": "code",
      "source": [
        "#1\n",
        "clubC=clubA.union(clubB)\n",
        "clubC"
      ],
      "metadata": {
        "colab": {
          "base_uri": "https://localhost:8080/"
        },
        "id": "6MTAIy2xKdIA",
        "outputId": "6f21e420-f642-413d-e920-2a506629ffb8"
      },
      "execution_count": null,
      "outputs": [
        {
          "output_type": "execute_result",
          "data": {
            "text/plain": [
              "{'choi', 'hwang', 'kim', 'lee', 'park'}"
            ]
          },
          "metadata": {},
          "execution_count": 169
        }
      ]
    },
    {
      "cell_type": "code",
      "source": [
        "#2\n",
        "clubA.intersection(clubB)\n",
        "#clubA&clubB"
      ],
      "metadata": {
        "colab": {
          "base_uri": "https://localhost:8080/"
        },
        "id": "YZonk7OmKdFq",
        "outputId": "fb96885e-4339-4f82-b9c3-b8e92bc25ded"
      },
      "execution_count": null,
      "outputs": [
        {
          "output_type": "execute_result",
          "data": {
            "text/plain": [
              "{'park'}"
            ]
          },
          "metadata": {},
          "execution_count": 170
        }
      ]
    },
    {
      "cell_type": "code",
      "source": [
        "#3\n",
        "clubA-clubB\n",
        "clubA.difference(clubB)"
      ],
      "metadata": {
        "colab": {
          "base_uri": "https://localhost:8080/"
        },
        "id": "aQKx4uJhKdDW",
        "outputId": "cfba0681-abf7-4475-f9e7-85c7577f7019"
      },
      "execution_count": null,
      "outputs": [
        {
          "output_type": "execute_result",
          "data": {
            "text/plain": [
              "{'hwang', 'kim'}"
            ]
          },
          "metadata": {},
          "execution_count": 171
        }
      ]
    },
    {
      "cell_type": "code",
      "source": [
        "#4\n",
        "clubB-clubA\n",
        "clubB.difference(clubA)"
      ],
      "metadata": {
        "colab": {
          "base_uri": "https://localhost:8080/"
        },
        "id": "SstRWiM6KdAf",
        "outputId": "2d0bf071-0811-415f-bc60-1b905edf0ed0"
      },
      "execution_count": null,
      "outputs": [
        {
          "output_type": "execute_result",
          "data": {
            "text/plain": [
              "{'choi', 'lee'}"
            ]
          },
          "metadata": {},
          "execution_count": 172
        }
      ]
    },
    {
      "cell_type": "code",
      "source": [
        "#4\n",
        "clubB-clubA\n",
        "clubB.difference(clubA)"
      ],
      "metadata": {
        "colab": {
          "base_uri": "https://localhost:8080/"
        },
        "id": "RWwwoZ6HKc7k",
        "outputId": "66ff4af8-9917-4c9a-d6d8-31902a458dca"
      },
      "execution_count": null,
      "outputs": [
        {
          "output_type": "execute_result",
          "data": {
            "text/plain": [
              "{'choi', 'lee'}"
            ]
          },
          "metadata": {},
          "execution_count": 173
        }
      ]
    },
    {
      "cell_type": "code",
      "source": [
        "#5\n",
        "clubA.add('yang')\n",
        "clubA"
      ],
      "metadata": {
        "colab": {
          "base_uri": "https://localhost:8080/"
        },
        "id": "4o2jbYPLKc3n",
        "outputId": "ba73aaef-1358-42be-e5ea-231339246b69"
      },
      "execution_count": null,
      "outputs": [
        {
          "output_type": "execute_result",
          "data": {
            "text/plain": [
              "{'hwang', 'kim', 'park', 'yang'}"
            ]
          },
          "metadata": {},
          "execution_count": 174
        }
      ]
    },
    {
      "cell_type": "code",
      "source": [
        "#6\n",
        "clubB.remove('lee')\n",
        "clubB"
      ],
      "metadata": {
        "colab": {
          "base_uri": "https://localhost:8080/"
        },
        "id": "wLHWZi99KqhJ",
        "outputId": "68c38c2b-88b6-4a28-899d-1f6c9ad9fe46"
      },
      "execution_count": null,
      "outputs": [
        {
          "output_type": "execute_result",
          "data": {
            "text/plain": [
              "{'choi', 'park'}"
            ]
          },
          "metadata": {},
          "execution_count": 175
        }
      ]
    },
    {
      "cell_type": "code",
      "source": [
        "#7\n",
        "print(clubA,len(clubA))\n",
        "print(clubB,len(clubB))"
      ],
      "metadata": {
        "colab": {
          "base_uri": "https://localhost:8080/"
        },
        "id": "DiY7SBK-KqJ-",
        "outputId": "50eee7db-b026-4ce0-e066-f335f40fdc68"
      },
      "execution_count": null,
      "outputs": [
        {
          "output_type": "stream",
          "name": "stdout",
          "text": [
            "{'yang', 'park', 'hwang', 'kim'} 4\n",
            "{'park', 'choi'} 2\n"
          ]
        }
      ]
    },
    {
      "cell_type": "markdown",
      "source": [
        "# 응용문제4 :내가 좋아하는 노래는 몇 개의 단어로 구성되었을까?"
      ],
      "metadata": {
        "id": "K_wX3IJMKwdO"
      }
    },
    {
      "cell_type": "code",
      "source": [
        "lyrics = '''When I find myself in times of trouble\n",
        "Mother Mary comes to me\n",
        "Speaking words of wisdom let it be\n",
        "And in my hour of darkness\n",
        "She is standing right in front of me\n",
        "Speaking words of wisdom let it be\n",
        "Let it be let it be\n",
        "Let it be let it be\n",
        "Whisper words of wisdom let it be'''\n",
        "lyrics=lyrics.replace('\\n',' ')\n",
        "print(lyrics)\n",
        "\n",
        "word_list=lyrics.split(' ')\n",
        "print(word_list)\n",
        "print(f'노래 가사에 나오는 단어수는 총 {len(word_list)}개 입니다.')\n",
        "word_set=set(word_list) #\n",
        "print(f'노래에는 총 {len(word_set)} 단어가 사용되었다.')\n",
        "print(f'노래에는 총 {len(word_list)-len(word_set)} 단어가 중복되었다. ')"
      ],
      "metadata": {
        "colab": {
          "base_uri": "https://localhost:8080/"
        },
        "id": "e0KqNW2FKw_I",
        "outputId": "2110699b-334a-4ac9-9aa4-09d4c8e025ae"
      },
      "execution_count": null,
      "outputs": [
        {
          "output_type": "stream",
          "name": "stdout",
          "text": [
            "When I find myself in times of trouble Mother Mary comes to me Speaking words of wisdom let it be And in my hour of darkness She is standing right in front of me Speaking words of wisdom let it be Let it be let it be Let it be let it be Whisper words of wisdom let it be\n",
            "['When', 'I', 'find', 'myself', 'in', 'times', 'of', 'trouble', 'Mother', 'Mary', 'comes', 'to', 'me', 'Speaking', 'words', 'of', 'wisdom', 'let', 'it', 'be', 'And', 'in', 'my', 'hour', 'of', 'darkness', 'She', 'is', 'standing', 'right', 'in', 'front', 'of', 'me', 'Speaking', 'words', 'of', 'wisdom', 'let', 'it', 'be', 'Let', 'it', 'be', 'let', 'it', 'be', 'Let', 'it', 'be', 'let', 'it', 'be', 'Whisper', 'words', 'of', 'wisdom', 'let', 'it', 'be']\n",
            "노래 가사에 나오는 단어수는 총 60개 입니다.\n",
            "노래에는 총 30 단어가 사용되었다.\n",
            "노래에는 총 30 단어가 중복되었다. \n"
          ]
        }
      ]
    },
    {
      "cell_type": "markdown",
      "source": [
        "# 사전테스트 문제"
      ],
      "metadata": {
        "id": "sQ-bbHIu1_sO"
      }
    },
    {
      "cell_type": "code",
      "source": [
        "score = int(input(\"점수를 입력하시오 : \"))\n",
        "\n",
        "\n",
        "\n",
        "if score >= 90 :\n",
        "\n",
        "     grade = 'A'\n",
        "\n",
        "if score >= 80 :\n",
        "\n",
        "    grade = 'B'\n",
        "\n",
        "if score >= 70 :\n",
        "\n",
        "    grade = 'C'\n",
        "\n",
        "if score >= 60 :\n",
        "\n",
        "    grade = 'D'"
      ],
      "metadata": {
        "colab": {
          "base_uri": "https://localhost:8080/"
        },
        "id": "hBIK7O3wtHR5",
        "outputId": "c60fb288-eeec-45ce-d118-a0a55408a9e4"
      },
      "execution_count": null,
      "outputs": [
        {
          "output_type": "stream",
          "name": "stdout",
          "text": [
            "점수를 입력하시오 : 70\n",
            "D\n"
          ]
        }
      ]
    },
    {
      "cell_type": "code",
      "source": [
        "menuList={'라면':3500,'김밥':2500,'우동':2500,'돈까스':4000}\n",
        "\n",
        "while True:\n",
        "  choice = input('1.전체메뉴, 2.가격검색, 3.종료 ')\n",
        "  if choice=='1':\n",
        "    print('전체메뉴: ', menuList.keys())\n",
        "  elif choice=='2':\n",
        "    menu=input('가격검색: ')\n",
        "    print(menuList[menu])\n",
        "  elif choice=='3':\n",
        "    print('종료')\n",
        "    break\n",
        "  else:\n",
        "    print('입력오류')               "
      ],
      "metadata": {
        "colab": {
          "base_uri": "https://localhost:8080/"
        },
        "id": "9ieKpHoNtHUQ",
        "outputId": "19fd1283-d228-4427-a111-867b594ae83d"
      },
      "execution_count": null,
      "outputs": [
        {
          "output_type": "stream",
          "name": "stdout",
          "text": [
            "1.전체메뉴, 2.가격검색, 3.종료 2\n",
            "가격검색: 김밥\n",
            "2500\n",
            "1.전체메뉴, 2.가격검색, 3.종료 1\n",
            "전체메뉴:  dict_keys(['라면', '김밥', '우동', '돈까스'])\n",
            "1.전체메뉴, 2.가격검색, 3.종료 3\n",
            "종료\n"
          ]
        }
      ]
    },
    {
      "cell_type": "code",
      "source": [
        "def calc(su1, su2, op):\n",
        "  if op == '+':\n",
        "    result = su1 + su2\n",
        "  elif op == '-':\n",
        "    result = su1 - su2\n",
        "  elif op == '*':\n",
        "    result = su1 * su2\n",
        "  elif op == '/':\n",
        "    result = su1 / su2\n",
        "  else:\n",
        "    result = '모르는 연산'\n",
        "  return result\n",
        "\n",
        "num1, op, num2 = input('사칙 연산식을 입력하세요: ').split(' ')                                                             \n",
        "out_result =  calc(int(num1),int(num2), op)\n",
        "print(\"계산기: %s %s %s = %s\" % (num1,op,num2,out_result))"
      ],
      "metadata": {
        "colab": {
          "base_uri": "https://localhost:8080/"
        },
        "id": "q4beWOZitHWn",
        "outputId": "e9675f87-7853-434a-bdc3-8ffffd8045dd"
      },
      "execution_count": null,
      "outputs": [
        {
          "output_type": "stream",
          "name": "stdout",
          "text": [
            "사칙 연산식을 입력하세요: 2 * 6\n",
            "계산기: 2 * 6 = 12\n"
          ]
        }
      ]
    },
    {
      "cell_type": "markdown",
      "source": [
        "# 선택문(조건문)\n",
        "if문에서 자료형 참/거짓\n",
        "* 숫자형 : 0은 거짓, 그 외의 숫자는 참\n",
        "* 문자형 : 빈문자열만 거짓\n",
        "* 컬렉션 : 빈 컬렉션 거짓\n",
        "* None : 거짓\n",
        "* pass "
      ],
      "metadata": {
        "id": "k22PTlGmLyv9"
      }
    },
    {
      "cell_type": "code",
      "source": [
        "a =10\n",
        "if a>=10:\n",
        "  pass\n",
        "else:\n",
        "  print()"
      ],
      "metadata": {
        "id": "eelRdVzitHY8"
      },
      "execution_count": null,
      "outputs": []
    },
    {
      "cell_type": "markdown",
      "source": [
        "# 선택문과 딕셔너리 활용\n",
        "![image.png](data:image/png;base64,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)"
      ],
      "metadata": {
        "id": "T78dpLucMOM5"
      }
    },
    {
      "cell_type": "code",
      "source": [
        "ticket={'영국':70,'프랑스':80,'이탈리아':80,'스위스':90}\n",
        "\n",
        "day=int(input('출국 전 남은 기간:'))\n",
        "state=input('여행 국가:')\n",
        "\n",
        "price=ticket[state]\n",
        "\n",
        "if day>=30:\n",
        "    rate=0.2\n",
        "elif day>=15:\n",
        "    rate=0.1\n",
        "else:\n",
        "    rate=0\n",
        "\n",
        "discount=price*rate\n",
        "pay=price-discount\n",
        "\n",
        "print('-'*30)\n",
        "print(f'총 금 액: {int(ticket[state])}만원' )\n",
        "print(f'할인금액: {int(discount)}만원')\n",
        "print(f'지불금액: {int(pay)}만원')\n",
        "print('-'*30)"
      ],
      "metadata": {
        "id": "_cjmoQU4tHbI",
        "colab": {
          "base_uri": "https://localhost:8080/"
        },
        "outputId": "51763821-e02f-492f-f8e2-fc71daa4d4c9"
      },
      "execution_count": null,
      "outputs": [
        {
          "output_type": "stream",
          "name": "stdout",
          "text": [
            "출국 전 남은 기간:60\n",
            "여행 국가:스위스\n",
            "------------------------------\n",
            "총 금 액: 90만원\n",
            "할인금액: 18만원\n",
            "지불금액: 72만원\n",
            "------------------------------\n"
          ]
        }
      ]
    },
    {
      "cell_type": "markdown",
      "source": [
        "# 중첩선택문 활용 : 로그인 인증처리 프로그램"
      ],
      "metadata": {
        "id": "0zG7BkwuMfnA"
      }
    },
    {
      "cell_type": "code",
      "source": [
        "# 시스템 등록 아이디, 패스워드 : admin, a123\n",
        "sid=input('id:')\n",
        "spw=input('pw:')\n",
        "\n",
        "# 인증처리\n",
        "'''\n",
        "if sid=='admin' and spw=='a123':\n",
        "  msg='로그인 성공'\n",
        "elif sid=='admin' and spw!='a123':\n",
        "  msg='패스워드 에러'\n",
        "\n",
        "print(msg)\n",
        "'''\n",
        "# 효율적인 처리\n",
        "if sid=='admin':\n",
        "  if spw=='a123':\n",
        "    msg='로그인 성공'\n",
        "  else:\n",
        "    msg='패스워드 에러'\n",
        "else:\n",
        "  msg='회원이 아님'    \n",
        "\n",
        "print(msg)\n"
      ],
      "metadata": {
        "id": "EWWxcOFZtHda",
        "colab": {
          "base_uri": "https://localhost:8080/"
        },
        "outputId": "3c7f964f-70cc-4bcb-82d4-a5f5c6885273"
      },
      "execution_count": null,
      "outputs": [
        {
          "output_type": "stream",
          "name": "stdout",
          "text": [
            "id:admin\n",
            "pw:a123\n",
            "로그인 성공\n"
          ]
        }
      ]
    },
    {
      "cell_type": "code",
      "source": [
        "# 딕셔너리 : 아이디, 패스워드\n",
        "db={'admin1':'a123','admin2':'a123','admin3':'a123'}\n",
        "\n",
        "sid=input('id:')\n",
        "spw=input('pw:')\n",
        "\n",
        "# 효율적인 처리\n",
        "if sid in db:\n",
        "  if spw==db[sid]:\n",
        "    msg='로그인 성공'\n",
        "  else:\n",
        "    msg='패스워드 에러'\n",
        "else:\n",
        "  msg='회원이 아님'    \n",
        "\n",
        "print(msg)"
      ],
      "metadata": {
        "id": "HYVtly_OtHf7",
        "colab": {
          "base_uri": "https://localhost:8080/"
        },
        "outputId": "9ef57246-d33c-4578-ae9b-9de0c771e9ed"
      },
      "execution_count": null,
      "outputs": [
        {
          "output_type": "stream",
          "name": "stdout",
          "text": [
            "id:digital_analytics\n",
            "pw:awesome\n",
            "회원이 아님\n"
          ]
        }
      ]
    },
    {
      "cell_type": "markdown",
      "source": [
        "# 중첩선택문 활용 : \n",
        "슈퍼파워 게임회사는 RPG 게임을 제작하고 있습니다. 초보 모험가를 위해 실컷 때릴 수 있는 허수아비를 세워두려고 합니다. 규칙은 다음과 같습니다.\n",
        "\n",
        "1. 허수아비의 체력은 100입니다.\n",
        "2. 플레이어의 공격을 수치로 입력받습니다.\n",
        "3. 허수아비의 체력을 넘는 공격을 준다면 허수아비가 쓰러집니다.\n",
        "4. 허수아비 체력을 밑도는 공격을 준다면 허수아비는 쓰러지지 않습니다.\n",
        "5. 공격력이 10 정도로 모자라다면 지나가던 개가 \"아쉽네\"라고 말합니다."
      ],
      "metadata": {
        "id": "oUtL54ArM5xF"
      }
    },
    {
      "cell_type": "code",
      "source": [
        "health = 100 \n",
        "attack = int(input('attack: ')) \n",
        "if attack >= health: \n",
        "  print('털썩! 허수아비가 쓰러졌습니다!') \n",
        "else: \n",
        "  print('허수아비가 쓰러지지 않았네요.') \n",
        "  if attack >= health - 10:\n",
        "    print('지나가던 개 : 아쉽네')\n"
      ],
      "metadata": {
        "id": "yIZ7FdpztHh3",
        "colab": {
          "base_uri": "https://localhost:8080/"
        },
        "outputId": "51d806ca-bc46-445a-9f8b-b1b0699653ce"
      },
      "execution_count": null,
      "outputs": [
        {
          "output_type": "stream",
          "name": "stdout",
          "text": [
            "attack: 1200\n",
            "털썩! 허수아비가 쓰러졌습니다!\n"
          ]
        }
      ]
    },
    {
      "cell_type": "markdown",
      "source": [
        "# 중첩선택문 활용\n",
        "* 작은 수와 큰 수를 먼저 입력받습니다. \n",
        "* 다음 마지막 수를 입력받는는다. \n",
        "* 이 마지막 수가 두 수의 범위 밖에 있다면 '범위를 벗어났습니다'라고 출력하고, \n",
        "* 두 수의 범위 내에 있다면, 가까이 있는 수를 출력하면서 그 수와 가깝습니다라고 출력하고, 두 수간의 차이가 같다면 중간값입니다라고 출력합니다.\n",
        "\n",
        "예 : 10과 50이라고 입력한 후, 마지막 숫자에 따른 출력은 다음과 같습니다.\n",
        "\n",
        "60 → 범위를 벗어났습니다\n",
        "\n",
        "20 → 10과 가깝습니다\n",
        "\n",
        "40 → 50과 가깝습니다\n",
        "\n",
        "30 → 중간값입니다"
      ],
      "metadata": {
        "id": "biDu2O2_NCJ3"
      }
    },
    {
      "cell_type": "code",
      "source": [
        "small = int(input('작은 수 >> '))\n",
        "big = int(input('큰 수 >> '))\n",
        "last = int(input('마지막 수>> '))\n",
        "\n",
        "if small > last or big < last:\n",
        "    print('범위를 벗어났습니다')\n",
        "else:\n",
        "    small_diff = last - small\n",
        "    big_diff = big - last\n",
        "\n",
        "    if small_diff < big_diff:\n",
        "        print(f'{small}과 가깝습니다')\n",
        "    elif big_diff < small_diff:\n",
        "        print(f'{big}과 가깝습니다')\n",
        "    else:\n",
        "        print('중간값입니다')"
      ],
      "metadata": {
        "id": "WAPAE1_JtHkH",
        "colab": {
          "base_uri": "https://localhost:8080/"
        },
        "outputId": "9acc396e-7533-4454-be26-9fc3522d141a"
      },
      "execution_count": null,
      "outputs": [
        {
          "output_type": "stream",
          "name": "stdout",
          "text": [
            "작은 수 >> 10\n",
            "큰 수 >> 50\n",
            "마지막 수>> 13\n",
            "10과 가깝습니다\n"
          ]
        }
      ]
    },
    {
      "cell_type": "code",
      "source": [
        "#7 \t주사위 세개\n",
        "a,b,c=map(int, input().split())\n",
        "\n",
        "list=[0 for i in range(7)]\n",
        "\n",
        "i=0\n",
        "list[a]+=1\n",
        "list[b]+=1\n",
        "list[c]+=1\n",
        "\n",
        "sum=0\n",
        "\n",
        "for i in range(1, 7):\n",
        "  if list[i]==3:\n",
        "      sum=10000+1000*i\n",
        "      break\n",
        "  elif list[i]==2:\n",
        "      sum=1000+100*i\n",
        "      break\n",
        "  elif list[i]==1:\n",
        "      sum=100*i\n",
        "print(sum)  "
      ],
      "metadata": {
        "id": "aurBBK8ytHmq",
        "colab": {
          "base_uri": "https://localhost:8080/"
        },
        "outputId": "e7a9078a-728e-4cf2-dc6b-099b57cc4775"
      },
      "execution_count": null,
      "outputs": [
        {
          "output_type": "stream",
          "name": "stdout",
          "text": [
            "1 2 3\n",
            "300\n"
          ]
        }
      ]
    },
    {
      "cell_type": "markdown",
      "source": [
        "# 응용문제2 : 주차료 계산 프로그램"
      ],
      "metadata": {
        "id": "dIKTTjFSNvde"
      }
    },
    {
      "cell_type": "code",
      "source": [
        "time=int(input('주차시간 입력:'))\n",
        "if time<30:\n",
        "    fee=0\n",
        "elif time<=60:\n",
        "    fee=5000\n",
        "else:\n",
        "    overtime=(time-60)//15\n",
        "    overtimefee=overtime*1000\n",
        "    fee=5000+overtimefee\n",
        "\n",
        "print(f'주차시간: {time}분')\n",
        "print(f'주차요금: {fee}원')"
      ],
      "metadata": {
        "colab": {
          "base_uri": "https://localhost:8080/"
        },
        "id": "393sgsSYNuPn",
        "outputId": "b16b2819-bf7f-499e-e472-22f7d4eae23a"
      },
      "execution_count": null,
      "outputs": [
        {
          "output_type": "stream",
          "name": "stdout",
          "text": [
            "주차시간 입력:915483\n",
            "주차시간: 915483분\n",
            "주차요금: 61033000원\n"
          ]
        }
      ]
    },
    {
      "cell_type": "markdown",
      "source": [
        "# 응용문제3 : 자동 판매기 프로그램"
      ],
      "metadata": {
        "id": "ykd89NjVN4t5"
      }
    },
    {
      "cell_type": "code",
      "source": [
        "vending_machine={1:['coke',500],2:['coffee',600],3:['cider',500],4:['water',400]}\n",
        "print('-'*30)\n",
        "print(vending_machine)\n",
        "'''\n",
        "for k in vending_machine.keys():\n",
        "  print(f'{k}: {vending_machine[k][0]:10} {vending_machine[k][1]:>5}')\n",
        "'''\n",
        "print('-'*30)\n",
        "# input\n",
        "money=int(input('투입한 돈: '))\n",
        "menu=int(input('번호 선택: '))\n",
        "\n",
        "price=vending_machine[menu][1] # \n",
        "\n",
        "change = money-price\n",
        "print(f'거스름돈 {change}원')\n",
        "\n",
        "c500=change//500\n",
        "change %= 500\n",
        "\n",
        "c100 = change//100\n",
        "change %= 100\n",
        "\n",
        "c50= change//50\n",
        "change %=50\n",
        "\n",
        "# output\n",
        "print('='*30)\n",
        "print(f'500원 동전: {c500}개')\n",
        "print(f'100원 동전: {c100}개')\n",
        "print(f' 50원 동전: {c50}개')\n",
        "print(f'바꾸지 못한 돈 : {change}원')\n",
        "print('='*30)"
      ],
      "metadata": {
        "id": "V4NqYK2-tHpG",
        "colab": {
          "base_uri": "https://localhost:8080/"
        },
        "outputId": "a4565a0d-cb3e-4a26-ca69-07cafa5ae2aa"
      },
      "execution_count": null,
      "outputs": [
        {
          "output_type": "stream",
          "name": "stdout",
          "text": [
            "------------------------------\n",
            "{1: ['coke', 500], 2: ['coffee', 600], 3: ['cider', 500], 4: ['water', 400]}\n",
            "------------------------------\n",
            "투입한 돈: 6000\n",
            "번호 선택: 3\n",
            "거스름돈 5500원\n",
            "==============================\n",
            "500원 동전: 11개\n",
            "100원 동전: 0개\n",
            " 50원 동전: 0개\n",
            "바꾸지 못한 돈 : 0원\n",
            "==============================\n"
          ]
        }
      ]
    },
    {
      "cell_type": "markdown",
      "source": [
        "# 응용문제4: 지불금액 계산 프로그램"
      ],
      "metadata": {
        "id": "OgIOCCX1OAVS"
      }
    },
    {
      "cell_type": "code",
      "source": [
        "amount=int(input('구매 금액은?'))\n",
        "if amount>=10000:\n",
        "  if amount<50000:\n",
        "    rate=0.05\n",
        "  elif amount<200000:\n",
        "    rate=0.1\n",
        "  else:\n",
        "    rate=0.2\n",
        "else:\n",
        "  rate=0\n",
        "\n",
        "discount=amount*rate\n",
        "pay=amount-discount\n",
        "print('-'*20)\n",
        "print(f'구매금액:{amount:>6d}')\n",
        "print(f'할 인 율:{int(rate*100):>5d}%')\n",
        "print(f'할인금액:{int(discount):>6d}')\n",
        "print(f'지불금액:{int(pay):>6d}')\n",
        "print('-'*20)"
      ],
      "metadata": {
        "colab": {
          "base_uri": "https://localhost:8080/"
        },
        "id": "9KaNhhn0N_sL",
        "outputId": "6ae91760-2dbf-488c-a9e1-ca990183ac84"
      },
      "execution_count": null,
      "outputs": [
        {
          "output_type": "stream",
          "name": "stdout",
          "text": [
            "구매 금액은?1256230\n",
            "--------------------\n",
            "구매금액:1256230\n",
            "할 인 율:   20%\n",
            "할인금액:251246\n",
            "지불금액:1004984\n",
            "--------------------\n"
          ]
        }
      ]
    },
    {
      "cell_type": "markdown",
      "source": [
        "# 응용문제5: 배송비 계산 프로그램"
      ],
      "metadata": {
        "id": "-IS7yIISOGLF"
      }
    },
    {
      "cell_type": "code",
      "source": [
        "distance=int(input('배송거리를 km단위로 입력 : '))\n",
        "\n",
        "if distance>=5:    \n",
        "    if distance<50:\n",
        "        cost=3500\n",
        "    elif distance<100:\n",
        "        cost=4000\n",
        "    elif distance<300:\n",
        "        cost=4500\n",
        "    elif distance<500:\n",
        "        cost=5000\n",
        "    else:\n",
        "        cost=6000\n",
        "    print(f'{distance}km에 해당하는 배송비는 {cost}원입니다.')    \n",
        "else:\n",
        "    print('5km미만은 배송하지 않습니다.')"
      ],
      "metadata": {
        "id": "ENJE-tKAtHrj",
        "colab": {
          "base_uri": "https://localhost:8080/"
        },
        "outputId": "bb6541db-4c7e-49fe-ba73-822ad8071e0b"
      },
      "execution_count": null,
      "outputs": [
        {
          "output_type": "stream",
          "name": "stdout",
          "text": [
            "배송거리를 km단위로 입력 : 12000\n",
            "12000km에 해당하는 배송비는 6000원입니다.\n"
          ]
        }
      ]
    },
    {
      "cell_type": "markdown",
      "source": [
        "#for문 이해와 활용"
      ],
      "metadata": {
        "id": "bvk-0v99PEFs"
      }
    },
    {
      "cell_type": "markdown",
      "source": [
        "## for문의 기본구조"
      ],
      "metadata": {
        "id": "fs56DlkCPMIs"
      }
    },
    {
      "cell_type": "code",
      "source": [
        "# 기본구조\n",
        "menu=['콜라','사이다','환타'] # 리스트\n",
        "for i in menu:\n",
        "  print(i)\n",
        "print()\n",
        "for i in '콜라사이다환타': # 문자열\n",
        "  print(i,end=' ')\n",
        "print()\n",
        "for i in (1,2,3): \n",
        "  print(i,end=' ') # 튜플\n",
        "print()\n",
        "menu=[('콜라',500),('사이다',400),('환타',500)]\n",
        "for m,p in menu:\n",
        "  print(m,p)\n",
        "print()\n",
        "menu={'콜라':500,'사이다':400,'환타':500}\n",
        "for k in menu: # 딕셔너리\n",
        "  print(k,menu[k])"
      ],
      "metadata": {
        "id": "S1C2uFIptHuO",
        "colab": {
          "base_uri": "https://localhost:8080/"
        },
        "outputId": "1fa529e1-733b-4860-df04-6007d084ac3b"
      },
      "execution_count": null,
      "outputs": [
        {
          "output_type": "stream",
          "name": "stdout",
          "text": [
            "콜라\n",
            "사이다\n",
            "환타\n",
            "\n",
            "콜 라 사 이 다 환 타 \n",
            "1 2 3 \n",
            "콜라 500\n",
            "사이다 400\n",
            "환타 500\n",
            "\n",
            "콜라 500\n",
            "사이다 400\n",
            "환타 500\n"
          ]
        }
      ]
    },
    {
      "cell_type": "markdown",
      "source": [
        "## for문 + 리스트 활용1\n",
        "문제 : 학생 5명 점수가 리스트에 저장되어있다. 합계와 평균을 출력하시오."
      ],
      "metadata": {
        "id": "Eb72BkoUPVEG"
      }
    },
    {
      "cell_type": "code",
      "source": [
        "score=[80,50,75,55,100]\n",
        "total=0\n",
        "for i in score:\n",
        "  total=total+i\n",
        "avg=total/len(score)\n",
        "print(f'합계{total}, 평균{avg}')"
      ],
      "metadata": {
        "colab": {
          "base_uri": "https://localhost:8080/"
        },
        "id": "2i7KxDK3PkvB",
        "outputId": "eefd1957-46c1-428b-baae-970d36982d8f"
      },
      "execution_count": null,
      "outputs": [
        {
          "output_type": "stream",
          "name": "stdout",
          "text": [
            "합계360, 평균72.0\n"
          ]
        }
      ]
    },
    {
      "cell_type": "markdown",
      "source": [
        "\n",
        "## for문 + 리스트 활용2"
      ],
      "metadata": {
        "id": "hqAaptH-PdDy"
      }
    },
    {
      "cell_type": "markdown",
      "source": [
        "문제 : 학생 5명의 점수가 리스트에 저장되어있다. 80점이상이면 '합격' 그렇지 않으면 '불합격'을 출력하시오."
      ],
      "metadata": {
        "id": "zz7e94LcPaVq"
      }
    },
    {
      "cell_type": "code",
      "source": [
        "score=[80,50,75,55,100]\n",
        "idx=0\n",
        "for s in score:\n",
        "  idx+=1\n",
        "  if s>=60:\n",
        "    result='pass'\n",
        "  else:\n",
        "    result='fail'\n",
        "  print(f'{idx}번 학생 {s}점수는 {result}입니다.')"
      ],
      "metadata": {
        "id": "aaIG_WaTtHw5",
        "colab": {
          "base_uri": "https://localhost:8080/"
        },
        "outputId": "09088222-c390-4d4d-abe8-2115fe7ed357"
      },
      "execution_count": null,
      "outputs": [
        {
          "output_type": "stream",
          "name": "stdout",
          "text": [
            "1번 학생 80점수는 pass입니다.\n",
            "2번 학생 50점수는 fail입니다.\n",
            "3번 학생 75점수는 pass입니다.\n",
            "4번 학생 55점수는 fail입니다.\n",
            "5번 학생 100점수는 pass입니다.\n"
          ]
        }
      ]
    },
    {
      "cell_type": "markdown",
      "source": [
        "## range함수 이해 : 연속된 정수를 생성해 주는 함수"
      ],
      "metadata": {
        "id": "5ffT0j05Pp-T"
      }
    },
    {
      "cell_type": "code",
      "source": [
        "list(range(5))\n",
        "tuple(range(5))\n",
        "list(range(1,6))\n",
        "list(range(1,10,2))\n",
        "list(range(10,1,-1)) # 중요"
      ],
      "metadata": {
        "id": "-km0G2O3tHzR"
      },
      "execution_count": null,
      "outputs": []
    },
    {
      "cell_type": "code",
      "source": [
        "# range함수 사용해서 문제해결\n",
        "score=[80,50,75,55,100]\n",
        "for i in range(5): # len(score)\n",
        "  if score[i]>=60:\n",
        "    result='pass'\n",
        "  else:\n",
        "    result='fail'\n",
        "  print(f'{i+1} 학생 {score[i]}점수는 {result}입니다.')  "
      ],
      "metadata": {
        "id": "QGPD-9tltH14",
        "colab": {
          "base_uri": "https://localhost:8080/"
        },
        "outputId": "ea2c9b4f-d2a0-4817-f941-fc9c5e7a6c83"
      },
      "execution_count": null,
      "outputs": [
        {
          "output_type": "stream",
          "name": "stdout",
          "text": [
            "1 학생 80점수는 pass입니다.\n",
            "2 학생 50점수는 fail입니다.\n",
            "3 학생 75점수는 pass입니다.\n",
            "4 학생 55점수는 fail입니다.\n",
            "5 학생 100점수는 pass입니다.\n"
          ]
        }
      ]
    },
    {
      "cell_type": "code",
      "source": [
        "# 이름, 점수가 저장\n",
        "name=['AAA','BBB','CCC','DDD','EEE']\n",
        "score=[80,50,75,55,100]\n",
        "\n",
        "for i in range(5):\n",
        "  if score[i]>=60:\n",
        "    result='pass'\n",
        "  else:\n",
        "    result='fail'\n",
        "  print(f'{name[i]}학생 {score[i]}점수는 {result}입니다.')"
      ],
      "metadata": {
        "id": "XzOPbJvKtH4h",
        "colab": {
          "base_uri": "https://localhost:8080/"
        },
        "outputId": "90413531-f568-4819-de66-e18ba67cf024"
      },
      "execution_count": null,
      "outputs": [
        {
          "output_type": "stream",
          "name": "stdout",
          "text": [
            "AAA학생 80점수는 pass입니다.\n",
            "BBB학생 50점수는 fail입니다.\n",
            "CCC학생 75점수는 pass입니다.\n",
            "DDD학생 55점수는 fail입니다.\n",
            "EEE학생 100점수는 pass입니다.\n"
          ]
        }
      ]
    },
    {
      "cell_type": "code",
      "source": [
        "# 또 다른 방법\n",
        "name=['AAA','BBB','CCC','DDD','EEE']\n",
        "score=[80,50,75,55,100]\n",
        "\n",
        "for n,s in zip(name,score): # 두 그룹의 데이터를 서로 엮어주는 파이썬의 내장 함수\n",
        "  if s>=60:\n",
        "    result='pass'\n",
        "  else:\n",
        "    result='fail'\n",
        "  print(f'{n}학생 {s}점수는 {result}입니다.')"
      ],
      "metadata": {
        "id": "tE_qXOsAtH7E",
        "colab": {
          "base_uri": "https://localhost:8080/"
        },
        "outputId": "91e442ed-76eb-4e31-dd46-c71c08eaa8c6"
      },
      "execution_count": null,
      "outputs": [
        {
          "output_type": "stream",
          "name": "stdout",
          "text": [
            "AAA학생 80점수는 pass입니다.\n",
            "BBB학생 50점수는 fail입니다.\n",
            "CCC학생 75점수는 pass입니다.\n",
            "DDD학생 55점수는 fail입니다.\n",
            "EEE학생 100점수는 pass입니다.\n"
          ]
        }
      ]
    },
    {
      "cell_type": "markdown",
      "source": [
        "# 기타제어문 : break, continue"
      ],
      "metadata": {
        "id": "oCr-YXXrRrvZ"
      }
    },
    {
      "cell_type": "code",
      "source": [
        "num=[10,-10,20,-30]\n",
        "for i in num:\n",
        "  if i<0:\n",
        "    break # continue\n",
        "  print(i)\n",
        "print('end')\n"
      ],
      "metadata": {
        "colab": {
          "base_uri": "https://localhost:8080/"
        },
        "id": "uMpiDecWRX8V",
        "outputId": "d98fa005-63a5-4b56-c7f4-1c2bb43ab33a"
      },
      "execution_count": null,
      "outputs": [
        {
          "output_type": "stream",
          "name": "stdout",
          "text": [
            "10\n",
            "end\n"
          ]
        }
      ]
    },
    {
      "cell_type": "code",
      "source": [
        "# 위의 문제에서 80점 이상인 학생들만 축하메시지를 출력해보자\n",
        "score=[80,50,75,55,100]\n",
        "for i in range(len(score)): \n",
        "  if score[i]<80:\n",
        "    continue\n",
        "  print(f'{i+1} 학생 축하합니다.')  "
      ],
      "metadata": {
        "colab": {
          "base_uri": "https://localhost:8080/"
        },
        "id": "HQ0Z5zOwRup0",
        "outputId": "9f24a755-07eb-4649-b2ae-d167ee0efb22"
      },
      "execution_count": null,
      "outputs": [
        {
          "output_type": "stream",
          "name": "stdout",
          "text": [
            "1 학생 축하합니다.\n",
            "5 학생 축하합니다.\n"
          ]
        }
      ]
    },
    {
      "cell_type": "code",
      "source": [
        "# 성적합계가 200을 초과할 때까지만 더한 결과를 출력\n",
        "score=[80,50,75,55,100]\n",
        "total=0\n",
        "for i in range(len(score)):\n",
        "  total+=score[i]\n",
        "  if total>=200:\n",
        "    break\n",
        "print(f'{i+1}번째까지의 합계는 {total}')  "
      ],
      "metadata": {
        "colab": {
          "base_uri": "https://localhost:8080/"
        },
        "id": "2_4QTHsbR2gJ",
        "outputId": "9e371803-fe05-43bf-afce-9fd66277293c"
      },
      "execution_count": null,
      "outputs": [
        {
          "output_type": "stream",
          "name": "stdout",
          "text": [
            "3번째까지의 합계는 205\n"
          ]
        }
      ]
    },
    {
      "cell_type": "markdown",
      "source": [
        "# while문 이해와 활용"
      ],
      "metadata": {
        "id": "DG5a1A0-STMn"
      }
    },
    {
      "cell_type": "markdown",
      "source": [
        "## while문 기본구조"
      ],
      "metadata": {
        "id": "8XKet-W4SUfm"
      }
    },
    {
      "cell_type": "code",
      "source": [
        "# 1~10까지 출력\n",
        "i=1 # 초기값\n",
        "while i<=10: # 조건식\n",
        "  print(i,end=' ')\n",
        "  i+=1 # 증감식"
      ],
      "metadata": {
        "colab": {
          "base_uri": "https://localhost:8080/"
        },
        "id": "CvRwP5UeSMLw",
        "outputId": "2d30ec3f-0a94-4431-9e15-f9383b5d79bb"
      },
      "execution_count": null,
      "outputs": [
        {
          "output_type": "stream",
          "name": "stdout",
          "text": [
            "1 2 3 4 5 6 7 8 9 10 "
          ]
        }
      ]
    },
    {
      "cell_type": "code",
      "source": [
        "# 10~1까지 출력\n",
        "i=10\n",
        "while i>=1:\n",
        "  print(i,end=' ')\n",
        "  i-=1"
      ],
      "metadata": {
        "colab": {
          "base_uri": "https://localhost:8080/"
        },
        "id": "k6JkNX2aSSux",
        "outputId": "c717db30-dd73-48cf-f044-b1efc87c8885"
      },
      "execution_count": null,
      "outputs": [
        {
          "output_type": "stream",
          "name": "stdout",
          "text": [
            "10 9 8 7 6 5 4 3 2 1 "
          ]
        }
      ]
    },
    {
      "cell_type": "code",
      "source": [
        "# 둘다 for문으로 해결\n",
        "for i in range(1,11):\n",
        "  print(i,end=' ')\n"
      ],
      "metadata": {
        "colab": {
          "base_uri": "https://localhost:8080/"
        },
        "id": "lR0Gk9aKSSsB",
        "outputId": "155fc89c-fc04-4db9-e758-35a3c973f90f"
      },
      "execution_count": null,
      "outputs": [
        {
          "output_type": "stream",
          "name": "stdout",
          "text": [
            "1 2 3 4 5 6 7 8 9 10 "
          ]
        }
      ]
    },
    {
      "cell_type": "code",
      "source": [
        "for i in range(10,0,-1):\n",
        "  print(i,end=' ')"
      ],
      "metadata": {
        "colab": {
          "base_uri": "https://localhost:8080/"
        },
        "id": "_ZZ1ujVvSSpp",
        "outputId": "998d7693-2345-4f28-aa19-7ad22e8cfe26"
      },
      "execution_count": null,
      "outputs": [
        {
          "output_type": "stream",
          "name": "stdout",
          "text": [
            "10 9 8 7 6 5 4 3 2 1 "
          ]
        }
      ]
    },
    {
      "cell_type": "markdown",
      "source": [
        "## while문 : 무한반복문"
      ],
      "metadata": {
        "id": "PZUga96gSj-O"
      }
    },
    {
      "cell_type": "code",
      "source": [
        "while True:\n",
        "  result=input('>>')\n",
        "  if result=='y':break\n",
        "  print(result)"
      ],
      "metadata": {
        "colab": {
          "base_uri": "https://localhost:8080/"
        },
        "id": "Teq6vgF0SSnK",
        "outputId": "22af0667-0c19-4995-d538-4b186df3e214"
      },
      "execution_count": null,
      "outputs": [
        {
          "name": "stdout",
          "output_type": "stream",
          "text": [
            ">>>>\n",
            ">>\n",
            ">>y\n"
          ]
        }
      ]
    },
    {
      "cell_type": "markdown",
      "source": [
        "## while문 응용문제 : 숫자 up/down 게임 프로그램"
      ],
      "metadata": {
        "id": "_Lfm0hvvSt6k"
      }
    },
    {
      "cell_type": "code",
      "source": [
        "# 숫자 맞히기 게임 프로그램\n",
        "\n",
        "import random\n",
        "\n",
        "print('나랑 숫자 맞히기 게임을 해 보자')\n",
        "print()\n",
        "playName=input('너의 이름은:')\n",
        "\n",
        "com=random.randint(1,30)\n",
        "print(f'반가워 {playName} 내가 1부터 30사이에 수를 가지고 있어 맞혀봐')\n",
        "print()\n",
        "print(com)\n",
        "#trynum=0\n",
        "while True:\n",
        "    #trynum+=1\n",
        "    player=int(input('숫자 입력(종료 0): '))\n",
        "    if player==0:break\n",
        "    elif player==com:\n",
        "        print('정답!!')\n",
        "        break\n",
        "    elif player>com:\n",
        "        print('더 작은 숫자를 입력')\n",
        "    else:\n",
        "        print('더 큰 숫자를 입력')\n",
        "#print(f'{trynum}번에 맞췄습니다.')  # 몇 번시도만에 맞췄는지도 출력\n"
      ],
      "metadata": {
        "colab": {
          "base_uri": "https://localhost:8080/"
        },
        "id": "lp24d71pSSgf",
        "outputId": "1a852115-23ff-4817-bf19-8a2a5221c840"
      },
      "execution_count": null,
      "outputs": [
        {
          "output_type": "stream",
          "name": "stdout",
          "text": [
            "나랑 숫자 맞히기 게임을 해 보자\n",
            "\n",
            "너의 이름은:간장게장\n",
            "반가워 간장게장 내가 1부터 30사이에 수를 가지고 있어 맞혀봐\n",
            "\n",
            "4\n",
            "숫자 입력(종료 0): 5\n",
            "더 작은 숫자를 입력\n",
            "숫자 입력(종료 0): 1\n",
            "더 큰 숫자를 입력\n",
            "숫자 입력(종료 0): 2\n",
            "더 큰 숫자를 입력\n",
            "숫자 입력(종료 0): 3\n",
            "더 큰 숫자를 입력\n",
            "숫자 입력(종료 0): 4\n",
            "정답!!\n"
          ]
        }
      ]
    },
    {
      "cell_type": "markdown",
      "source": [
        "## while문 응용문제 : 신조어 사전"
      ],
      "metadata": {
        "id": "Na52aqcoTbkC"
      }
    },
    {
      "cell_type": "code",
      "source": [
        "# 신조어 사전\n",
        "newDic={'군싹':'군침이 싹 도노',\n",
        "        '머선129':'무슨 일이냐',\n",
        "        '억텐':'억지 텐션',\n",
        "        '완내스':'완전 내 스타일'}\n",
        "\n",
        "while True:\n",
        "    key=input('신조어 입력(종료:q)>>')\n",
        "    if key =='q':break\n",
        "    if key in newDic:\n",
        "        mean=newDic.get(key)\n",
        "        print(f'{key}는 {mean}입니다.')\n",
        "    else:\n",
        "        print(f'{key}는 등록되지 않았습니다.')"
      ],
      "metadata": {
        "colab": {
          "base_uri": "https://localhost:8080/"
        },
        "id": "K_1W25YESwTh",
        "outputId": "796755cf-4445-4231-be2c-7aac8b510eb1"
      },
      "execution_count": null,
      "outputs": [
        {
          "name": "stdout",
          "output_type": "stream",
          "text": [
            "신조어 입력(종료:q)>>얼죽아\n",
            "얼죽아는 등록되지 않았습니다.\n",
            "신조어 입력(종료:q)>>머선129\n",
            "머선129는 무슨 일이냐입니다.\n",
            "신조어 입력(종료:q)>>q\n"
          ]
        }
      ]
    },
    {
      "cell_type": "markdown",
      "source": [
        "# 중첩반복문 활용"
      ],
      "metadata": {
        "id": "kutfwDF9TqH1"
      }
    },
    {
      "cell_type": "code",
      "source": [
        "for i in range(1,7):\n",
        "  for j in range(1,7):\n",
        "    print(f'({i},{j})',end=' ')\n",
        "  print()    "
      ],
      "metadata": {
        "colab": {
          "base_uri": "https://localhost:8080/"
        },
        "id": "s2OocPm9TgB-",
        "outputId": "4e045180-5281-44d9-e644-11318dea2740"
      },
      "execution_count": null,
      "outputs": [
        {
          "output_type": "stream",
          "name": "stdout",
          "text": [
            "(1,1) (1,2) (1,3) (1,4) (1,5) (1,6) \n",
            "(2,1) (2,2) (2,3) (2,4) (2,5) (2,6) \n",
            "(3,1) (3,2) (3,3) (3,4) (3,5) (3,6) \n",
            "(4,1) (4,2) (4,3) (4,4) (4,5) (4,6) \n",
            "(5,1) (5,2) (5,3) (5,4) (5,5) (5,6) \n",
            "(6,1) (6,2) (6,3) (6,4) (6,5) (6,6) \n"
          ]
        }
      ]
    },
    {
      "cell_type": "code",
      "source": [
        "for i in range(1,6):\n",
        "  for j in range(1,i+1):\n",
        "    print(i,end=' ')\n",
        "  print()"
      ],
      "metadata": {
        "colab": {
          "base_uri": "https://localhost:8080/"
        },
        "id": "w6h0GX8lTuGX",
        "outputId": "4ed8f689-6839-473e-f4cc-f4dc0f3bdb04"
      },
      "execution_count": null,
      "outputs": [
        {
          "output_type": "stream",
          "name": "stdout",
          "text": [
            "1 \n",
            "2 2 \n",
            "3 3 3 \n",
            "4 4 4 4 \n",
            "5 5 5 5 5 \n"
          ]
        }
      ]
    },
    {
      "cell_type": "code",
      "source": [
        "# 응용문제\n",
        "k=1\n",
        "for i in range(1,6):\n",
        "  for j in range(i):\n",
        "    print(k,end=' ')\n",
        "    k+=1\n",
        "  print()"
      ],
      "metadata": {
        "colab": {
          "base_uri": "https://localhost:8080/"
        },
        "id": "qRVyTrJnTv1d",
        "outputId": "28455cc7-9c2d-4569-ad13-08733d16a018"
      },
      "execution_count": null,
      "outputs": [
        {
          "output_type": "stream",
          "name": "stdout",
          "text": [
            "1 \n",
            "2 3 \n",
            "4 5 6 \n",
            "7 8 9 10 \n",
            "11 12 13 14 15 \n"
          ]
        }
      ]
    },
    {
      "cell_type": "markdown",
      "source": [
        "## 응용문제 - 구구단 출력"
      ],
      "metadata": {
        "id": "kEY0M4b7T880"
      }
    },
    {
      "cell_type": "code",
      "source": [
        "while True:\n",
        "    num = int(input('단 입력(종료:0) '))\n",
        "    if num == 0:\n",
        "        break\n",
        "    for i in range(1,10):\n",
        "        print(f'{num} x {i} = {num * i}')\n",
        "        \n",
        "print('구구단 프로그램 종료') "
      ],
      "metadata": {
        "colab": {
          "base_uri": "https://localhost:8080/"
        },
        "id": "A2NaFKIWT21F",
        "outputId": "67671397-bd80-42ec-9e20-f9dcb4ff2681"
      },
      "execution_count": null,
      "outputs": [
        {
          "output_type": "stream",
          "name": "stdout",
          "text": [
            "단 입력(종료:0) 2\n",
            "2 x 1 = 2\n",
            "2 x 2 = 4\n",
            "2 x 3 = 6\n",
            "2 x 4 = 8\n",
            "2 x 5 = 10\n",
            "2 x 6 = 12\n",
            "2 x 7 = 14\n",
            "2 x 8 = 16\n",
            "2 x 9 = 18\n",
            "단 입력(종료:0) 0\n",
            "구구단 프로그램 종료\n"
          ]
        }
      ]
    },
    {
      "cell_type": "markdown",
      "source": [
        "## 응용문제 : 김밥배합문제"
      ],
      "metadata": {
        "id": "jDwTM6uqT_QZ"
      }
    },
    {
      "cell_type": "code",
      "source": [
        "main = ['참치','소고기']\n",
        "side = ['치즈','김치']\n",
        "\n",
        "print('main',main)\n",
        "print('side',side)\n",
        "print()\n",
        "print('**** 김밥 배합 ****')\n",
        "\n",
        "n=1\n",
        "for m in main :\n",
        "    for s in side :\n",
        "        print(f'{n}:{m}+{s}+단무지')\n",
        "        n += 1"
      ],
      "metadata": {
        "colab": {
          "base_uri": "https://localhost:8080/"
        },
        "id": "Mmi9CWWTT5Dv",
        "outputId": "af757fe6-0053-40cc-cf9c-2606f94e7a01"
      },
      "execution_count": null,
      "outputs": [
        {
          "output_type": "stream",
          "name": "stdout",
          "text": [
            "main ['참치', '소고기']\n",
            "side ['치즈', '김치']\n",
            "\n",
            "**** 김밥 배합 ****\n",
            "1:참치+치즈+단무지\n",
            "2:참치+김치+단무지\n",
            "3:소고기+치즈+단무지\n",
            "4:소고기+김치+단무지\n"
          ]
        }
      ]
    },
    {
      "cell_type": "markdown",
      "source": [
        "# 응용문제1: 커피자판기\n",
        "\n",
        "\n"
      ],
      "metadata": {
        "id": "b8uavYSVULDl"
      }
    },
    {
      "cell_type": "code",
      "source": [
        "# 리스트 초기화\n",
        "mlist=['뜨아','아아','라떼','모카']\n",
        "plist=[2000,3000,3500,4000]\n",
        "\n",
        "\n",
        "# 메뉴출력\n",
        "print('** 자판기 판매 메뉴 **')\n",
        "\n",
        "for i in range(len(mlist)):\n",
        "    print(f'{i+1} : {mlist[i]} {plist[i]}')\n",
        "\n",
        "print()\n",
        "\n",
        "money=int(input('돈을 투입하세요 : '))\n",
        "print()\n",
        "\n",
        "# 커피와 잔돈 출력\n",
        "while True:\n",
        "    num=int(input('메뉴 선택 (종료:0) :(1-4) '))\n",
        "    #idx=num-1\n",
        "    if num==0:\n",
        "        break\n",
        "    if money <plist[num-1]:\n",
        "        print('잔액부족')\n",
        "    else:\n",
        "        print(mlist[num-1],'구입완료')\n",
        "        money=money-plist[num-1]\n",
        "\n",
        "    print('잔액: ', money)\n",
        "    print()\n",
        "      \n",
        "print(f'자판기 종료, 잔액 {money} 반환')"
      ],
      "metadata": {
        "colab": {
          "base_uri": "https://localhost:8080/"
        },
        "id": "hlWKSRDUUDDK",
        "outputId": "a195cae5-45e5-4d0a-a5e8-bd6751ce61b5"
      },
      "execution_count": null,
      "outputs": [
        {
          "output_type": "stream",
          "name": "stdout",
          "text": [
            "** 자판기 판매 메뉴 **\n",
            "1 : 뜨아 2000\n",
            "2 : 아아 3000\n",
            "3 : 라떼 3500\n",
            "4 : 모카 4000\n",
            "\n",
            "돈을 투입하세요 : 1\n",
            "\n",
            "메뉴 선택 (종료:0) :(1-4) 0\n",
            "자판기 종료, 잔액 1 반환\n"
          ]
        }
      ]
    },
    {
      "cell_type": "markdown",
      "source": [
        ""
      ],
      "metadata": {
        "id": "X1MaiiehULjK"
      }
    },
    {
      "cell_type": "code",
      "source": [
        "# 심화문제 ver1\n",
        "\n",
        "# 딕셔너리 초기화\n",
        "coffee={'뜨아':2000,'아아':3000,'라떼':3500,'모카':4000}\n",
        "\n",
        "# 메뉴출력\n",
        "print('** 자판기 판매 메뉴 **')\n",
        "n=1\n",
        "for k in coffee.keys(): # coffee\n",
        "    print(f'{n} : {k} {coffee[k]}')\n",
        "    n+=1\n",
        "print()\n",
        "\n",
        "money=int(input('돈을 투입하세요 : '))\n",
        "print()\n",
        "\n",
        "# 커피와 잔돈 출력\n",
        "while True:\n",
        "    key=input('메뉴 선택 (종료:0) : ')\n",
        "    if key=='0':\n",
        "        break\n",
        "    if money <coffee[key]:\n",
        "        print('잔액부족')\n",
        "    else:\n",
        "        print(coffee[key],'구입완료')\n",
        "        money=money-coffee[key]\n",
        "\n",
        "    print('잔액: ', money)\n",
        "    print()\n",
        "      \n",
        "# 동전교환\n",
        "c500 = money//500 # 500원 개수\n",
        "change=money%500\n",
        "\n",
        "c100 = change//100  # 100원 개수\n",
        "\n",
        "print('자판기 종료')\n",
        "print(f'500원 {c500}개 반환')\n",
        "print(f'100원 {c100}개 반환')\n"
      ],
      "metadata": {
        "colab": {
          "base_uri": "https://localhost:8080/"
        },
        "id": "aKE-DI5oUMF4",
        "outputId": "01e70b83-6984-45d1-838f-b469fe53f8b7"
      },
      "execution_count": null,
      "outputs": [
        {
          "output_type": "stream",
          "name": "stdout",
          "text": [
            "** 자판기 판매 메뉴 **\n",
            "1 : 뜨아 2000\n",
            "2 : 아아 3000\n",
            "3 : 라떼 3500\n",
            "4 : 모카 4000\n",
            "\n",
            "돈을 투입하세요 : 960\n",
            "\n",
            "메뉴 선택 (종료:0) : 0\n",
            "자판기 종료\n",
            "500원 1개 반환\n",
            "100원 4개 반환\n"
          ]
        }
      ]
    },
    {
      "cell_type": "code",
      "source": [
        "# 심화문제 ver2\n",
        "\n",
        "# 딕셔너리 초기화\n",
        "coffee={1:['뜨아',2000],2:['아아',3000],3:['라떼',3500],4:['모카',4000]}\n",
        "\n",
        "'''\n",
        "def order(m):\n",
        "  coffee={1:['아메리카노',2500],2:['카페라떼',3000],3:['카페모카',3500]}\n",
        "  if m in coffee:\n",
        "    print(f'{coffee[m][0]}의 금액은 {coffee[m][1]}원 입니다.')\n",
        "  else:\n",
        "    print('존재하지 않는 메뉴입니다.')\n",
        "'''\n",
        "# 메뉴출력\n",
        "print('** 자판기 판매 메뉴 **')\n",
        "\n",
        "for k in coffee:\n",
        "    print(f'{k} : {coffee[k][0]} {coffee[k][1]}')\n",
        "print()\n",
        "\n",
        "money=int(input('돈을 투입하세요 : '))\n",
        "print()\n",
        "\n",
        "# 커피와 잔돈 출력\n",
        "while True:\n",
        "    key=int(input('메뉴 선택 (종료:0) : '))\n",
        "    if key==0:\n",
        "        break\n",
        "    if money <coffee[key][1]:\n",
        "        print('잔액부족')\n",
        "    else:\n",
        "        print(coffee[key][0],'구입완료')\n",
        "        money=money-coffee[key][1]\n",
        "\n",
        "    print('잔액: ', money)\n",
        "    print()\n",
        "      \n",
        "# 동전교환\n",
        "c500 = money//500 # 500원 개수\n",
        "change=money%500\n",
        "\n",
        "c100 = change//100  # 100원 개수\n",
        "\n",
        "print('자판기 종료')\n",
        "print(f'500원 {c500}개 반환')\n",
        "print(f'100원 {c100}개 반환')"
      ],
      "metadata": {
        "id": "m-HQk6gFUl1d"
      },
      "execution_count": null,
      "outputs": []
    },
    {
      "cell_type": "markdown",
      "source": [
        "# 응용문제2 : 스마트폰 주소록"
      ],
      "metadata": {
        "id": "U6-bUN1xUxoi"
      }
    },
    {
      "cell_type": "code",
      "source": [
        "addr={}\n",
        "while True:\n",
        "    s=int(input('1) 추가 2) 수정 3) 삭제 4) 검색 5) 전체검색 0)종료: '))\n",
        "    if s==1: # 추가\n",
        "        name=input('name : ')\n",
        "        if name in addr:\n",
        "            print('already exists')\n",
        "        else:\n",
        "            phone=input('phone : ')\n",
        "            addr[name]=phone\n",
        "    elif s==2:# 수정\n",
        "        name=input('name : ')\n",
        "        if name in addr:\n",
        "            phone=input('phone : ')\n",
        "            addr[name]=phone\n",
        "        else:\n",
        "            print('not Found')\n",
        "    elif s==3:# 삭제\n",
        "        name=input('name : ')\n",
        "        if name in addr:\n",
        "            del(addr[name]) # addr.pop(name)\n",
        "        else:\n",
        "            print('not Found')\n",
        "    elif s==4: # 검색\n",
        "        name=input('name : ')\n",
        "        print(addr.get(name,'not Found'))\n",
        "    elif s==5: # 전체검색\n",
        "        for k in addr.keys():\n",
        "            print(f'{k} : {addr[k]}')\n",
        "    elif s==0: # 종료\n",
        "        break\n",
        "    else:\n",
        "        print('잘못된 선택 메뉴입니다.')\n",
        "    \n",
        "    \n",
        "    \n"
      ],
      "metadata": {
        "colab": {
          "base_uri": "https://localhost:8080/"
        },
        "id": "1f-VfgNBUyRU",
        "outputId": "586d41b1-beeb-428c-a9fe-4ec590acf191"
      },
      "execution_count": null,
      "outputs": [
        {
          "name": "stdout",
          "output_type": "stream",
          "text": [
            "1) 추가 2) 수정 3) 삭제 4) 검색 5) 전체검색 0)종료: 5\n",
            "1) 추가 2) 수정 3) 삭제 4) 검색 5) 전체검색 0)종료: 5\n",
            "1) 추가 2) 수정 3) 삭제 4) 검색 5) 전체검색 0)종료: 5\n",
            "1) 추가 2) 수정 3) 삭제 4) 검색 5) 전체검색 0)종료: 1\n",
            "name : 아이유\n",
            "phone : 123\n",
            "1) 추가 2) 수정 3) 삭제 4) 검색 5) 전체검색 0)종료: 5\n",
            "아이유 : 123\n",
            "1) 추가 2) 수정 3) 삭제 4) 검색 5) 전체검색 0)종료: 0\n"
          ]
        }
      ]
    },
    {
      "cell_type": "markdown",
      "source": [
        "# 함수의 리뷰\n",
        "\n",
        "-  함수(Function)은 특정한 작업을 위해 서로 관련되어 있는 일련의 명령문이다.\n",
        "\n",
        "     사용자 정의 함수\n",
        "  • 함수를 직접 만들기 위해서는 def 라는 예약어를 사용한다\n",
        "\n",
        "• 함수의 입력은 없을 수도 있고, 있다면 하나 이상 있을 수 있다.\n",
        "\n",
        "• 함수의 입력은 매개변수(parameter)를 통하여 입력된다.\n",
        "\n",
        "• 함수의 출력은 없을 수도 있고, 있다면 하나만 있을 수 있다.\n",
        "\n",
        "• 함수의 출력은 return 뒤에 값을 나열하는 형태의 반환된다.\n",
        "\n",
        "• return 뒤에 아무것도 없으면 반환 값 없이 함수 종료된다.\n",
        "\n",
        "     메인코드에서 함수를 호출할 때 호출된 함수에 전달할 값을 인자(argument)라 부른다"
      ],
      "metadata": {
        "id": "0YsIevlnWRX0"
      }
    },
    {
      "cell_type": "code",
      "source": [
        "import random\n",
        "\n",
        "# 함수정의\n",
        "def getNum():\n",
        "    r=random.randint(1,45)\n",
        "    return r\n",
        "\n",
        "# 메인코드\n",
        "lotto=[]\n",
        "\n",
        "print('**로또 프로그램을 시작합니다.**')\n",
        "\n",
        "while True:\n",
        "    n=getNum()\n",
        "    if lotto.count(n)==0:\n",
        "        lotto.append(n)\n",
        "    if len(lotto)==6:break\n",
        "\n",
        "print('추첨된 로또 번호 : ', end= '')\n",
        "lotto.sort()\n",
        "#print(lotto)\n",
        "for i in range(6):\n",
        "    print(f'{lotto[i]} ', end='')"
      ],
      "metadata": {
        "colab": {
          "base_uri": "https://localhost:8080/"
        },
        "id": "NKSnZLVCU2sE",
        "outputId": "b6aacef2-cea7-4d30-a559-9533b5961396"
      },
      "execution_count": null,
      "outputs": [
        {
          "output_type": "stream",
          "name": "stdout",
          "text": [
            "**로또 프로그램을 시작합니다.**\n",
            "추첨된 로또 번호 : 3 10 18 20 33 43 "
          ]
        }
      ]
    },
    {
      "cell_type": "code",
      "source": [
        "import random\n",
        "\n",
        "# 함수정의\n",
        "def getNum():\n",
        "    r=random.randint(1,45)\n",
        "    return r\n",
        "\n",
        "# 메인코드\n",
        "lotto=list()\n",
        "print('**로또 프로그램을 시작합니다.**')\n",
        "while True:\n",
        "    n=getNum()\n",
        "    if lotto.count(n)==0:\n",
        "        lotto.append(n)\n",
        "    if len(lotto)==6:break\n",
        "\n",
        "print('추첨된 로또 번호 : ', end= '')\n",
        "lotto.sort()\n",
        "print(lotto)\n",
        "while True:\n",
        "  n=getNum()\n",
        "  if lotto.count(n)==0:break\n",
        "\n",
        "for i in range(6):\n",
        "    print(f'{lotto[i]} ', end='')\n",
        "print(f'bonus {n}')"
      ],
      "metadata": {
        "colab": {
          "base_uri": "https://localhost:8080/"
        },
        "id": "OqXKjaATbB2y",
        "outputId": "ccc75e84-8a8e-4092-e4d3-d4e9cd4f7587"
      },
      "execution_count": null,
      "outputs": [
        {
          "output_type": "stream",
          "name": "stdout",
          "text": [
            "**로또 프로그램을 시작합니다.**\n",
            "추첨된 로또 번호 : [4, 10, 12, 35, 36, 43]\n",
            "4 10 12 35 36 43 bonus 24\n"
          ]
        }
      ]
    },
    {
      "cell_type": "markdown",
      "source": [
        "# 함수 실습 예제"
      ],
      "metadata": {
        "id": "n43GlONPupme"
      }
    },
    {
      "cell_type": "code",
      "source": [
        "# 실습예제 2\n",
        "\n",
        "def grade(s):\n",
        "  if s>=90:\n",
        "    result='A'\n",
        "  elif s>=80:\n",
        "    result='B'\n",
        "  elif s>=70:\n",
        "    result='C'\n",
        "  else:\n",
        "    result='F'\n",
        "  print(result)\n",
        "\n",
        "# 메인코드\n",
        "score=int(input('score:'))\n",
        "grade(score)"
      ],
      "metadata": {
        "colab": {
          "base_uri": "https://localhost:8080/"
        },
        "id": "Tv5F5uJGuqE3",
        "outputId": "8d469200-75dc-4acb-c5dc-b4bc93cc6714"
      },
      "execution_count": null,
      "outputs": [
        {
          "output_type": "stream",
          "name": "stdout",
          "text": [
            "score:86\n",
            "B\n"
          ]
        }
      ]
    },
    {
      "cell_type": "code",
      "source": [
        "# 실습예제 2-2\n",
        "def grade(s):\n",
        "  if s>=90:\n",
        "    result='A'\n",
        "  elif s>=80:\n",
        "    result='B'\n",
        "  elif s>=70:\n",
        "    result='C'\n",
        "  else:\n",
        "    result='F'\n",
        "  print(result)\n",
        "\n",
        "# 메인코드\n",
        "score=[]\n",
        "n=int(input('count:'))\n",
        "for i in range(n):\n",
        "  s=int(input('score:'))\n",
        "  score.append(s)\n",
        "for i in range(n):\n",
        "  grade(score[i])"
      ],
      "metadata": {
        "colab": {
          "base_uri": "https://localhost:8080/"
        },
        "id": "_HvVyb3ruz9u",
        "outputId": "6e22761a-7fa3-4cce-9ffb-f07f8fe07de2"
      },
      "execution_count": null,
      "outputs": [
        {
          "output_type": "stream",
          "name": "stdout",
          "text": [
            "count:4\n",
            "score:88\n",
            "score:76\n",
            "score:95\n",
            "score:64\n",
            "B\n",
            "C\n",
            "A\n",
            "F\n"
          ]
        }
      ]
    },
    {
      "cell_type": "markdown",
      "source": [
        "## 가변 매개변수 *args"
      ],
      "metadata": {
        "id": "Mi3ltN-sOsdb"
      }
    },
    {
      "cell_type": "code",
      "source": [
        "def show(*args):\n",
        "  print(args)\n",
        "  print(type(args))\n",
        "\n",
        "show(10, 20)\n",
        "show(10, 20, 30)"
      ],
      "metadata": {
        "colab": {
          "base_uri": "https://localhost:8080/"
        },
        "id": "nvHWJ0MDu_UF",
        "outputId": "c50dc1fe-0469-454d-ca26-e183811ee760"
      },
      "execution_count": null,
      "outputs": [
        {
          "output_type": "stream",
          "name": "stdout",
          "text": [
            "(10, 20)\n",
            "<class 'tuple'>\n",
            "(10, 20, 30)\n",
            "<class 'tuple'>\n"
          ]
        }
      ]
    },
    {
      "cell_type": "code",
      "source": [
        "def average(*score): # 튜플\n",
        "  print(score)\n",
        "  print(type(score))\n",
        "  for i in range(len(score)):\n",
        "    print(score[i])\n",
        "\n",
        "# 함수의 호출\n",
        "average(100,100)    \n",
        "average(10,20,30)"
      ],
      "metadata": {
        "colab": {
          "base_uri": "https://localhost:8080/"
        },
        "id": "YAZ3QJbPvXHM",
        "outputId": "1797f692-2996-458b-a604-8912e46e3648"
      },
      "execution_count": null,
      "outputs": [
        {
          "output_type": "stream",
          "name": "stdout",
          "text": [
            "(100, 100)\n",
            "<class 'tuple'>\n",
            "100\n",
            "100\n",
            "(10, 20, 30)\n",
            "<class 'tuple'>\n",
            "10\n",
            "20\n",
            "30\n"
          ]
        }
      ]
    },
    {
      "cell_type": "code",
      "source": [
        "def average(*score): # 튜플\n",
        "  hap=0\n",
        "  for i in range(len(score)):\n",
        "    hap+=score[i]\n",
        "  avg=hap/len(score)\n",
        "  print(f'avg : {avg}')\n",
        "\n",
        "average(100,100)    \n",
        "average(50,60,70)"
      ],
      "metadata": {
        "colab": {
          "base_uri": "https://localhost:8080/"
        },
        "id": "5Rjis7A0v4ev",
        "outputId": "385ca144-1e0f-4d41-ec51-b4b4d0f8d05a"
      },
      "execution_count": null,
      "outputs": [
        {
          "output_type": "stream",
          "name": "stdout",
          "text": [
            "avg : 100.0\n",
            "avg : 60.0\n"
          ]
        }
      ]
    },
    {
      "cell_type": "markdown",
      "source": [
        "## 기본매개변수=디폴트매개변수"
      ],
      "metadata": {
        "id": "VNqQr3GNvh5l"
      }
    },
    {
      "cell_type": "code",
      "source": [
        "def print_n(value,n=2):\n",
        "  for i in range(n):\n",
        "    print(value)\n",
        "\n",
        "print_n('Hello')"
      ],
      "metadata": {
        "colab": {
          "base_uri": "https://localhost:8080/"
        },
        "id": "3VmJNNXJvi7S",
        "outputId": "06682a4e-0ba3-4c4c-ff76-678016875db0"
      },
      "execution_count": null,
      "outputs": [
        {
          "output_type": "stream",
          "name": "stdout",
          "text": [
            "Hello\n",
            "Hello\n"
          ]
        }
      ]
    },
    {
      "cell_type": "markdown",
      "source": [
        "## 매개변수의 변수 값 전달 방식\n",
        "- 주소에 의한 호출(call by reference)"
      ],
      "metadata": {
        "id": "tHW0ROQqwp9L"
      }
    },
    {
      "cell_type": "code",
      "source": [
        "def func(x):\n",
        "  print(id(x))\n",
        "  x=10\n",
        "  print(f'함수{x}')\n",
        "  print(id(x))\n",
        "\n",
        "x=5\n",
        "print(id(x))\n",
        "func(x)\n",
        "print(f'메인{x}')\n"
      ],
      "metadata": {
        "colab": {
          "base_uri": "https://localhost:8080/"
        },
        "id": "LCIKCufrwqWp",
        "outputId": "ee0c3c97-6d94-4976-a75d-97adad53fa21"
      },
      "execution_count": null,
      "outputs": [
        {
          "output_type": "stream",
          "name": "stdout",
          "text": [
            "94203322940032\n",
            "94203322940032\n",
            "함수10\n",
            "94203322940192\n",
            "메인5\n"
          ]
        }
      ]
    },
    {
      "cell_type": "code",
      "source": [
        "# swap알고리즘\n",
        "def swap(aa,bb):\n",
        "  print(id(aa),id(bb))\n",
        "  return bb,aa\n",
        "\n",
        "a,b=10,5\n",
        "print(id(a),id(b))\n",
        "print('before:',(a,b))\n",
        "result=swap(a,b)\n",
        "print(id(a),id(b))\n",
        "print('after:',result)"
      ],
      "metadata": {
        "colab": {
          "base_uri": "https://localhost:8080/"
        },
        "id": "ZWQmqEadwqw6",
        "outputId": "7403d44c-12d8-4ca4-f024-0a28ddfaa4e7"
      },
      "execution_count": null,
      "outputs": [
        {
          "output_type": "stream",
          "name": "stdout",
          "text": [
            "94203322940192 94203322940032\n",
            "before: (10, 5)\n",
            "94203322940192 94203322940032\n",
            "94203322940192 94203322940032\n",
            "after: (5, 10)\n"
          ]
        }
      ]
    },
    {
      "cell_type": "markdown",
      "source": [
        "# 람다함수정의"
      ],
      "metadata": {
        "id": "-fJq8m3eWuqi"
      }
    },
    {
      "cell_type": "code",
      "source": [
        "def plus(x,y):\n",
        "  return x+y\n",
        "print(plus(10,20))"
      ],
      "metadata": {
        "colab": {
          "base_uri": "https://localhost:8080/"
        },
        "id": "5SjhfqRrWUiG",
        "outputId": "1fa7b9b6-8250-42db-eae0-fd5798309747"
      },
      "execution_count": null,
      "outputs": [
        {
          "output_type": "stream",
          "name": "stdout",
          "text": [
            "30\n"
          ]
        }
      ]
    },
    {
      "cell_type": "code",
      "source": [
        "result=lambda x,y:x+y\n",
        "result(10,20)"
      ],
      "metadata": {
        "colab": {
          "base_uri": "https://localhost:8080/"
        },
        "id": "WBosB-3aWz5C",
        "outputId": "ee8e1c51-1193-4240-95cc-afff4723e0d1"
      },
      "execution_count": null,
      "outputs": [
        {
          "output_type": "execute_result",
          "data": {
            "text/plain": [
              "30"
            ]
          },
          "metadata": {},
          "execution_count": 242
        }
      ]
    },
    {
      "cell_type": "code",
      "source": [
        "def plus(x):\n",
        "  return x+5\n",
        "  \n",
        "list(map(plus,[10,20,30]))"
      ],
      "metadata": {
        "colab": {
          "base_uri": "https://localhost:8080/"
        },
        "id": "g_zKLo05W4Ki",
        "outputId": "39c4dbc0-cb0a-4c7b-e502-6fd223b780a1"
      },
      "execution_count": null,
      "outputs": [
        {
          "output_type": "execute_result",
          "data": {
            "text/plain": [
              "[15, 25, 35]"
            ]
          },
          "metadata": {},
          "execution_count": 2
        }
      ]
    },
    {
      "cell_type": "code",
      "source": [
        "list(map(lambda x:x+5,[10,20,30]))"
      ],
      "metadata": {
        "colab": {
          "base_uri": "https://localhost:8080/"
        },
        "id": "o1_AIoRgXAV6",
        "outputId": "2f485208-7ab8-437f-8c29-479583139c5b"
      },
      "execution_count": null,
      "outputs": [
        {
          "output_type": "execute_result",
          "data": {
            "text/plain": [
              "[15, 25, 35]"
            ]
          },
          "metadata": {},
          "execution_count": 3
        }
      ]
    },
    {
      "cell_type": "code",
      "source": [
        "def func1():\n",
        "  a = 10\n",
        "  print(a)\n",
        "\n",
        "func1()\n",
        "print(a)"
      ],
      "metadata": {
        "colab": {
          "base_uri": "https://localhost:8080/"
        },
        "id": "mvJrULjJXuwh",
        "outputId": "f5ceeab1-1063-4988-e18f-d164a9107fba"
      },
      "execution_count": null,
      "outputs": [
        {
          "output_type": "stream",
          "name": "stdout",
          "text": [
            "10\n",
            "1\n"
          ]
        }
      ]
    },
    {
      "cell_type": "code",
      "source": [
        "def func1():\n",
        "  a = 10\n",
        "  print(a)\n",
        "\n",
        "a = 20\n",
        "func1()\n",
        "print(a)"
      ],
      "metadata": {
        "colab": {
          "base_uri": "https://localhost:8080/"
        },
        "id": "WrJsF8QSYtxL",
        "outputId": "2f9f5d54-b837-47b3-e9e9-775be99b24cc"
      },
      "execution_count": null,
      "outputs": [
        {
          "output_type": "stream",
          "name": "stdout",
          "text": [
            "10\n",
            "20\n"
          ]
        }
      ]
    },
    {
      "cell_type": "code",
      "source": [
        "def func1():\n",
        "  global a\n",
        "  a = 10\n",
        "  print(a)\n",
        "\n",
        "a = 20\n",
        "func1()\n",
        "print(a)"
      ],
      "metadata": {
        "colab": {
          "base_uri": "https://localhost:8080/"
        },
        "id": "UnU7YR8BY4NJ",
        "outputId": "3173bb78-a6b4-406f-dd9d-e7618c96c417"
      },
      "execution_count": null,
      "outputs": [
        {
          "output_type": "stream",
          "name": "stdout",
          "text": [
            "10\n",
            "10\n"
          ]
        }
      ]
    },
    {
      "cell_type": "markdown",
      "source": [
        "# 사용자 정의 모듈"
      ],
      "metadata": {
        "id": "NppHASOeyQeB"
      }
    },
    {
      "cell_type": "code",
      "source": [
        "import main\n",
        "\n",
        "main.study()\n",
        "main.eat()\n",
        "print(main.name)"
      ],
      "metadata": {
        "id": "u_hQ9QQkY-FX",
        "colab": {
          "base_uri": "https://localhost:8080/"
        },
        "outputId": "ab5cdfdf-0385-4ab6-d2a6-db9dc60d9dbf"
      },
      "execution_count": null,
      "outputs": [
        {
          "output_type": "stream",
          "name": "stdout",
          "text": [
            "<function name at 0x7f3365c3d200>\n"
          ]
        }
      ]
    },
    {
      "cell_type": "markdown",
      "source": [
        "## 모듈 불러오는 방법"
      ],
      "metadata": {
        "id": "J-IAxp8PztNd"
      }
    },
    {
      "cell_type": "code",
      "source": [
        "import random \n",
        "r = random.randint(1, 10)\n",
        "r"
      ],
      "metadata": {
        "colab": {
          "base_uri": "https://localhost:8080/"
        },
        "id": "MgmV3XOkzrhb",
        "outputId": "eeab5a73-07b3-44b6-fde2-e5a49abc1b32"
      },
      "execution_count": null,
      "outputs": [
        {
          "output_type": "execute_result",
          "data": {
            "text/plain": [
              "5"
            ]
          },
          "metadata": {},
          "execution_count": 24
        }
      ]
    },
    {
      "cell_type": "code",
      "source": [
        "import random as rd\n",
        "\n",
        "rd.randrange(10)"
      ],
      "metadata": {
        "colab": {
          "base_uri": "https://localhost:8080/"
        },
        "id": "ROvO_tUvz-ul",
        "outputId": "94b60fee-3eb3-44d2-defa-b7a778c0ab3a"
      },
      "execution_count": null,
      "outputs": [
        {
          "output_type": "execute_result",
          "data": {
            "text/plain": [
              "4"
            ]
          },
          "metadata": {},
          "execution_count": 26
        }
      ]
    },
    {
      "cell_type": "code",
      "source": [
        "from random import *\n",
        "randint(1, 10)"
      ],
      "metadata": {
        "colab": {
          "base_uri": "https://localhost:8080/"
        },
        "id": "NwXx2C8_z-l_",
        "outputId": "167d3f13-e2e9-440d-c48e-9def86789b55"
      },
      "execution_count": null,
      "outputs": [
        {
          "output_type": "execute_result",
          "data": {
            "text/plain": [
              "5"
            ]
          },
          "metadata": {},
          "execution_count": 27
        }
      ]
    },
    {
      "cell_type": "code",
      "source": [
        "import random as rd\n",
        "\n",
        "rd.sample(range(1,50), 6)\n"
      ],
      "metadata": {
        "colab": {
          "base_uri": "https://localhost:8080/"
        },
        "id": "IP3Q1aZgw7lb",
        "outputId": "3022b927-27da-4aee-f7ad-8cdd380b2b39"
      },
      "execution_count": null,
      "outputs": [
        {
          "output_type": "execute_result",
          "data": {
            "text/plain": [
              "[9, 28, 30, 43, 14, 11]"
            ]
          },
          "metadata": {},
          "execution_count": 69
        }
      ]
    },
    {
      "cell_type": "code",
      "source": [
        "#map 함수 활용\n",
        "num=[1.5,2.8,4.5,1.1]\n",
        "\n",
        "for i in range(len(num)):\n",
        "    num[i]=int(num[i])\n",
        "print(num)\n",
        "\n",
        "num=['10','30','40']\n",
        "result=list(map(int,num))\n",
        "print(result)"
      ],
      "metadata": {
        "colab": {
          "base_uri": "https://localhost:8080/"
        },
        "id": "fDIJiQL8z-ev",
        "outputId": "39a9bf82-81c0-4c05-b15c-ca29b18d01ed"
      },
      "execution_count": null,
      "outputs": [
        {
          "output_type": "stream",
          "name": "stdout",
          "text": [
            "[1, 2, 4, 1]\n",
            "[10, 30, 40]\n"
          ]
        }
      ]
    },
    {
      "cell_type": "code",
      "source": [
        "# from google.colab import drive\n",
        "# drive.mount('/content/drive')"
      ],
      "metadata": {
        "id": "f-Yd_0exzeK9"
      },
      "execution_count": null,
      "outputs": []
    },
    {
      "cell_type": "markdown",
      "source": [
        "# 응용문제 1 : 문자열 반복"
      ],
      "metadata": {
        "id": "bjXofFNZ0fUb"
      }
    },
    {
      "cell_type": "code",
      "source": [
        "def print_str(s,c):\n",
        "  for i in range(c):\n",
        "    print(s)\n",
        "\n",
        "\n",
        "'''\n",
        "def print_str(s, c):\n",
        "  print(s*c)\n",
        "'''\n",
        "\n",
        "\n",
        "\n",
        "#메인코드\n",
        "\n",
        "string = input('문자열')\n",
        "cnt = int(input(\"횟수\"))\n",
        "print_str(string, cnt )"
      ],
      "metadata": {
        "colab": {
          "base_uri": "https://localhost:8080/"
        },
        "id": "j6VbOhME0iBm",
        "outputId": "e3ec3578-ab46-41be-e07e-e53ed2c78a6b"
      },
      "execution_count": null,
      "outputs": [
        {
          "output_type": "stream",
          "name": "stdout",
          "text": [
            "문자열화이트갈릭버거\n",
            "횟수3\n",
            "화이트갈릭버거\n",
            "화이트갈릭버거\n",
            "화이트갈릭버거\n"
          ]
        }
      ]
    },
    {
      "cell_type": "markdown",
      "source": [
        "# 응용문제 2 : 계산기 프로그램"
      ],
      "metadata": {
        "id": "j1NJZt4m1HBP"
      }
    },
    {
      "cell_type": "code",
      "source": [
        "def add(n1,n2):\n",
        "  return n1+n2\n",
        "\n",
        "def sub(n1,n2):\n",
        "  if n1>n2:\n",
        "    result=n1-n2\n",
        "  else:\n",
        "    result=n2-n1\n",
        "  return result\n",
        "\n",
        "def mul(n1,n2):\n",
        "  return n1*n2\n",
        "\n",
        "def div(n1,n2):\n",
        "  return n1/n2\n",
        "\n",
        "# main\n",
        "\n",
        "while True:\n",
        "  n1=int(input('num1:'))\n",
        "  if n1==0:break\n",
        "  n2=int(input('num2:'))\n",
        "  prompt='1:add 2:sub 3:mum 4:div => '\n",
        "  select=int(input(prompt))\n",
        "  if select==1:\n",
        "    print(add(n1,n2))\n",
        "  elif select==2:\n",
        "    print(sub(n1,n2))\n",
        "  elif select==3:\n",
        "    print(mul(n1,n2))\n",
        "  elif select==4:\n",
        "    if n2==0:\n",
        "      print('not divide by 0')\n",
        "    else:\n",
        "      print(div(n1,n2))\n"
      ],
      "metadata": {
        "colab": {
          "base_uri": "https://localhost:8080/"
        },
        "id": "sICfdzVH1KSy",
        "outputId": "dc2ede09-f37a-4421-c779-89f989841fae"
      },
      "execution_count": null,
      "outputs": [
        {
          "name": "stdout",
          "output_type": "stream",
          "text": [
            "num1:36\n",
            "num2:21\n",
            "1:add 2:sub 3:mum 4:div => 3\n",
            "756\n",
            "num1:0\n"
          ]
        }
      ]
    },
    {
      "cell_type": "markdown",
      "source": [
        "# 응용문제 3 : 커피자판기 프로그램"
      ],
      "metadata": {
        "id": "wsJzxj_J1Jcw"
      }
    },
    {
      "cell_type": "code",
      "source": [
        "# 함수정의\n",
        "def menu_List(): # 메뉴\n",
        "    print('** 자판기 판매 메뉴 **')\n",
        "    for i in coffee: \n",
        "        print(f'{i}:{coffee[i]}')\n",
        "\n",
        "def change(money): # 동전교환  \n",
        "    c500 = money//500 \n",
        "    change=money%500    \n",
        "    c100 = change//100 #    \n",
        "    print(f'500원 {c500}개 반환')\n",
        "    print(f'100원 {c100}개 반환')\n",
        "\n",
        "def m_Input(): # 투입\n",
        "     money=int(input('돈을 투입하세요 : '))\n",
        "     return money\n",
        "\n",
        "def m_calc():\n",
        "    global money\n",
        "    if money <coffee[m][1]:#\n",
        "        print('잔액부족')\n",
        "        money=m_Input()\n",
        "    else:\n",
        "        print(coffee[m][0],'구입완료') #\n",
        "        money=money-coffee[m][1]#\n",
        "        \n",
        "# 메인코드    \n",
        "coffee={1:['뜨아',2000],2:['아아',3000],3:['라떼',3500]}\n",
        "menu_List()       \n",
        "print()\n",
        "money=m_Input() # 전역변수\n",
        "while True:\n",
        "    m = int(input('메뉴 선택 (종료:0) : '))\n",
        "    if m==0:break\n",
        "    m_calc()    \n",
        "    print('잔액: ', money)\n",
        "    print()\n",
        "      \n",
        "print('자판기 종료, 동전 반환')\n",
        "change(money)"
      ],
      "metadata": {
        "colab": {
          "base_uri": "https://localhost:8080/"
        },
        "id": "N4UOps-b1W6v",
        "outputId": "381095c0-2b18-4f2a-e930-65ed73896748"
      },
      "execution_count": null,
      "outputs": [
        {
          "output_type": "stream",
          "name": "stdout",
          "text": [
            "** 자판기 판매 메뉴 **\n",
            "1:['뜨아', 2000]\n",
            "2:['아아', 3000]\n",
            "3:['라떼', 3500]\n",
            "\n",
            "돈을 투입하세요 : 5000\n",
            "메뉴 선택 (종료:0) : 3\n",
            "라떼 구입완료\n",
            "잔액:  1500\n",
            "\n",
            "메뉴 선택 (종료:0) : 3\n",
            "잔액부족\n",
            "돈을 투입하세요 : 1\n",
            "잔액:  1\n",
            "\n",
            "메뉴 선택 (종료:0) : 0\n",
            "자판기 종료, 동전 반환\n",
            "500원 0개 반환\n",
            "100원 0개 반환\n"
          ]
        }
      ]
    },
    {
      "cell_type": "markdown",
      "source": [
        "# 응용문제 4 : 스마트폰 연락처 관리 프로그램"
      ],
      "metadata": {
        "id": "j1Fxx5Vu1WrM"
      }
    },
    {
      "cell_type": "code",
      "source": [
        "def add(name):\n",
        "  if name in addr:\n",
        "    print(\"already exists\")\n",
        "  else:\n",
        "    phone = input('phone : ')\n",
        "    addr[name] = phone\n",
        "\n",
        "\n",
        "def update(name):\n",
        "  if name in addr:\n",
        "    phone = input(\"phone : \")\n",
        "    addr[name] = phone\n",
        "  else:\n",
        "    print(\"not Found\")\n",
        "\n",
        "\n",
        "def delete(name):\n",
        "  if name in addr:\n",
        "    del addr[name] #addr.pop(name)\n",
        "  else:\n",
        "    print('not Found')\n",
        "\n",
        "def search(name):\n",
        "  if name in addr:\n",
        "    print(name, addr[name])\n",
        "  else:\n",
        "    print('not Found')\n",
        "\n",
        "def all_search(name):\n",
        "  for k ,v in addr.items():\n",
        "    print(f'{k} : {v}')\n",
        "\n",
        "\n",
        "def scan(s):\n",
        "  result = input(s+' name : ')\n",
        "  return result\n",
        "\n",
        "addr = {}\n",
        "\n",
        "\n",
        "while True :\n",
        "  prompt='[ 1) 추가 2) 수정 3) 삭제 4) 검색 5) 전체검색 6)종료 ] : '\n",
        "  selection = int(input(prompt))\n",
        "  \n",
        "  if selection == 0 : break\n",
        "  if selection == 1:\n",
        "    name = scan('add')\n",
        "    add(name)\n",
        "  elif selection == 2:\n",
        "    name = scan('update')\n",
        "    update(name)\n",
        "  elif selection == 3:\n",
        "    name = scan('delete')\n",
        "    delete(name)\n",
        "  elif selection ==4:\n",
        "    name = scan('search')\n",
        "    search(name)\n",
        "  elif selection ==5:\n",
        "    all_search()    \n"
      ],
      "metadata": {
        "colab": {
          "base_uri": "https://localhost:8080/"
        },
        "id": "WkVB2FCB1qte",
        "outputId": "4098a369-279b-419d-e86f-0dc842630626"
      },
      "execution_count": null,
      "outputs": [
        {
          "name": "stdout",
          "output_type": "stream",
          "text": [
            "[ 1) 추가 2) 수정 3) 삭제 4) 검색 5) 전체검색 6)종료 ] : 1\n",
            "add name : 아이유\n",
            "phone : 123456789\n",
            "[ 1) 추가 2) 수정 3) 삭제 4) 검색 5) 전체검색 6)종료 ] : 6\n",
            "[ 1) 추가 2) 수정 3) 삭제 4) 검색 5) 전체검색 6)종료 ] : 6\n",
            "[ 1) 추가 2) 수정 3) 삭제 4) 검색 5) 전체검색 6)종료 ] : 6\n",
            "[ 1) 추가 2) 수정 3) 삭제 4) 검색 5) 전체검색 6)종료 ] : 0\n"
          ]
        }
      ]
    },
    {
      "cell_type": "markdown",
      "source": [
        "# 응용문제 5 : 인공지능을 위한 빅데이터 분석의 예제\n",
        "- 인공지능은 입력 데이터로 학습을 시켜야 한다. 입력데이터는 training_data를 사용, 2차원 리스트로 구성되어있다. flower_counts()에서 입력데이터에 대한 꽃들의 개수를 카운트하여 그 정보를 딕셔너리 형식으로 저장한 후 출력해보자.\n",
        "- 컬렉션자료형(리스트, 딕셔너리)\n",
        "- 함수정의와 호출\n",
        "- 제어문"
      ],
      "metadata": {
        "id": "mpxqSfH431-U"
      }
    },
    {
      "cell_type": "code",
      "source": [
        "def flower_counts(data):\n",
        "  for row in data:\n",
        "    label=row[-1]\n",
        "    value=flower.get(label)\n",
        "    if value==None:\n",
        "      flower[label]=1\n",
        "    else:\n",
        "      flower[label]+=1    \n",
        "  \n",
        "\n",
        "training_data=[['노랑',2,'개나리'],\n",
        "               ['흰색',5,'벚꽃'],\n",
        "               ['노랑',5,'개나리'],\n",
        "               ['흰색',2,'목련'],\n",
        "               ['분홍색',2,'진달래']]\n",
        "flower={}\n",
        "flower_counts(training_data)\n",
        "print(flower)"
      ],
      "metadata": {
        "colab": {
          "base_uri": "https://localhost:8080/"
        },
        "id": "rWE8vnrw35cX",
        "outputId": "0d12aadc-4f4a-4464-8b0c-99a1e59f039a"
      },
      "execution_count": null,
      "outputs": [
        {
          "output_type": "stream",
          "name": "stdout",
          "text": [
            "{'개나리': 2, '벚꽃': 1, '목련': 1, '진달래': 1}\n"
          ]
        }
      ]
    },
    {
      "cell_type": "code",
      "source": [
        "def flower_counts(data):\n",
        "  for row in data:\n",
        "    label=row[-1]\n",
        "    if label not in flower:\n",
        "      flower[label]=1\n",
        "    else:\n",
        "      flower[label]+=1\n",
        "  \n",
        "\n",
        "training_data=[['노랑',2,'개나리'],\n",
        "               ['흰색',5,'벚꽃'],\n",
        "               ['노랑',5,'개나리'],\n",
        "               ['흰색',2,'목련'],\n",
        "               ['분홍색',2,'진달래']]\n",
        "flower={}\n",
        "flower_counts(training_data)\n",
        "print(flower)"
      ],
      "metadata": {
        "colab": {
          "base_uri": "https://localhost:8080/"
        },
        "id": "HD64RIo64ETc",
        "outputId": "925134a4-73ba-4e99-b357-87b6a010a7f5"
      },
      "execution_count": null,
      "outputs": [
        {
          "output_type": "stream",
          "name": "stdout",
          "text": [
            "{'개나리': 2, '벚꽃': 1, '목련': 1, '진달래': 1}\n"
          ]
        }
      ]
    },
    {
      "cell_type": "markdown",
      "source": [
        "# 텍스트 파일 처리"
      ],
      "metadata": {
        "id": "Pc6g-oDFa3yz"
      }
    },
    {
      "cell_type": "code",
      "source": [
        "#help(open)"
      ],
      "metadata": {
        "id": "l_tR9jHSa5Db"
      },
      "execution_count": null,
      "outputs": []
    },
    {
      "cell_type": "markdown",
      "source": [
        "## 파일 읽기\n",
        "- read() 함수는 파일의 전체 내용을 문자열로 반환한다.\n",
        "\n",
        "- readline()  함수는 파일의 내용을 한 줄씩 읽어서 문자열로 반환한다\n",
        "더 이상 읽을 줄이 없는 경우 빈 문자열(‘’)을 반환한다.\n",
        "\n",
        "- readlines() 함수는 파일의 모든 줄을 읽어서 리스트로 반환한다."
      ],
      "metadata": {
        "id": "Jhm8ZiLlbTUy"
      }
    },
    {
      "cell_type": "markdown",
      "source": [
        ""
      ],
      "metadata": {
        "id": "iE18Dp-lBB5M"
      }
    },
    {
      "cell_type": "code",
      "source": [
        "filename='/content/name.txt'\n",
        "f=open(filename,encoding='utf-8') # 한글 전용인코딩 방식인 => cp949\n",
        "data=f.read()\n",
        "# type(data) # print(f.read())\n",
        "print(data)\n",
        "f.close()"
      ],
      "metadata": {
        "colab": {
          "base_uri": "https://localhost:8080/"
        },
        "id": "2x4THC-GbPBG",
        "outputId": "1a26697e-e26b-4a13-a038-defb80dd2060"
      },
      "execution_count": null,
      "outputs": [
        {
          "output_type": "stream",
          "name": "stdout",
          "text": [
            "홍길동\n",
            "홍이동\n",
            "홍삼동\n"
          ]
        }
      ]
    },
    {
      "cell_type": "code",
      "source": [
        "f = open('/content/name.txt')\n",
        "data = f.readline()\n",
        "print(data)\n",
        "f.close()"
      ],
      "metadata": {
        "colab": {
          "base_uri": "https://localhost:8080/"
        },
        "id": "vebALAZiDj6M",
        "outputId": "c69ca25d-8d31-42bb-e6c3-98d197a830ca"
      },
      "execution_count": null,
      "outputs": [
        {
          "output_type": "stream",
          "name": "stdout",
          "text": [
            "이순신\n",
            "\n"
          ]
        }
      ]
    },
    {
      "cell_type": "code",
      "source": [
        "f = open('/content/name.txt')\n",
        "while True:\n",
        "  data = f.readline()\n",
        "  if data == '': break\n",
        "  print(data, end= '')\n",
        "f.close()"
      ],
      "metadata": {
        "colab": {
          "base_uri": "https://localhost:8080/"
        },
        "id": "XLe-2ujdDyx_",
        "outputId": "656c0e94-45a1-4334-8b55-e455a0b76447"
      },
      "execution_count": null,
      "outputs": [
        {
          "output_type": "stream",
          "name": "stdout",
          "text": [
            "이순신\n"
          ]
        }
      ]
    },
    {
      "cell_type": "code",
      "source": [
        "f = open('/content/name.txt')\n",
        "df1 = f.readlines()\n",
        "print(df1)\n",
        "f.close"
      ],
      "metadata": {
        "id": "2dwo9VXYbYJR",
        "colab": {
          "base_uri": "https://localhost:8080/"
        },
        "outputId": "02f3598f-5034-43d0-9d56-44f4b13a4be2"
      },
      "execution_count": null,
      "outputs": [
        {
          "output_type": "stream",
          "name": "stdout",
          "text": [
            "['홍길동\\n', '홍이동\\n', '홍삼동']\n"
          ]
        },
        {
          "output_type": "execute_result",
          "data": {
            "text/plain": [
              "<function TextIOWrapper.close>"
            ]
          },
          "metadata": {},
          "execution_count": 46
        }
      ]
    },
    {
      "cell_type": "code",
      "source": [
        "f = open('/content/name.txt')\n",
        "df1 = f.readlines()\n",
        "for line in df1:\n",
        "  print(line.rstrip('\\n'))\n",
        "f.close()"
      ],
      "metadata": {
        "colab": {
          "base_uri": "https://localhost:8080/"
        },
        "id": "6qEBvW3UBnzI",
        "outputId": "b1913935-e003-4e0e-dba3-9c8b87709001"
      },
      "execution_count": null,
      "outputs": [
        {
          "output_type": "stream",
          "name": "stdout",
          "text": [
            "이순신\n",
            "홍오동\n",
            "홍육동\n",
            "홍칠동\n"
          ]
        }
      ]
    },
    {
      "cell_type": "markdown",
      "source": [
        "## 파일 쓰기 및 추가"
      ],
      "metadata": {
        "id": "v5ZsY3EW0bn1"
      }
    },
    {
      "cell_type": "code",
      "source": [
        "f = open('/content/name.txt', 'w', encoding='utf-8') \n",
        "#기존 파일 내용을 유지하고 싶다면 'w' 대신 'a'\n",
        "\n",
        "while True:\n",
        "  name = input('name')\n",
        "  if name == '':break\n",
        "  f.write(name + '\\n')\n",
        "f.close()\n",
        "print('[파일 저장 완료]')"
      ],
      "metadata": {
        "colab": {
          "base_uri": "https://localhost:8080/"
        },
        "id": "bavDIM4vB_Z2",
        "outputId": "8d1593ce-d3a4-4215-aff0-299ed24db607"
      },
      "execution_count": null,
      "outputs": [
        {
          "output_type": "stream",
          "name": "stdout",
          "text": [
            "name이순신\n",
            "name\n",
            "[파일 저장 완료]\n"
          ]
        }
      ]
    },
    {
      "cell_type": "code",
      "source": [
        "filename='/content/name.txt'\n",
        "f=open(filename,'a')\n",
        "word=['aaa','bbb','ccc']\n",
        "f.writelines(word)\n",
        "f.close()"
      ],
      "metadata": {
        "id": "Yx0umhC3CwhW"
      },
      "execution_count": null,
      "outputs": []
    },
    {
      "cell_type": "code",
      "source": [
        "import time\n",
        "filename='/content/name.txt'\n",
        "f=open(filename)\n",
        "data=f.readlines()\n",
        "for d in data:\n",
        "  print(d.rstrip('\\n'))\n",
        "  time.sleep(1)\n",
        "f.close()"
      ],
      "metadata": {
        "colab": {
          "base_uri": "https://localhost:8080/"
        },
        "id": "Vu6d367YyIT7",
        "outputId": "486a0c0c-ba72-46d9-e3c9-cf8ce6b11ad9"
      },
      "execution_count": null,
      "outputs": [
        {
          "output_type": "stream",
          "name": "stdout",
          "text": [
            "이순신\n",
            "aaabbbccc\n",
            "At My Worst(artist:Pink Sweat$)\n",
            "\n",
            "Can I call you baby\n",
            "Can you be my friend\n",
            "Can you be my lover up\n",
            "until the very end\n",
            "Let me show you love\n",
            "oh no pretend\n",
            "Stick by my side even\n",
            "when the world is caving in yeah\n",
            "Oh oh oh don't don't you worry\n",
            "I'll be there whenever you want me\n"
          ]
        }
      ]
    },
    {
      "cell_type": "markdown",
      "source": [
        "## 실습예제 1\n",
        "- 빈도수 출력하기"
      ],
      "metadata": {
        "id": "mXOyqJ3O1nP_"
      }
    },
    {
      "cell_type": "code",
      "source": [
        "from collections import Counter\n",
        "filename='/content/name.txt'\n",
        "f=open(filename)\n",
        "print(f.read())\n",
        "print(\"-\" * 30)\n",
        "wlist=f.read().split()\n",
        "print(wlist)\n",
        "\n",
        "word=Counter(wlist) # **\n",
        "\n",
        "print(word)\n",
        "\n",
        "for w in word:\n",
        "    print(f'{w}:{word[w]}')\n",
        "print()\n",
        "\n",
        "find_max=word.most_common(1) # **\n",
        "print(find_max)\n",
        "\n",
        "print('빈도수가 가장 높은 단어')\n",
        "print(f'{find_max[0][0]} : {find_max[0][1]}')"
      ],
      "metadata": {
        "colab": {
          "base_uri": "https://localhost:8080/",
          "height": 578
        },
        "id": "sVlpzi0x1Z0K",
        "outputId": "ef8ccaf9-c68f-4320-8356-0b5de69b5fd3"
      },
      "execution_count": null,
      "outputs": [
        {
          "output_type": "stream",
          "name": "stdout",
          "text": [
            "이순신\n",
            "aaabbbccc\n",
            "At My Worst(artist:Pink Sweat$)\n",
            "\n",
            "Can I call you baby\n",
            "Can you be my friend\n",
            "Can you be my lover up\n",
            "until the very end\n",
            "Let me show you love\n",
            "oh no pretend\n",
            "Stick by my side even\n",
            "when the world is caving in yeah\n",
            "Oh oh oh don't don't you worry\n",
            "I'll be there whenever you want me\n",
            "------------------------------\n",
            "[]\n",
            "Counter()\n",
            "\n",
            "[]\n",
            "빈도수가 가장 높은 단어\n"
          ]
        },
        {
          "output_type": "error",
          "ename": "IndexError",
          "evalue": "ignored",
          "traceback": [
            "\u001b[0;31m---------------------------------------------------------------------------\u001b[0m",
            "\u001b[0;31mIndexError\u001b[0m                                Traceback (most recent call last)",
            "\u001b[0;32m<ipython-input-77-e5c3c179af39>\u001b[0m in \u001b[0;36m<module>\u001b[0;34m()\u001b[0m\n\u001b[1;32m     19\u001b[0m \u001b[0;34m\u001b[0m\u001b[0m\n\u001b[1;32m     20\u001b[0m \u001b[0mprint\u001b[0m\u001b[0;34m(\u001b[0m\u001b[0;34m'빈도수가 가장 높은 단어'\u001b[0m\u001b[0;34m)\u001b[0m\u001b[0;34m\u001b[0m\u001b[0;34m\u001b[0m\u001b[0m\n\u001b[0;32m---> 21\u001b[0;31m \u001b[0mprint\u001b[0m\u001b[0;34m(\u001b[0m\u001b[0;34mf'{find_max[0][0]} : {find_max[0][1]}'\u001b[0m\u001b[0;34m)\u001b[0m\u001b[0;34m\u001b[0m\u001b[0;34m\u001b[0m\u001b[0m\n\u001b[0m",
            "\u001b[0;31mIndexError\u001b[0m: list index out of range"
          ]
        }
      ]
    },
    {
      "cell_type": "markdown",
      "source": [
        "## 실습예제 2\n",
        "- 빈도수 출력하기"
      ],
      "metadata": {
        "id": "cUwMt28E1aw-"
      }
    },
    {
      "cell_type": "code",
      "source": [
        "def max_count(f):\n",
        "  data=f.read()\n",
        "  dataList=data.split()\n",
        "  for k in dataList:\n",
        "    if k in count:\n",
        "      count[k]+=1\n",
        "    else:\n",
        "      count[k]=1\n",
        "    \n",
        "filename='/content/name.txt'\n",
        "f=open(filename)\n",
        "count={}\n",
        "max_count(f)\n",
        "print(count)\n",
        "\n",
        "# max(count,key=count.get)\n",
        "# 최대빈도수를 갖는 키와 값을 출력하시오.\n",
        "for k,v in count.items():\n",
        "  if max(count.values())==v:\n",
        "    print(k,v)"
      ],
      "metadata": {
        "colab": {
          "base_uri": "https://localhost:8080/"
        },
        "id": "Ko-ahPQL1U26",
        "outputId": "bfbb32b1-1440-4a3e-9fe6-85295afe7ed9"
      },
      "execution_count": null,
      "outputs": [
        {
          "output_type": "stream",
          "name": "stdout",
          "text": [
            "{'이순신': 1, 'aaabbbccc': 1, 'At': 1, 'My': 1, 'Worst(artist:Pink': 1, 'Sweat$)': 1, 'Can': 3, 'I': 1, 'call': 1, 'you': 6, 'baby': 1, 'be': 3, 'my': 3, 'friend': 1, 'lover': 1, 'up': 1, 'until': 1, 'the': 2, 'very': 1, 'end': 1, 'Let': 1, 'me': 2, 'show': 1, 'love': 1, 'oh': 3, 'no': 1, 'pretend': 1, 'Stick': 1, 'by': 1, 'side': 1, 'even': 1, 'when': 1, 'world': 1, 'is': 1, 'caving': 1, 'in': 1, 'yeah': 1, 'Oh': 1, \"don't\": 2, 'worry': 1, \"I'll\": 1, 'there': 1, 'whenever': 1, 'want': 1}\n",
            "you 6\n"
          ]
        }
      ]
    },
    {
      "cell_type": "code",
      "source": [
        "# 모듈 불러오기\n",
        "from wordcloud import WordCloud\n",
        "import matplotlib.pyplot as plt\n",
        "\n",
        "\n",
        "filename='/content/name.txt'\n",
        "f=open(filename)\n",
        "data=f.read()\n",
        "# 워드클라우드 객체 생성시 여러가지 속성들\n",
        "wordcloud = WordCloud(\n",
        "        background_color='pink',\n",
        "        max_words = 200\n",
        "        )\n",
        "\n",
        "wordcloud = wordcloud.generate(data)\n",
        "plt.figure(figsize=(15,15))\n",
        "plt.imshow(wordcloud)\n",
        "plt.axis('off')\n",
        "plt.show()"
      ],
      "metadata": {
        "colab": {
          "base_uri": "https://localhost:8080/",
          "height": 336
        },
        "id": "GrzbeH5p0lf8",
        "outputId": "d2550724-b5e1-4f31-e100-8a6ddc9e678e"
      },
      "execution_count": null,
      "outputs": [
        {
          "output_type": "display_data",
          "data": {
            "text/plain": [
              "<Figure size 1080x1080 with 1 Axes>"
            ],
            "image/png": "[encoded data removed]"
          },
          "metadata": {
            "needs_background": "light"
          }
        }
      ]
    },
    {
      "cell_type": "code",
      "source": [
        "k = [23,54,23,565,5,4,5]\n",
        "k1 = sorted(k, reverse =True)\n",
        "k1"
      ],
      "metadata": {
        "colab": {
          "base_uri": "https://localhost:8080/"
        },
        "id": "qImjgT2O0mCx",
        "outputId": "a59e6242-91af-421c-f501-5dba25fd04ce"
      },
      "execution_count": null,
      "outputs": [
        {
          "output_type": "execute_result",
          "data": {
            "text/plain": [
              "[565, 54, 23, 23, 5, 5, 4]"
            ]
          },
          "metadata": {},
          "execution_count": 89
        }
      ]
    },
    {
      "cell_type": "code",
      "source": [
        ""
      ],
      "metadata": {
        "colab": {
          "base_uri": "https://localhost:8080/"
        },
        "id": "bunidQO049rn",
        "outputId": "92176cd0-7bd9-437b-e935-659dc20c0133"
      },
      "execution_count": null,
      "outputs": [
        {
          "output_type": "execute_result",
          "data": {
            "text/plain": [
              "[4, 5, 5, 23, 23, 54, 565, 4, 5, 5, 23, 23, 54, 565, 4, 5, 5, 23, 23, 54, 565]"
            ]
          },
          "metadata": {},
          "execution_count": 84
        }
      ]
    },
    {
      "cell_type": "code",
      "source": [
        ""
      ],
      "metadata": {
        "id": "FO0yF9yi5Ntx"
      },
      "execution_count": null,
      "outputs": []
    }
  ]
}