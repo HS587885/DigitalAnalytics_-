{
  "nbformat": 4,
  "nbformat_minor": 0,
  "metadata": {
    "colab": {
      "name": "Week10(객체지향프로그래밍)_최종solution.ipynb의 사본",
      "provenance": [],
      "collapsed_sections": [],
      "toc_visible": true,
      "include_colab_link": true
    },
    "kernelspec": {
      "name": "python3",
      "display_name": "Python 3"
    },
    "language_info": {
      "name": "python"
    }
  },
  "cells": [
    {
      "cell_type": "markdown",
      "metadata": {
        "id": "view-in-github",
        "colab_type": "text"
      },
      "source": [
        "<a href=\"https://colab.research.google.com/github/HS587885/DigitalAnalytics_intermediateProgramming/blob/main/Week10(%EA%B0%9D%EC%B2%B4%EC%A7%80%ED%96%A5%ED%94%84%EB%A1%9C%EA%B7%B8%EB%9E%98%EB%B0%8D)_%EC%B5%9C%EC%A2%85solution_ipynb%EC%9D%98_%EC%82%AC%EB%B3%B8.ipynb\" target=\"_parent\"><img src=\"https://colab.research.google.com/assets/colab-badge.svg\" alt=\"Open In Colab\"/></a>"
      ]
    },
    {
      "cell_type": "markdown",
      "source": [
        "# 클래스 필요성"
      ],
      "metadata": {
        "id": "aMScY9oD28_W"
      }
    },
    {
      "cell_type": "code",
      "source": [
        "# 계산기프로그램\n",
        "def add(num):\n",
        "  global result\n",
        "  result += num\n",
        "  return result\n",
        "result=0\n",
        "print(add(10))  \n",
        "print(add(20))"
      ],
      "metadata": {
        "id": "EufMSKV-3KJA"
      },
      "execution_count": null,
      "outputs": []
    },
    {
      "cell_type": "code",
      "execution_count": null,
      "metadata": {
        "colab": {
          "base_uri": "https://localhost:8080/"
        },
        "id": "45j4phNw23sp",
        "outputId": "fc3ce825-cac4-48f5-c62c-f50f924e3ae5"
      },
      "outputs": [
        {
          "output_type": "stream",
          "name": "stdout",
          "text": [
            "10\n",
            "30\n",
            "30\n",
            "70\n"
          ]
        }
      ],
      "source": [
        "# 만약 2개의 계산기가 필요하다면?\n",
        "def add1(num):\n",
        "  global result1\n",
        "  result1 += num\n",
        "  return result1\n",
        "\n",
        "def add2(num):\n",
        "  global result2\n",
        "  result2 += num\n",
        "  return result2\n",
        "\n",
        "result1,result2=0,0\n",
        "print(add1(10))  \n",
        "print(add1(20))\n",
        "print(add2(30))  \n",
        "print(add2(40))"
      ]
    },
    {
      "cell_type": "code",
      "source": [
        "# 만약 더 많은 계산기가 필요하다면?\n",
        "# 또 기능(뺄셈,곱셈...)이 더 추가된다면?"
      ],
      "metadata": {
        "id": "_DTyGv4S39RQ"
      },
      "execution_count": null,
      "outputs": []
    },
    {
      "cell_type": "code",
      "source": [
        "# 클래스 선언\n",
        "class Calc:\n",
        "  def __init__(self):\n",
        "    self.result=0\n",
        "  def add(self,num):\n",
        "    self.result += num\n",
        "    return self.result\n",
        "cal1=Calc() # 객체생성\n",
        "cal2=Calc() # 객체생성\n",
        "print(cal1.add(10))\n",
        "print(cal1.add(20))\n",
        "print(cal2.add(30))\n",
        "print(cal2.add(40))"
      ],
      "metadata": {
        "colab": {
          "base_uri": "https://localhost:8080/"
        },
        "id": "z_VwtC5I4KVJ",
        "outputId": "26f81c6a-3209-4ff6-a24c-df8b83573fbb"
      },
      "execution_count": null,
      "outputs": [
        {
          "output_type": "stream",
          "name": "stdout",
          "text": [
            "10\n",
            "30\n",
            "30\n",
            "70\n"
          ]
        }
      ]
    },
    {
      "cell_type": "markdown",
      "source": [
        "# 클래스 정의"
      ],
      "metadata": {
        "id": "FKQl3CHqJ7rn"
      }
    },
    {
      "cell_type": "markdown",
      "source": [
        "## 초기화 메소드(생성자)"
      ],
      "metadata": {
        "id": "-FgMZwI0KAz1"
      }
    },
    {
      "cell_type": "code",
      "source": [
        "class Person:\n",
        "  def setName(self,n):\n",
        "    self.name=n\n",
        "  def show(self):\n",
        "    print(f'name:{self.name}')"
      ],
      "metadata": {
        "id": "mc_l2B8ZJ_DH"
      },
      "execution_count": null,
      "outputs": []
    },
    {
      "cell_type": "code",
      "source": [
        "p1=Person()\n",
        "p1.setName('나행복')\n",
        "p1.show()"
      ],
      "metadata": {
        "colab": {
          "base_uri": "https://localhost:8080/"
        },
        "id": "Lx88ebywKYhh",
        "outputId": "53233ee4-e622-4a94-f542-c833902ac8e7"
      },
      "execution_count": null,
      "outputs": [
        {
          "output_type": "stream",
          "name": "stdout",
          "text": [
            "name:나행복\n"
          ]
        }
      ]
    },
    {
      "cell_type": "code",
      "source": [
        "class Person:\n",
        "  def __init__(self,n): # 생성자\n",
        "    self.name=n\n",
        "  def show(self):\n",
        "    print(f'name:{self.name}')"
      ],
      "metadata": {
        "id": "hynHHXh1KlBj"
      },
      "execution_count": null,
      "outputs": []
    },
    {
      "cell_type": "code",
      "source": [
        "p1=Person('나행복')\n",
        "p1.show()"
      ],
      "metadata": {
        "colab": {
          "base_uri": "https://localhost:8080/"
        },
        "id": "4iokLvLdT04i",
        "outputId": "731bc963-21d2-4cc8-a42a-3a064cb23ed7"
      },
      "execution_count": null,
      "outputs": [
        {
          "output_type": "stream",
          "name": "stdout",
          "text": [
            "name:나행복\n"
          ]
        }
      ]
    },
    {
      "cell_type": "markdown",
      "source": [
        "# 실습예제1 : 계산기클래스 정의 및 객체 생성"
      ],
      "metadata": {
        "id": "St71rEML_Pjf"
      }
    },
    {
      "cell_type": "code",
      "source": [
        "# 클래스 정의\n",
        "class Calculator:\n",
        "  def __init__(self,n1,n2):\n",
        "    self.num1=n1\n",
        "    self.num2=n2\n",
        "  def add(self):\n",
        "    result=self.num1+self.num2\n",
        "    return result\n",
        "  def sub(self):\n",
        "    result=self.num1-self.num2\n",
        "    return result"
      ],
      "metadata": {
        "id": "AmMQ0qMmBFLj"
      },
      "execution_count": null,
      "outputs": []
    },
    {
      "cell_type": "code",
      "source": [
        "# 객체생성\n",
        "calc1=Calculator(10,20)\n",
        "calc2=Calculator(100,200)\n",
        "calc3=Calculator(1000,2000)"
      ],
      "metadata": {
        "id": "aF3YUIooANsf"
      },
      "execution_count": null,
      "outputs": []
    },
    {
      "cell_type": "code",
      "source": [
        "# 객체 메서드 호출하기\n",
        "print(calc1.add())\n",
        "print(calc1.sub())"
      ],
      "metadata": {
        "colab": {
          "base_uri": "https://localhost:8080/"
        },
        "id": "Yn0F7N5UEUxo",
        "outputId": "6ab23b24-8d22-490b-d6cd-0de40c78822d"
      },
      "execution_count": null,
      "outputs": [
        {
          "output_type": "stream",
          "name": "stdout",
          "text": [
            "30\n",
            "-10\n"
          ]
        }
      ]
    },
    {
      "cell_type": "code",
      "source": [
        "# 객체 속성 접근\n",
        "print(calc1.num1)\n",
        "print(calc1.num2)"
      ],
      "metadata": {
        "colab": {
          "base_uri": "https://localhost:8080/"
        },
        "id": "9MC_Ja9pEw8g",
        "outputId": "ed3c74a0-290a-4484-fc25-2728d6f28b44"
      },
      "execution_count": null,
      "outputs": [
        {
          "output_type": "stream",
          "name": "stdout",
          "text": [
            "10\n",
            "20\n"
          ]
        }
      ]
    },
    {
      "cell_type": "code",
      "source": [
        "# 객체 속성 변경\n",
        "calc1.num1=11\n",
        "calc1.num2=12"
      ],
      "metadata": {
        "id": "Pfdy5m_JE_tY"
      },
      "execution_count": null,
      "outputs": []
    },
    {
      "cell_type": "code",
      "source": [
        "print(calc1.add())"
      ],
      "metadata": {
        "colab": {
          "base_uri": "https://localhost:8080/"
        },
        "id": "_oIZSyDQFFyk",
        "outputId": "1e3bc5ff-d3dc-487b-e5a0-94c7140a8c5f"
      },
      "execution_count": null,
      "outputs": [
        {
          "output_type": "stream",
          "name": "stdout",
          "text": [
            "23\n"
          ]
        }
      ]
    },
    {
      "cell_type": "markdown",
      "source": [
        "# 도전문제1 "
      ],
      "metadata": {
        "id": "bYkp0PVeI_lI"
      }
    },
    {
      "cell_type": "code",
      "source": [
        "class Car:\n",
        "  def __init__(self,color,speed):\n",
        "    self.color=color\n",
        "    self.speed=speed\n",
        "\n",
        "  def upSpeed(self,value):\n",
        "    self.speed+=value\n",
        "\n",
        "  def downSpeed(self,value):\n",
        "    self.speed-=value\n",
        "\n",
        "  def printInfo(self):\n",
        "    result=f'color : {self.color}, speed : {self.speed}'\n",
        "    print(result)\n",
        "  \n",
        "  def __str__(self): # print()함수를 통해 객체를 출력할 때 자동으로 호출됨\n",
        "    msg=f'color : {self.color}, speed : {self.speed}'\n",
        "    return msg"
      ],
      "metadata": {
        "id": "2kjVFSQlJFhG"
      },
      "execution_count": null,
      "outputs": []
    },
    {
      "cell_type": "code",
      "source": [
        "# 메인코드\n",
        "car1=Car('Red',150)\n",
        "car2=Car('Yellow',200)\n",
        "# 객체정보 출력\n",
        "#print(f'color : {car1.color}, speed : {car1.speed}')\n",
        "#print(f'color : {car2.color}, speed : {car2.speed}')\n",
        "car1.printInfo()\n",
        "car2.printInfo()\n",
        "# 객체정보출력 __str__메소드\n",
        "print(car1)\n",
        "print(car2)\n",
        "# 객체 속성 변경\n",
        "car1.color=input('color : ')\n",
        "# 객체 메소드 호출\n",
        "car1.upSpeed(50)\n",
        "print(car1)"
      ],
      "metadata": {
        "colab": {
          "base_uri": "https://localhost:8080/"
        },
        "id": "22FtZVK4JqC7",
        "outputId": "4f322b14-24d9-42ff-d7c3-a77b764e4c6f"
      },
      "execution_count": null,
      "outputs": [
        {
          "output_type": "stream",
          "name": "stdout",
          "text": [
            "color : Red, speed : 150\n",
            "color : Yellow, speed : 200\n",
            "color : Red, speed : 150\n",
            "color : Yellow, speed : 200\n",
            "color : hh\n",
            "color : hh, speed : 200\n"
          ]
        }
      ]
    },
    {
      "cell_type": "markdown",
      "source": [
        "# 도전문제2"
      ],
      "metadata": {
        "id": "rnXlzUqpPVZL"
      }
    },
    {
      "cell_type": "code",
      "source": [
        "class Student:\n",
        "  def __init__(self,name,kor,eng,math):\n",
        "    self.name=name\n",
        "    self.kor=kor\n",
        "    self.eng=eng\n",
        "    self.math=math\n",
        "\n",
        "  def getSum(self):\n",
        "    sum=self.kor+self.eng+self.math\n",
        "    return sum\n",
        "\n",
        "  def getAvg(self):\n",
        "    avg=self.getSum()/3\n",
        "    return avg\n",
        "\n",
        "  def getGrade(self):\n",
        "    avg=self.getAvg()\n",
        "    if avg>=90:\n",
        "      grade='A'\n",
        "    elif avg>=80:\n",
        "      grade='B'\n",
        "    elif avg>=70:\n",
        "      grade='C'\n",
        "    elif avg>=60:\n",
        "      grade='D'\n",
        "    else:\n",
        "      grade='F'\n",
        "    return grade\n",
        "  \n",
        "  def __str__(self):\n",
        "    result=f'{self.name}\\t{self.getAvg():.1f}\\t{self.getGrade()}'\n",
        "    return result"
      ],
      "metadata": {
        "id": "LsEhUXS-PZLd"
      },
      "execution_count": null,
      "outputs": []
    },
    {
      "cell_type": "code",
      "source": [
        "# 학생리스트 => 파일처리로 변경\n",
        "students=[Student('AAA',100,100,100),\n",
        "          Student('BBB',100,100,100),\n",
        "          Student('CCC',100,100,100),\n",
        "          Student('DDD',100,100,100)]\n",
        "print('이름','평균','학점',sep='\\t')\n",
        "print('='*20)        \n",
        "for s in students:\n",
        "  print(s) # 출력문\n",
        "print('='*20)"
      ],
      "metadata": {
        "colab": {
          "base_uri": "https://localhost:8080/"
        },
        "id": "rZK794MERJQc",
        "outputId": "75cb72b2-4519-47f8-b2c4-8ded5e91ccde"
      },
      "execution_count": null,
      "outputs": [
        {
          "output_type": "stream",
          "name": "stdout",
          "text": [
            "이름\t평균\t학점\n",
            "====================\n",
            "AAA\t100.0\tA\n",
            "BBB\t100.0\tA\n",
            "CCC\t100.0\tA\n",
            "DDD\t100.0\tA\n",
            "====================\n"
          ]
        }
      ]
    },
    {
      "cell_type": "markdown",
      "source": [
        "## 더 나아가기 : 텍스트파일에 학생의 이름, 국,영,수 점수가 쉼표로 구분되어 10명이 입력되어 있다고 가정하자. 그 파일로부터 학생정보를 입력받는다."
      ],
      "metadata": {
        "id": "5P1n1H5eW6X7"
      }
    },
    {
      "cell_type": "code",
      "source": [
        "filename='/content/drive/MyDrive/data/score1.txt'\n",
        "f=open(filename,encoding='cp949')\n",
        "students=[]\n",
        "for line in f:\n",
        "    name,kor,eng,math=line.split(',')\n",
        "    kor,eng,math=int(kor),int(eng), int(math)\n",
        "    students.append(Student(name,kor,eng,math))#\n",
        "\n",
        "print('이름','평균','학점',sep='\\t')\n",
        "print('='*20)        \n",
        "for s in students:\n",
        "  print(s)\n",
        "print('='*20)\n",
        "f.close()"
      ],
      "metadata": {
        "colab": {
          "base_uri": "https://localhost:8080/"
        },
        "id": "J5w2ZfJ6VEUQ",
        "outputId": "ff3a37dd-b4ae-450e-8942-29954726223e"
      },
      "execution_count": null,
      "outputs": [
        {
          "output_type": "stream",
          "name": "stdout",
          "text": [
            "이름\t평균\t학점\n",
            "====================\n",
            "김가현\t90.0\tA\n",
            "김혜현\t90.0\tA\n",
            "최재원\t83.3\tB\n",
            "최지윤\t88.3\tB\n",
            "김연수\t96.7\tA\n",
            "김연우\t100.0\tA\n",
            "황복동\t93.3\tA\n",
            "정명식\t91.7\tA\n",
            "최봉수\t90.0\tA\n",
            "김진영\t96.7\tA\n",
            "====================\n"
          ]
        }
      ]
    },
    {
      "cell_type": "code",
      "source": [
        "name = ['AAA', 'BBB', 'CCC']\n",
        "kor = [90, 85, 93]\n",
        "eng = [74, 64, 58]\n",
        "math = [48, 46, 76]\n",
        "c1 = Grade(name,kor,eng,math)\n",
        "print(c1)\n",
        "#print(c1.getSum())\n",
        "#print(c1.getAvg())"
      ],
      "metadata": {
        "colab": {
          "base_uri": "https://localhost:8080/"
        },
        "id": "WoXfGWpTLUVN",
        "outputId": "7e186f05-5bef-4ce0-9fe1-469ca1c231f6"
      },
      "execution_count": null,
      "outputs": [
        {
          "output_type": "stream",
          "name": "stdout",
          "text": [
            "212     70.66666666666667     C\n",
            "195     65.0     D\n",
            "227     75.66666666666667     C\n",
            "\n"
          ]
        }
      ]
    },
    {
      "cell_type": "markdown",
      "source": [
        "# 응용문제1"
      ],
      "metadata": {
        "id": "z1GK_3BebGWN"
      }
    },
    {
      "cell_type": "code",
      "source": [
        "class ProgramLecture:\n",
        "  \n",
        "  def __init__(self):\n",
        "    self.homework=0\n",
        "    self.mid=0\n",
        "    self.final=0\n",
        "    self.absent=0\n",
        "  \n",
        "  def inputData(self,h,m,f,a):\n",
        "    self.homework=h\n",
        "    self.mid=m\n",
        "    self.final=f\n",
        "    self.absent=a\n",
        "  \n",
        "  def average(self):\n",
        "    avg=self.homework*0.2\n",
        "    avg+=self.mid*0.3\n",
        "    avg+=self.final*0.5\n",
        "    return avg\n",
        "\n",
        "    \n",
        "  def grade(self):\n",
        "    score=self.average()\n",
        "    if self.absent<4:\n",
        "      if score>=90:\n",
        "        g='A'\n",
        "      elif score>=80:\n",
        "        g='B'\n",
        "      elif score>=70:\n",
        "        g='C'\n",
        "      elif score>=60:\n",
        "        g='D'\n",
        "      else:\n",
        "        g='F'\n",
        "      return g\n",
        "    else:\n",
        "      return '출석 미달 Fail'\n",
        "  \n",
        "  def __str__(self):\n",
        "    result=f'최종 점수는 {self.average()} 학점은 {self.grade()}입니다.'\n",
        "\n",
        "    return result"
      ],
      "metadata": {
        "id": "qu87QYXsbH1Z"
      },
      "execution_count": null,
      "outputs": []
    },
    {
      "cell_type": "code",
      "source": [
        "# main Test\n",
        "std=ProgramLecture()\n",
        "std.inputData(90,80,80,3)\n",
        "print(std)\n",
        "std.inputData(90,90,90,4)\n",
        "print(std)"
      ],
      "metadata": {
        "colab": {
          "base_uri": "https://localhost:8080/"
        },
        "id": "_sIBAX9ihpZ_",
        "outputId": "c1e6b936-683e-4dc0-dcb6-d63b0712cfab"
      },
      "execution_count": null,
      "outputs": [
        {
          "output_type": "stream",
          "name": "stdout",
          "text": [
            "최종 점수는 82.0 학점은 B입니다.\n",
            "최종 점수는 90.0 학점은 출석 미달 Fail입니다.\n"
          ]
        }
      ]
    },
    {
      "cell_type": "code",
      "source": [
        "# 더나아가기\n",
        "stdLecList=[]\n",
        "for i in range(3):\n",
        "  stdLecList.append(ProgramLecture())\n",
        "print('=====성적 입력=====')\n",
        "for i in range(3):\n",
        "  score=input(f'{i+1}번 학생 > :')\n",
        "  scores=score.split(',')\n",
        "  h,m,f,a=int(scores[0]),int(scores[1]),int(scores[2]),int(scores[3])\n",
        "  stdLecList[i].inputData(h,m,f,a)\n",
        "print('=====성적 산출=====')\n",
        "print('번호','평균','학점',sep='\\t')\n",
        "for i in range(3):\n",
        "  print(stdLecList[i])"
      ],
      "metadata": {
        "colab": {
          "base_uri": "https://localhost:8080/"
        },
        "id": "AInlsLKakCug",
        "outputId": "3e6cc30a-9123-4c54-c070-a4d8fca2741f"
      },
      "execution_count": null,
      "outputs": [
        {
          "output_type": "stream",
          "name": "stdout",
          "text": [
            "=====성적 입력=====\n",
            "1번 학생 > :80,80,80,1\n",
            "2번 학생 > :100,100,100,5\n",
            "3번 학생 > :60,50,50,1\n",
            "=====성적 산출=====\n",
            "번호\t평균\t학점\n",
            "최종 점수는 80.0 학점은 B입니다.\n",
            "최종 점수는 100.0 학점은 출석 미달 Fail입니다.\n",
            "최종 점수는 52.0 학점은 F입니다.\n"
          ]
        }
      ]
    },
    {
      "cell_type": "markdown",
      "source": [
        "# review "
      ],
      "metadata": {
        "id": "yOJa1lD0ZrfK"
      }
    },
    {
      "cell_type": "code",
      "source": [
        "class TV:\n",
        "    def __init__(self):\n",
        "        self.channel = 1\n",
        "        self.volume = 0 \n",
        "        self.on = False \n",
        "\n",
        "    def turnOn(self):\n",
        "        self.on = True\n",
        "\n",
        "    def turnOff(self):\n",
        "        self.on = False\n",
        "    # 설정자(set~)메소드/접근자(get~)메소드\n",
        "    def setVolume(self, volume):\n",
        "        self.volume = volume\n",
        "\n",
        "    def setChannel(self, channel):\n",
        "        self.channel = channel\n",
        "    \n",
        "    def getVolume(self):\n",
        "      return self.volume\n",
        "\n",
        "    \n",
        "\n",
        "tv = TV()\n",
        "tv.turnOn()\n",
        "tv.setChannel(11)\n",
        "tv.setVolume(6)\n",
        "\n",
        "print(f'TV의 채널:{tv.channel}, TV의 음량:{tv.volume}');"
      ],
      "metadata": {
        "colab": {
          "base_uri": "https://localhost:8080/"
        },
        "id": "Vrla6qxQZqtO",
        "outputId": "d55b9f5c-40f8-4327-a46e-b82a82b8c849"
      },
      "execution_count": null,
      "outputs": [
        {
          "output_type": "stream",
          "name": "stdout",
          "text": [
            "TV의 채널:11, TV의 음량:6\n"
          ]
        }
      ]
    },
    {
      "cell_type": "markdown",
      "source": [
        "# 응용문제2 : 딕셔너리 구조사용"
      ],
      "metadata": {
        "id": "I0pYMRrjPDlF"
      }
    },
    {
      "cell_type": "code",
      "source": [
        "class Member:\n",
        "  def __init__(self,id,pw):\n",
        "    self.mId=id\n",
        "    self.mPw=pw"
      ],
      "metadata": {
        "id": "Z0p2SynjDwW2"
      },
      "execution_count": null,
      "outputs": []
    },
    {
      "cell_type": "code",
      "source": [
        "class MemberManage:\n",
        "  def __init__(self):\n",
        "    self.members={}\n",
        "  \n",
        "  def addMember(self,m):# \n",
        "    #print(m.mId,m.mPw)\n",
        "    self.members[m.mId]=m.mPw\n",
        "  \n",
        "  def loginMember(self,id,pw):\n",
        "    isMember=id in self.members\n",
        "\n",
        "    print('---로그인 결과 ---')\n",
        "    if isMember:\n",
        "      if self.members[id]==pw:\n",
        "        print(f'{id}님 로그인 성공')\n",
        "      else:\n",
        "        print('pw 확인')\n",
        "    else:\n",
        "      print('id 확인')\n",
        "  \n",
        "  def removeMember(self, id):\n",
        "    del self.members[id]\n",
        "\n",
        "  def printMember(self):\n",
        "    print('---전체회원---')\n",
        "    for m in self.members.keys():\n",
        "      print(f'ID : {m}')\n",
        "      print(f'PW : {self.members[m]}')\n",
        "      print('-'*20)"
      ],
      "metadata": {
        "id": "prmwY-eZPFZF"
      },
      "execution_count": null,
      "outputs": []
    },
    {
      "cell_type": "code",
      "source": [
        "# 메인코드\n",
        "m=MemberManage()\n",
        "m1=Member('hee8460','1234')\n",
        "m2=Member('hee8461','1234')\n",
        "m3=Member('hee8462','1234')\n",
        "m.addMember(m1)\n",
        "m.addMember(m2)\n",
        "m.addMember(m3)\n",
        "\n",
        "# 전체조회\n",
        "m.printMember()\n",
        "\n",
        "# 로그인 인증처리\n",
        "m.loginMember('hee8460','1234')\n",
        "m.loginMember('hee8465','1234')\n",
        "\n",
        "# 회원삭제\n",
        "m.removeMember('hee8460')"
      ],
      "metadata": {
        "colab": {
          "base_uri": "https://localhost:8080/"
        },
        "id": "wUNg5dM4XREP",
        "outputId": "0b6e4df3-bfbd-4438-e606-e260bb7e9f27"
      },
      "execution_count": null,
      "outputs": [
        {
          "output_type": "stream",
          "name": "stdout",
          "text": [
            "---전체회원---\n",
            "ID : hee8460\n",
            "PW : 1234\n",
            "--------------------\n",
            "ID : hee8461\n",
            "PW : 1234\n",
            "--------------------\n",
            "ID : hee8462\n",
            "PW : 1234\n",
            "--------------------\n",
            "---로그인 결과 ---\n",
            "hee8460님 로그인 성공\n",
            "---로그인 결과 ---\n",
            "id 확인\n"
          ]
        }
      ]
    },
    {
      "cell_type": "code",
      "source": [
        "m.printMember()"
      ],
      "metadata": {
        "colab": {
          "base_uri": "https://localhost:8080/"
        },
        "id": "gok1ZN6YYiXh",
        "outputId": "972b2efd-236f-47ae-d735-d1460f4c9321"
      },
      "execution_count": null,
      "outputs": [
        {
          "output_type": "stream",
          "name": "stdout",
          "text": [
            "---전체회원---\n",
            "ID : hee8461\n",
            "PW : 1234\n",
            "--------------------\n",
            "ID : hee8462\n",
            "PW : 1234\n",
            "--------------------\n"
          ]
        }
      ]
    },
    {
      "cell_type": "code",
      "source": [
        "class Tv:\n",
        "  def __init__(self,channel,volume,condition):\n",
        "    self.channel = channel\n",
        "    self.volume = volume\n",
        "    self.condition = condition\n",
        "  \n",
        "  def turnOn(self):\n",
        "    condition = self.condition\n",
        "    if condition == 1:\n",
        "      msg = '이미켜짐'\n",
        "    else:\n",
        "      condition = 1\n",
        "      msg = '켜짐'\n",
        "    print(msg)\n",
        "  \n",
        "  def turnOff(self):\n",
        "    condition = self.condition\n",
        "    if condition == 0:\n",
        "      msg = '이미 꺼짐'\n",
        "    else:\n",
        "      condition =0\n",
        "      msg = '꺼짐'\n",
        "    print(msg)\n",
        "\n",
        "  def setChanel(self,channel):\n",
        "      self.channel=channel\n",
        "    \n",
        "  def setVolume(self,volume):\n",
        "      self.volume=volume\n",
        "  def getChanel(self):\n",
        "    return self.channel\n",
        "  def getVolume(self):\n",
        "    return self.volume\n",
        "  def __str__(self):\n",
        "      result=f'TV의 채널는 {self.getChanel()} TV의 볼륨은 {self.getVolume()}입니다.'\n",
        "      return result"
      ],
      "metadata": {
        "id": "JP2I0BPMIAt0"
      },
      "execution_count": null,
      "outputs": []
    },
    {
      "cell_type": "code",
      "source": [
        "tv1 = Tv(10,11,1)\n",
        "# 채널변경\n",
        "tv1.setChanel(15)\n",
        "print(tv1)\n",
        "# 볼륨변경"
      ],
      "metadata": {
        "colab": {
          "base_uri": "https://localhost:8080/"
        },
        "id": "DTNmc6OBILc1",
        "outputId": "e9daca2f-1dcd-4d4a-8a3b-c6f4b6bec5ce"
      },
      "execution_count": null,
      "outputs": [
        {
          "output_type": "stream",
          "name": "stdout",
          "text": [
            "TV의 채널는 15 TV의 볼륨은 11입니다.\n"
          ]
        }
      ]
    },
    {
      "cell_type": "markdown",
      "source": [
        "# 응용문제2 : 자료구조를 리스트로 변경하기"
      ],
      "metadata": {
        "id": "hy3r25gFaMGG"
      }
    },
    {
      "cell_type": "code",
      "source": [
        "class Member:\n",
        "  def __init__(self,id,pw):\n",
        "    self.mId=id\n",
        "    self.mPw=pw"
      ],
      "metadata": {
        "id": "dd1gfWW8aLFI"
      },
      "execution_count": null,
      "outputs": []
    },
    {
      "cell_type": "code",
      "source": [
        "# ver1\n",
        "class MemberManage:\n",
        "  def __init__(self):\n",
        "    self.members=[]\n",
        "  \n",
        "  def addMember(self,m):#\n",
        "    mem=(m.mId,m.mPw)\n",
        "    self.members.append(mem)\n",
        "  \n",
        "  def loginMember(self,id,pw):\n",
        "    print('---로그인 결과 ---')\n",
        "    for m in self.members:\n",
        "      if m[0]==id:\n",
        "        if m[1]==pw:\n",
        "          print(f'{id}님 로그인 성공')\n",
        "          break\n",
        "        else:\n",
        "          print('pw 확인')  \n",
        "      else:\n",
        "        print('id 확인')\n",
        "        break\n",
        "        \n",
        "  def removeMember(self, id):\n",
        "    for s in self.members:\n",
        "      if s[0] ==id:\n",
        "        self.members.remove(s)\n",
        "\n",
        "  def printMember(self):\n",
        "    print('---전체회원---')\n",
        "    for m in self.members:\n",
        "      print(f'ID : {m[0]}')\n",
        "      print(f'PW : {m[1]}')\n",
        "      print('-'*20)\n",
        "  def show(self):\n",
        "    print(self.members)"
      ],
      "metadata": {
        "id": "-kAQrYBPaQ61"
      },
      "execution_count": null,
      "outputs": []
    },
    {
      "cell_type": "code",
      "source": [
        "# 메인코드\n",
        "m=MemberManage()\n",
        "m.addMember(Member('hee8460','1234'))\n",
        "m.addMember(Member('hee8461','1234'))\n",
        "m.addMember(Member('hee8462','1234'))\n",
        "\n",
        "# 전체조회\n",
        "m.printMember()\n",
        "\n",
        "# 로그인 인증처리\n",
        "m.loginMember('hee8460','1234')\n",
        "m.loginMember('hee8465','1234')\n",
        "m.show()"
      ],
      "metadata": {
        "colab": {
          "base_uri": "https://localhost:8080/"
        },
        "id": "OHdBPIkubjoW",
        "outputId": "65b0c7da-d22b-4434-d981-cc030571ea6d"
      },
      "execution_count": null,
      "outputs": [
        {
          "output_type": "stream",
          "name": "stdout",
          "text": [
            "---전체회원---\n",
            "ID : hee8460\n",
            "PW : 1234\n",
            "--------------------\n",
            "ID : hee8461\n",
            "PW : 1234\n",
            "--------------------\n",
            "ID : hee8462\n",
            "PW : 1234\n",
            "--------------------\n",
            "---로그인 결과 ---\n",
            "hee8460님 로그인 성공\n",
            "---로그인 결과 ---\n",
            "id 확인\n",
            "[('hee8460', '1234'), ('hee8461', '1234'), ('hee8462', '1234')]\n"
          ]
        }
      ]
    },
    {
      "cell_type": "code",
      "source": [
        "# 회원삭제\n",
        "m.removeMember('hee8460')"
      ],
      "metadata": {
        "id": "YHWmFcaaelbf"
      },
      "execution_count": null,
      "outputs": []
    },
    {
      "cell_type": "code",
      "source": [
        "m.printMember()"
      ],
      "metadata": {
        "colab": {
          "base_uri": "https://localhost:8080/"
        },
        "id": "yEJ16Ft0e1A5",
        "outputId": "c205bbc0-9004-432a-ec66-da73b4302728"
      },
      "execution_count": null,
      "outputs": [
        {
          "output_type": "stream",
          "name": "stdout",
          "text": [
            "---전체회원---\n",
            "ID : hee8461\n",
            "PW : 1234\n",
            "--------------------\n",
            "ID : hee8462\n",
            "PW : 1234\n",
            "--------------------\n"
          ]
        }
      ]
    },
    {
      "cell_type": "code",
      "source": [
        ""
      ],
      "metadata": {
        "id": "t4BN68NGW_m5"
      },
      "execution_count": null,
      "outputs": []
    }
  ]
}