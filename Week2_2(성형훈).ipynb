{
  "nbformat": 4,
  "nbformat_minor": 0,
  "metadata": {
    "colab": {
      "name": "Week2-2(성형훈).ipynb",
      "provenance": [],
      "collapsed_sections": [],
      "authorship_tag": "ABX9TyMhqlh4yitGYv5rbbv4RXmL",
      "include_colab_link": true
    },
    "kernelspec": {
      "name": "python3",
      "display_name": "Python 3"
    },
    "language_info": {
      "name": "python"
    }
  },
  "cells": [
    {
      "cell_type": "markdown",
      "metadata": {
        "id": "view-in-github",
        "colab_type": "text"
      },
      "source": [
        "<a href=\"https://colab.research.google.com/github/HS587885/DigitalAnalytics_intermediateProgramming/blob/main/Week2_2(%EC%84%B1%ED%98%95%ED%9B%88).ipynb\" target=\"_parent\"><img src=\"https://colab.research.google.com/assets/colab-badge.svg\" alt=\"Open In Colab\"/></a>"
      ]
    },
    {
      "cell_type": "code",
      "execution_count": null,
      "metadata": {
        "colab": {
          "base_uri": "https://localhost:8080/"
        },
        "id": "eu-nQP2VpCmW",
        "outputId": "1b7721cc-6442-4832-d965-7af928dd5728"
      },
      "outputs": [
        {
          "output_type": "stream",
          "name": "stdout",
          "text": [
            "Hanguk Universiry\n"
          ]
        }
      ],
      "source": [
        "myUniversity = 'Hanguk Universiry'\n",
        "print(myUniversity)"
      ]
    },
    {
      "cell_type": "code",
      "source": [
        "flag = True\n",
        "print(flag)"
      ],
      "metadata": {
        "colab": {
          "base_uri": "https://localhost:8080/"
        },
        "id": "rL5Y8EobpOd_",
        "outputId": "68822cc9-9230-465e-c7a5-d2509494285e"
      },
      "execution_count": null,
      "outputs": [
        {
          "output_type": "stream",
          "name": "stdout",
          "text": [
            "True\n"
          ]
        }
      ]
    },
    {
      "cell_type": "code",
      "source": [
        "x = 'hee'\n",
        "dir(x)"
      ],
      "metadata": {
        "id": "gkhVjGblpObp"
      },
      "execution_count": null,
      "outputs": []
    },
    {
      "cell_type": "code",
      "source": [
        "# 문자열의 인덱스의 슬라이싱\n",
        "x = 'I am happy'\n",
        "print(x[0])\n",
        "print(x[1:3])\n",
        "print(x[-1])\n",
        "print(x[2:])\n",
        "print(x[:4])\n",
        "print(x[:]) #모든 요소(element) 조회\n",
        "\n"
      ],
      "metadata": {
        "colab": {
          "base_uri": "https://localhost:8080/"
        },
        "id": "Z7ZtvY8BpOZV",
        "outputId": "35d0a424-6feb-408f-f4bf-87d19e2adb26"
      },
      "execution_count": null,
      "outputs": [
        {
          "output_type": "stream",
          "name": "stdout",
          "text": [
            "I\n",
            " a\n",
            "y\n",
            "am happy\n",
            "I am\n",
            "I am happy\n"
          ]
        }
      ]
    },
    {
      "cell_type": "code",
      "source": [
        "dir(int)"
      ],
      "metadata": {
        "colab": {
          "base_uri": "https://localhost:8080/"
        },
        "id": "9aJqK0RbpOW5",
        "outputId": "15cdcdde-1569-4627-d1bc-57249ca2742e"
      },
      "execution_count": null,
      "outputs": [
        {
          "output_type": "execute_result",
          "data": {
            "text/plain": [
              "['__abs__',\n",
              " '__add__',\n",
              " '__and__',\n",
              " '__bool__',\n",
              " '__ceil__',\n",
              " '__class__',\n",
              " '__delattr__',\n",
              " '__dir__',\n",
              " '__divmod__',\n",
              " '__doc__',\n",
              " '__eq__',\n",
              " '__float__',\n",
              " '__floor__',\n",
              " '__floordiv__',\n",
              " '__format__',\n",
              " '__ge__',\n",
              " '__getattribute__',\n",
              " '__getnewargs__',\n",
              " '__gt__',\n",
              " '__hash__',\n",
              " '__index__',\n",
              " '__init__',\n",
              " '__init_subclass__',\n",
              " '__int__',\n",
              " '__invert__',\n",
              " '__le__',\n",
              " '__lshift__',\n",
              " '__lt__',\n",
              " '__mod__',\n",
              " '__mul__',\n",
              " '__ne__',\n",
              " '__neg__',\n",
              " '__new__',\n",
              " '__or__',\n",
              " '__pos__',\n",
              " '__pow__',\n",
              " '__radd__',\n",
              " '__rand__',\n",
              " '__rdivmod__',\n",
              " '__reduce__',\n",
              " '__reduce_ex__',\n",
              " '__repr__',\n",
              " '__rfloordiv__',\n",
              " '__rlshift__',\n",
              " '__rmod__',\n",
              " '__rmul__',\n",
              " '__ror__',\n",
              " '__round__',\n",
              " '__rpow__',\n",
              " '__rrshift__',\n",
              " '__rshift__',\n",
              " '__rsub__',\n",
              " '__rtruediv__',\n",
              " '__rxor__',\n",
              " '__setattr__',\n",
              " '__sizeof__',\n",
              " '__str__',\n",
              " '__sub__',\n",
              " '__subclasshook__',\n",
              " '__truediv__',\n",
              " '__trunc__',\n",
              " '__xor__',\n",
              " 'bit_length',\n",
              " 'conjugate',\n",
              " 'denominator',\n",
              " 'from_bytes',\n",
              " 'imag',\n",
              " 'numerator',\n",
              " 'real',\n",
              " 'to_bytes']"
            ]
          },
          "metadata": {},
          "execution_count": 7
        }
      ]
    },
    {
      "cell_type": "code",
      "source": [
        "help(int)"
      ],
      "metadata": {
        "colab": {
          "base_uri": "https://localhost:8080/"
        },
        "id": "srcL223opOUT",
        "outputId": "005c4367-b978-435e-e5e4-2ad000e96f65"
      },
      "execution_count": null,
      "outputs": [
        {
          "output_type": "stream",
          "name": "stdout",
          "text": [
            "Help on class int in module builtins:\n",
            "\n",
            "class int(object)\n",
            " |  int([x]) -> integer\n",
            " |  int(x, base=10) -> integer\n",
            " |  \n",
            " |  Convert a number or string to an integer, or return 0 if no arguments\n",
            " |  are given.  If x is a number, return x.__int__().  For floating point\n",
            " |  numbers, this truncates towards zero.\n",
            " |  \n",
            " |  If x is not a number or if base is given, then x must be a string,\n",
            " |  bytes, or bytearray instance representing an integer literal in the\n",
            " |  given base.  The literal can be preceded by '+' or '-' and be surrounded\n",
            " |  by whitespace.  The base defaults to 10.  Valid bases are 0 and 2-36.\n",
            " |  Base 0 means to interpret the base from the string as an integer literal.\n",
            " |  >>> int('0b100', base=0)\n",
            " |  4\n",
            " |  \n",
            " |  Methods defined here:\n",
            " |  \n",
            " |  __abs__(self, /)\n",
            " |      abs(self)\n",
            " |  \n",
            " |  __add__(self, value, /)\n",
            " |      Return self+value.\n",
            " |  \n",
            " |  __and__(self, value, /)\n",
            " |      Return self&value.\n",
            " |  \n",
            " |  __bool__(self, /)\n",
            " |      self != 0\n",
            " |  \n",
            " |  __ceil__(...)\n",
            " |      Ceiling of an Integral returns itself.\n",
            " |  \n",
            " |  __divmod__(self, value, /)\n",
            " |      Return divmod(self, value).\n",
            " |  \n",
            " |  __eq__(self, value, /)\n",
            " |      Return self==value.\n",
            " |  \n",
            " |  __float__(self, /)\n",
            " |      float(self)\n",
            " |  \n",
            " |  __floor__(...)\n",
            " |      Flooring an Integral returns itself.\n",
            " |  \n",
            " |  __floordiv__(self, value, /)\n",
            " |      Return self//value.\n",
            " |  \n",
            " |  __format__(self, format_spec, /)\n",
            " |      Default object formatter.\n",
            " |  \n",
            " |  __ge__(self, value, /)\n",
            " |      Return self>=value.\n",
            " |  \n",
            " |  __getattribute__(self, name, /)\n",
            " |      Return getattr(self, name).\n",
            " |  \n",
            " |  __getnewargs__(self, /)\n",
            " |  \n",
            " |  __gt__(self, value, /)\n",
            " |      Return self>value.\n",
            " |  \n",
            " |  __hash__(self, /)\n",
            " |      Return hash(self).\n",
            " |  \n",
            " |  __index__(self, /)\n",
            " |      Return self converted to an integer, if self is suitable for use as an index into a list.\n",
            " |  \n",
            " |  __int__(self, /)\n",
            " |      int(self)\n",
            " |  \n",
            " |  __invert__(self, /)\n",
            " |      ~self\n",
            " |  \n",
            " |  __le__(self, value, /)\n",
            " |      Return self<=value.\n",
            " |  \n",
            " |  __lshift__(self, value, /)\n",
            " |      Return self<<value.\n",
            " |  \n",
            " |  __lt__(self, value, /)\n",
            " |      Return self<value.\n",
            " |  \n",
            " |  __mod__(self, value, /)\n",
            " |      Return self%value.\n",
            " |  \n",
            " |  __mul__(self, value, /)\n",
            " |      Return self*value.\n",
            " |  \n",
            " |  __ne__(self, value, /)\n",
            " |      Return self!=value.\n",
            " |  \n",
            " |  __neg__(self, /)\n",
            " |      -self\n",
            " |  \n",
            " |  __or__(self, value, /)\n",
            " |      Return self|value.\n",
            " |  \n",
            " |  __pos__(self, /)\n",
            " |      +self\n",
            " |  \n",
            " |  __pow__(self, value, mod=None, /)\n",
            " |      Return pow(self, value, mod).\n",
            " |  \n",
            " |  __radd__(self, value, /)\n",
            " |      Return value+self.\n",
            " |  \n",
            " |  __rand__(self, value, /)\n",
            " |      Return value&self.\n",
            " |  \n",
            " |  __rdivmod__(self, value, /)\n",
            " |      Return divmod(value, self).\n",
            " |  \n",
            " |  __repr__(self, /)\n",
            " |      Return repr(self).\n",
            " |  \n",
            " |  __rfloordiv__(self, value, /)\n",
            " |      Return value//self.\n",
            " |  \n",
            " |  __rlshift__(self, value, /)\n",
            " |      Return value<<self.\n",
            " |  \n",
            " |  __rmod__(self, value, /)\n",
            " |      Return value%self.\n",
            " |  \n",
            " |  __rmul__(self, value, /)\n",
            " |      Return value*self.\n",
            " |  \n",
            " |  __ror__(self, value, /)\n",
            " |      Return value|self.\n",
            " |  \n",
            " |  __round__(...)\n",
            " |      Rounding an Integral returns itself.\n",
            " |      Rounding with an ndigits argument also returns an integer.\n",
            " |  \n",
            " |  __rpow__(self, value, mod=None, /)\n",
            " |      Return pow(value, self, mod).\n",
            " |  \n",
            " |  __rrshift__(self, value, /)\n",
            " |      Return value>>self.\n",
            " |  \n",
            " |  __rshift__(self, value, /)\n",
            " |      Return self>>value.\n",
            " |  \n",
            " |  __rsub__(self, value, /)\n",
            " |      Return value-self.\n",
            " |  \n",
            " |  __rtruediv__(self, value, /)\n",
            " |      Return value/self.\n",
            " |  \n",
            " |  __rxor__(self, value, /)\n",
            " |      Return value^self.\n",
            " |  \n",
            " |  __sizeof__(self, /)\n",
            " |      Returns size in memory, in bytes.\n",
            " |  \n",
            " |  __str__(self, /)\n",
            " |      Return str(self).\n",
            " |  \n",
            " |  __sub__(self, value, /)\n",
            " |      Return self-value.\n",
            " |  \n",
            " |  __truediv__(self, value, /)\n",
            " |      Return self/value.\n",
            " |  \n",
            " |  __trunc__(...)\n",
            " |      Truncating an Integral returns itself.\n",
            " |  \n",
            " |  __xor__(self, value, /)\n",
            " |      Return self^value.\n",
            " |  \n",
            " |  bit_length(self, /)\n",
            " |      Number of bits necessary to represent self in binary.\n",
            " |      \n",
            " |      >>> bin(37)\n",
            " |      '0b100101'\n",
            " |      >>> (37).bit_length()\n",
            " |      6\n",
            " |  \n",
            " |  conjugate(...)\n",
            " |      Returns self, the complex conjugate of any int.\n",
            " |  \n",
            " |  to_bytes(self, /, length, byteorder, *, signed=False)\n",
            " |      Return an array of bytes representing an integer.\n",
            " |      \n",
            " |      length\n",
            " |        Length of bytes object to use.  An OverflowError is raised if the\n",
            " |        integer is not representable with the given number of bytes.\n",
            " |      byteorder\n",
            " |        The byte order used to represent the integer.  If byteorder is 'big',\n",
            " |        the most significant byte is at the beginning of the byte array.  If\n",
            " |        byteorder is 'little', the most significant byte is at the end of the\n",
            " |        byte array.  To request the native byte order of the host system, use\n",
            " |        `sys.byteorder' as the byte order value.\n",
            " |      signed\n",
            " |        Determines whether two's complement is used to represent the integer.\n",
            " |        If signed is False and a negative integer is given, an OverflowError\n",
            " |        is raised.\n",
            " |  \n",
            " |  ----------------------------------------------------------------------\n",
            " |  Class methods defined here:\n",
            " |  \n",
            " |  from_bytes(bytes, byteorder, *, signed=False) from builtins.type\n",
            " |      Return the integer represented by the given array of bytes.\n",
            " |      \n",
            " |      bytes\n",
            " |        Holds the array of bytes to convert.  The argument must either\n",
            " |        support the buffer protocol or be an iterable object producing bytes.\n",
            " |        Bytes and bytearray are examples of built-in objects that support the\n",
            " |        buffer protocol.\n",
            " |      byteorder\n",
            " |        The byte order used to represent the integer.  If byteorder is 'big',\n",
            " |        the most significant byte is at the beginning of the byte array.  If\n",
            " |        byteorder is 'little', the most significant byte is at the end of the\n",
            " |        byte array.  To request the native byte order of the host system, use\n",
            " |        `sys.byteorder' as the byte order value.\n",
            " |      signed\n",
            " |        Indicates whether two's complement is used to represent the integer.\n",
            " |  \n",
            " |  ----------------------------------------------------------------------\n",
            " |  Static methods defined here:\n",
            " |  \n",
            " |  __new__(*args, **kwargs) from builtins.type\n",
            " |      Create and return a new object.  See help(type) for accurate signature.\n",
            " |  \n",
            " |  ----------------------------------------------------------------------\n",
            " |  Data descriptors defined here:\n",
            " |  \n",
            " |  denominator\n",
            " |      the denominator of a rational number in lowest terms\n",
            " |  \n",
            " |  imag\n",
            " |      the imaginary part of a complex number\n",
            " |  \n",
            " |  numerator\n",
            " |      the numerator of a rational number in lowest terms\n",
            " |  \n",
            " |  real\n",
            " |      the real part of a complex number\n",
            "\n"
          ]
        }
      ]
    },
    {
      "cell_type": "code",
      "source": [
        "myNum = 10 + 10.5\n",
        "myNum"
      ],
      "metadata": {
        "colab": {
          "base_uri": "https://localhost:8080/"
        },
        "id": "pR1tu4sVpORn",
        "outputId": "51bbfad0-cfb1-4480-ff6c-fb615e747075"
      },
      "execution_count": null,
      "outputs": [
        {
          "output_type": "execute_result",
          "data": {
            "text/plain": [
              "20.5"
            ]
          },
          "metadata": {},
          "execution_count": 9
        }
      ]
    },
    {
      "cell_type": "code",
      "source": [
        "#swap 알고리즘\n",
        "\n",
        "a = 10\n",
        "b = 20\n",
        "tmp = a\n",
        "a = b\n",
        "b = tmp"
      ],
      "metadata": {
        "id": "p1dsiSmapOPS"
      },
      "execution_count": null,
      "outputs": []
    },
    {
      "cell_type": "code",
      "source": [
        "a, b = 10, 20\n",
        "print(a, b)\n",
        "a, b= b, a\n",
        "print(a, b)"
      ],
      "metadata": {
        "colab": {
          "base_uri": "https://localhost:8080/"
        },
        "id": "eo3EDt1zpOM0",
        "outputId": "3a1cf0e7-4e49-4560-dc37-cdfffad0c83f"
      },
      "execution_count": null,
      "outputs": [
        {
          "output_type": "stream",
          "name": "stdout",
          "text": [
            "10 20\n",
            "20 10\n"
          ]
        }
      ]
    },
    {
      "cell_type": "code",
      "source": [
        ""
      ],
      "metadata": {
        "id": "HhjlpGxF5Vje"
      },
      "execution_count": null,
      "outputs": []
    },
    {
      "cell_type": "markdown",
      "source": [
        "문제 1 \n",
        "펭수는 47개의 빵을 2개씩 같은 과 친구들에게 나누어 주고 남은 빵은\n",
        "자기가 먹으려고 한다. 최대 몇 명에게 나누어 줄 수 있는 지를 구하고,\n",
        "남은 빵의 개수도 구해보자"
      ],
      "metadata": {
        "id": "-FIriqIL3eVl"
      }
    },
    {
      "cell_type": "code",
      "source": [
        "pensu = 47\n",
        "classmate = 2\n",
        "print(f'최대 나눠줄 수 있는 친구 수: {pensu // classmate}')\n",
        "print(f'펭수가 먹을 남은 빵: {pensu % classmate}')"
      ],
      "metadata": {
        "colab": {
          "base_uri": "https://localhost:8080/"
        },
        "id": "fZvEUexcpOKb",
        "outputId": "e198d03b-ce98-4de9-b4bd-e3fd7c856ae9"
      },
      "execution_count": null,
      "outputs": [
        {
          "output_type": "stream",
          "name": "stdout",
          "text": [
            "최대 나눠줄 수 있는 친구 수: 23\n",
            "펭수가 먹을 남은 빵: 1\n"
          ]
        }
      ]
    },
    {
      "cell_type": "code",
      "source": [
        "peng_su = int(input('펭수가 가지고 있는 전체 빵의 갯수'))\n",
        "class_mate = int(input('친구들에게 나누어 줄 빵의 갯수'))\n",
        "print(f'최대 나눠줄 수 있는 친구 수: {peng_su // class_mate}')\n",
        "print(f'펭수가 먹을 남은 빵: {peng_su % class_mate}')\n"
      ],
      "metadata": {
        "colab": {
          "base_uri": "https://localhost:8080/"
        },
        "id": "pJ_RpVJi8U-r",
        "outputId": "7b3ffece-e660-4926-ce68-63e8d87cd258"
      },
      "execution_count": null,
      "outputs": [
        {
          "output_type": "stream",
          "name": "stdout",
          "text": [
            "펭수가 가지고 있는 전체 빵의 갯수156\n",
            "친구들에게 나누어 줄 빵의 갯수4\n",
            "최대 나눠줄 수 있는 친구 수: 39\n",
            "펭수가 먹을 남은 빵: 0\n"
          ]
        }
      ]
    },
    {
      "cell_type": "code",
      "source": [
        "# 문제 1-2\n",
        "# 정수 123을 각 자릿수로 분리하시오\n",
        "\n",
        "integer = 123\n",
        "\n",
        "print(f'일의 자리숫자 {int(str(integer)[0])}')\n",
        "print(f'십의 자리숫자 {int(str(integer)[1])}')\n",
        "print(f'백의 자리숫자 {int(str(integer)[2])}')"
      ],
      "metadata": {
        "colab": {
          "base_uri": "https://localhost:8080/"
        },
        "id": "R8C_cCML5d1B",
        "outputId": "6cbb744a-8b2b-4688-8669-65a61d5024e8"
      },
      "execution_count": null,
      "outputs": [
        {
          "output_type": "stream",
          "name": "stdout",
          "text": [
            "일의 자리숫자 1\n",
            "십의 자리숫자 2\n",
            "백의 자리숫자 3\n"
          ]
        }
      ]
    },
    {
      "cell_type": "code",
      "source": [
        "n= 123\n",
        "\n",
        "a = n // 100\n",
        "b = ( n - ( a * 100 )) //10\n",
        "c = n % 10\n",
        "\n",
        " \n",
        "\n",
        "print(a,b,c)"
      ],
      "metadata": {
        "colab": {
          "base_uri": "https://localhost:8080/"
        },
        "id": "goBlKfwj7taA",
        "outputId": "6bc8db30-a06d-41df-8211-e4e1607bb9b1"
      },
      "execution_count": null,
      "outputs": [
        {
          "output_type": "stream",
          "name": "stdout",
          "text": [
            "1 2 3\n"
          ]
        }
      ]
    },
    {
      "cell_type": "markdown",
      "source": [
        "문제2 \n",
        "해외 여행을 위해 한국 돈을 미국 돈으로 환전하고 자 한다.\n",
        "1달러가 1140원이라고 할 때 100만원을 환전하면 몇 달러로 받을 수\n",
        "있을까요? 그리고 환전 후 남은 금액(잔액)은 얼마인지 계산해보자.\n"
      ],
      "metadata": {
        "id": "PJw9O0Me5QX8"
      }
    },
    {
      "cell_type": "code",
      "source": [
        "krw = 1000000\n",
        "rate = 1140\n",
        "exchanged = krw // rate\n",
        "change = krw % rate\n",
        "print(f'환전한 금액: {exchanged} $')\n",
        "print(f'남은 금액: {change} ')"
      ],
      "metadata": {
        "colab": {
          "base_uri": "https://localhost:8080/"
        },
        "id": "yQp96MpipOH_",
        "outputId": "68352f13-d84a-4408-a2bf-637baab1ed62"
      },
      "execution_count": null,
      "outputs": [
        {
          "output_type": "stream",
          "name": "stdout",
          "text": [
            "환전한 금액: 877\n",
            "남은 금액: 220\n"
          ]
        }
      ]
    },
    {
      "cell_type": "code",
      "source": [
        "# 판매금액을 입력받아\n",
        "# 할인율 10%, 최종 판매금액 출력해보자\n",
        "\n",
        "price = int(input(   ))\n",
        "disCount = 0.1\n",
        "salePrice = price - (price * disCount)\n",
        "print(f'최종 판매금액: {round(salePrice)} \\ ')\n"
      ],
      "metadata": {
        "colab": {
          "base_uri": "https://localhost:8080/"
        },
        "id": "NaAL1PEapOFb",
        "outputId": "5b77b4fc-1b24-464a-c18a-be73205537ee"
      },
      "execution_count": null,
      "outputs": [
        {
          "output_type": "stream",
          "name": "stdout",
          "text": [
            "1000\n",
            "최종 판매금액: 900 \\ \n"
          ]
        }
      ]
    },
    {
      "cell_type": "code",
      "source": [
        "name = 'hee'\n",
        "age = 20\n",
        "print(name,age)"
      ],
      "metadata": {
        "colab": {
          "base_uri": "https://localhost:8080/"
        },
        "id": "Rpa_72ZfpOC-",
        "outputId": "5dc4a238-a265-4cf2-e3a8-29f68d2b4213"
      },
      "execution_count": null,
      "outputs": [
        {
          "output_type": "stream",
          "name": "stdout",
          "text": [
            "hee 20\n"
          ]
        }
      ]
    },
    {
      "cell_type": "code",
      "source": [
        "result = 'name = %s age = %d' % (name, age)\n",
        "print(result)"
      ],
      "metadata": {
        "colab": {
          "base_uri": "https://localhost:8080/"
        },
        "id": "KfeIJi5CpN4n",
        "outputId": "79ccba89-85b5-4019-999d-205c540fc6cd"
      },
      "execution_count": null,
      "outputs": [
        {
          "output_type": "stream",
          "name": "stdout",
          "text": [
            "name = hee age = 20\n"
          ]
        }
      ]
    },
    {
      "cell_type": "code",
      "source": [
        "bread = 197\n",
        "milk = 152\n",
        "studentCnt = 17\n",
        "\n",
        "print('학생 한명이 갖게되는 빵 개수: {}  '.format(bread // studentCnt))\n",
        "print('학생 한명이 갖게되는 우유 개수: {}'.format(milk // studentCnt))\n",
        "\n",
        "print('남는 빵 개수: {}  '.format(bread % studentCnt))\n",
        "print('남는 우유 개수: {}'.format(milk % studentCnt))"
      ],
      "metadata": {
        "colab": {
          "base_uri": "https://localhost:8080/"
        },
        "id": "HfR1RyNrA9_Q",
        "outputId": "762fd8fb-05ae-4c78-f023-67b58fa971e0"
      },
      "execution_count": null,
      "outputs": [
        {
          "output_type": "stream",
          "name": "stdout",
          "text": [
            "학생 한명이 갖게되는 빵 개수: 11  \n",
            "학생 한명이 갖게되는 우유 개수: 8\n",
            "남는 빵 개수: 10  \n",
            "남는 우유 개수: 16\n"
          ]
        }
      ]
    },
    {
      "cell_type": "markdown",
      "source": [
        "문제3 \n",
        "지금까지 배운 입력함수와 출력함수를 이용하여 아래와 같이 사람과\n",
        "컴퓨터가 대화하는 간단한 챗봇을 만들어 보자."
      ],
      "metadata": {
        "id": "bHaFpIg1FbEd"
      }
    },
    {
      "cell_type": "code",
      "source": [
        "import time\n",
        "\n",
        "print('안녕하세요')\n",
        "time.sleep(1)\n",
        "print('나는 인공지능 챗봇입니다')\n",
        "time.sleep(1)\n",
        "print('딩신의 이름은?')\n",
        "time.sleep(1)\n",
        "name = str(input())\n",
        "print('{}학생 반가워요'.format(name))\n",
        "time.sleep(1)\n",
        "print('전공은 무엇인가요?')\n",
        "major = str(input())\n",
        "print('{}학생은 아주 어려운 {}을 공부하고 계시네요'.format(name, major))\n",
        "time.sleep(1)\n",
        "print('다음 주에 또 만나요')\n"
      ],
      "metadata": {
        "id": "I_e8n1NuFeSI",
        "colab": {
          "base_uri": "https://localhost:8080/"
        },
        "outputId": "be73c973-23ad-452e-b310-577d1e4b0c55"
      },
      "execution_count": null,
      "outputs": [
        {
          "output_type": "stream",
          "name": "stdout",
          "text": [
            "안녕하세요\n",
            "나는 인공지능 챗봇입니다\n",
            "딩신의 이름은?\n",
            "성형훈\n",
            "성형훈학생 반가워요\n",
            "전공은 무엇인가요?\n",
            "정보과학\n",
            "성형훈학생은 아주 어려운 정보과학을 공부하고 계시네요\n",
            "다음 주에 또 만나요\n"
          ]
        }
      ]
    },
    {
      "cell_type": "markdown",
      "source": [
        "문제4\n",
        "\n",
        "동아리 신입회원을 위한 조촐한 파티\n",
        "파티에 참석하는 회원들을 위해 음식을 준비한다고 가정하자\n",
        "문제는 파티에 참석할 수 있는 회원들의 숫자가 변경될 수 있다는 점이다.\n",
        "참석자에 맞춰 필요한 치킨(1인 한 마리), 맥주(1인 2캔), 콜라(1인 2캔)의 수를 출력하는 프로그램을 완성하시오.\n"
      ],
      "metadata": {
        "id": "3LOeJckPG08B"
      }
    },
    {
      "cell_type": "code",
      "source": [
        "number_of_attendence = int(input('참석하는 회원 수:'))\n",
        "chickens = number_of_attendence\n",
        "coke = number_of_attendence * 2\n",
        "beers = coke\n",
        "\n",
        "chicken_price = 12000 \n",
        "beer_price = 4000\n",
        "coke_price = 2000\n",
        "\n",
        "chicken_price_total = chickens * chicken_price\n",
        "beer_price_total = beers * beer_price\n",
        "coke_price_total = coke * coke_price\n",
        "total_cost = chicken_price_total + beer_price_total + coke_price_total \n",
        "\n",
        "print(\"\"\"치킨{}인분\n",
        "맥주 {}캔\n",
        "콜라 {}캔\n",
        "\"\"\".format(chickens, beers, coke))\n",
        "print(\"=\" * 50)\n",
        "print(\"\"\"\n",
        "치킨 가격: \\{} \\n\n",
        "맥주 가격: \\{} \\n\n",
        "콜라 가격: \\{} \\n\n",
        "Total: \\{}  \n",
        "\"\"\".format(chicken_price_total, beer_price_total, coke_price_total, total_cost))"
      ],
      "metadata": {
        "id": "DpN7LqFsG8iF",
        "colab": {
          "base_uri": "https://localhost:8080/"
        },
        "outputId": "f0be9e0c-16e1-4284-8405-6338844379ce"
      },
      "execution_count": null,
      "outputs": [
        {
          "output_type": "stream",
          "name": "stdout",
          "text": [
            "참석하는 회원 수:12\n",
            "치킨12인분\n",
            "맥주 24캔\n",
            "콜라 24캔\n",
            "\n",
            "==================================================\n",
            "\n",
            "치킨 가격: \\144000 \n",
            "\n",
            "맥주 가격: \\96000 \n",
            "\n",
            "콜라 가격: \\48000 \n",
            "\n",
            "Total: \\288000  \n",
            "\n"
          ]
        }
      ]
    }
  ]
}