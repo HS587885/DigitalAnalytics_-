{
  "nbformat": 4,
  "nbformat_minor": 0,
  "metadata": {
    "colab": {
      "name": "Week7_파일처리_도전문제_solution.ipynb",
      "provenance": [],
      "include_colab_link": true
    },
    "kernelspec": {
      "name": "python3",
      "display_name": "Python 3"
    },
    "language_info": {
      "name": "python"
    }
  },
  "cells": [
    {
      "cell_type": "markdown",
      "metadata": {
        "id": "view-in-github",
        "colab_type": "text"
      },
      "source": [
        "<a href=\"https://colab.research.google.com/github/HS587885/DigitalAnalytics_intermediateProgramming/blob/main/Week7_%ED%8C%8C%EC%9D%BC%EC%B2%98%EB%A6%AC_%EB%8F%84%EC%A0%84%EB%AC%B8%EC%A0%9C_solution.ipynb\" target=\"_parent\"><img src=\"https://colab.research.google.com/assets/colab-badge.svg\" alt=\"Open In Colab\"/></a>"
      ]
    },
    {
      "cell_type": "markdown",
      "source": [
        "# 함수 리뷰 : 로또 프로그램"
      ],
      "metadata": {
        "id": "WxaMXdGpchao"
      }
    },
    {
      "cell_type": "code",
      "source": [
        "import random\n",
        "\n",
        "# 함수정의\n",
        "def getNum():\n",
        "    r=random.randint(1,45)\n",
        "    return r\n",
        "\n",
        "# 메인코드\n",
        "lotto=list()\n",
        "\n",
        "print('**로또 프로그램을 시작합니다.**')\n",
        "\n",
        "while True:\n",
        "    n=getNum()\n",
        "    if lotto.count(n)==0:      \n",
        "        lotto.append(n)\n",
        "    if len(lotto)==6:break\n",
        "\n",
        "print('추첨된 로또 번호 : ', end= '')\n",
        "lotto.sort()\n",
        "print(lotto)\n",
        "for i in range(6):\n",
        "    print(f'{lotto[i]} ', end='')"
      ],
      "metadata": {
        "id": "vMyNm5ePcgtg"
      },
      "execution_count": null,
      "outputs": []
    },
    {
      "cell_type": "code",
      "source": [
        "import random\n",
        "\n",
        "# 함수정의\n",
        "def getNum():\n",
        "    r=random.randint(1,45)\n",
        "    return r\n",
        "\n",
        "# 메인코드\n",
        "lotto=list()\n",
        "print('**로또 프로그램을 시작합니다.**')\n",
        "while True:\n",
        "    n=getNum()\n",
        "    if lotto.count(n)==0:\n",
        "        lotto.append(n)\n",
        "    if len(lotto)==6:break\n",
        "\n",
        "print('추첨된 로또 번호 : ', end= '')\n",
        "lotto.sort()\n",
        "print(lotto)\n",
        "while True:\n",
        "  n=getNum()\n",
        "  if lotto.count(n)==0:break\n",
        "\n",
        "for i in range(6):\n",
        "    print(f'{lotto[i]} ', end='')\n",
        "print(f'bonus {n}')"
      ],
      "metadata": {
        "colab": {
          "base_uri": "https://localhost:8080/"
        },
        "id": "ZFnrxbP0c0DH",
        "outputId": "dddb9a21-f61c-4a8e-95e2-addb5af9651f"
      },
      "execution_count": null,
      "outputs": [
        {
          "output_type": "stream",
          "name": "stdout",
          "text": [
            "**로또 프로그램을 시작합니다.**\n",
            "추첨된 로또 번호 : [2, 10, 30, 31, 35, 39]\n",
            "2 10 30 31 35 39 bonus 15\n"
          ]
        }
      ]
    },
    {
      "cell_type": "markdown",
      "source": [
        "# 응용문제 1 : 성적프로그램"
      ],
      "metadata": {
        "id": "0S7golsAaPo4"
      }
    },
    {
      "cell_type": "code",
      "execution_count": null,
      "metadata": {
        "id": "ZMNSRSILS6rt",
        "colab": {
          "base_uri": "https://localhost:8080/"
        },
        "outputId": "217a3a33-6231-4f88-a09f-82cc7dfdbc78"
      },
      "outputs": [
        {
          "output_type": "stream",
          "name": "stdout",
          "text": [
            "이 름,국어,영어,수학,평균,학점\n",
            "------------------------------\n",
            "김가현  95  93  97   95.0   A  \n",
            "김혜현  85  84  85   84.7   B  \n",
            "최재원  90  85  86   87.0   B  \n",
            "최지윤  95  95  97   95.7   A  \n",
            "김연수 100  95  85   93.3   A  \n",
            "김연우  90  90  90   90.0   A  \n"
          ]
        }
      ],
      "source": [
        "def average(k,e,m):\n",
        "  return (k+e+m)/3\n",
        "\n",
        "def grade(avg):\n",
        "    if avg>=90:\n",
        "        result='A'\n",
        "    elif avg>=80:\n",
        "        result='B'\n",
        "    elif avg>=70:\n",
        "        result='C'\n",
        "    elif avg>=70:\n",
        "        result='D'\n",
        "    else:\n",
        "        result='F'\n",
        "    return result\n",
        "\n",
        "filename='/content/drive/MyDrive/data/score.txt'\n",
        "f=open(filename,encoding='cp949')\n",
        "print('이 름,국어,영어,수학,평균,학점')\n",
        "print('-'*30)\n",
        "for line in f:\n",
        "    name,kor,eng,math=line.split(',')\n",
        "    k,e,m=int(kor),int(eng),int(math)\n",
        "    avg=average(k,e,m)\n",
        "    result=grade(avg)\n",
        "    print(f'{name:3s} {k:3d}{e:4d}{m:4d}{avg:7.1f} {result:^5s}')\n",
        "\n",
        "f.close()"
      ]
    },
    {
      "cell_type": "markdown",
      "source": [
        "# 응용문제 2 : 타자게임만들기"
      ],
      "metadata": {
        "id": "5Om-v7GIaWao"
      }
    },
    {
      "cell_type": "code",
      "source": [
        "import random\n",
        "\n",
        "def menu():\n",
        "    print('-'*30)\n",
        "    print('   신조어 게임   ')\n",
        "    print('-'*30)\n",
        "    print()\n",
        "    input('타자게임 시작(아무키나)')\n",
        "\n",
        "def wordList():\n",
        "    for line in word:\n",
        "        w=line.rstrip('\\n') # 개행문자제거\n",
        "        nw.append(w)\n",
        "\n",
        "# main\n",
        "menu()    \n",
        "filename='/content/drive/MyDrive/data/word.txt'\n",
        "f=open(filename,encoding='cp949')\n",
        "word = f.readlines() # 파일 원본\n",
        "\n",
        "nw=[] # 새로운 리스트\n",
        "wordList()\n",
        "com = random.choice(nw)\n",
        "\n",
        "while True:\n",
        "    print(com)\n",
        "    user=input()\n",
        "    if user=='':break\n",
        "    elif user==com:\n",
        "        print('맞음!!')\n",
        "        com=random.choice(nw)\n",
        "    else:\n",
        "        print('오타! 다시 도전')"
      ],
      "metadata": {
        "colab": {
          "base_uri": "https://localhost:8080/"
        },
        "id": "td5RMkwvagiN",
        "outputId": "82077da2-730a-421b-cd78-2d86f86d234f"
      },
      "execution_count": null,
      "outputs": [
        {
          "name": "stdout",
          "output_type": "stream",
          "text": [
            "------------------------------\n",
            "   신조어 게임   \n",
            "------------------------------\n",
            "\n",
            "타자게임 시작(아무키나)\n",
            "자만추\n",
            "자만추\n",
            "맞음!!\n",
            "완내스\n",
            "완내스\n",
            "맞음!!\n",
            "인싸\n",
            "인싸\n",
            "맞음!!\n",
            "별다줄\n",
            "별닺\n",
            "오타! 다시 도전\n",
            "별다줄\n",
            "별다줄\n",
            "맞음!!\n",
            "세젤예\n",
            "\n"
          ]
        }
      ]
    },
    {
      "cell_type": "code",
      "source": [
        "g = open(filename,encoding='cp949')\n",
        "score_data = []\n",
        "while True:\n",
        "  data = g.readline()\n",
        "  data= data.rstrip('\\n')          # 애초에 readlines로 불러온 것에서 개행문자 제거 시도를 해봤는데도 안되어서 바꿔본 것인데 이것도 제거에 실패했습니다..\n",
        "  if data == '':\n",
        "    break\n",
        "  score_data.append(data)\n",
        "print(score_data)\n",
        "g.close()"
      ],
      "metadata": {
        "colab": {
          "base_uri": "https://localhost:8080/"
        },
        "id": "KblbSq-FA4H6",
        "outputId": "c152de2f-0b8b-4ed2-be7b-0f8ce599f62b"
      },
      "execution_count": null,
      "outputs": [
        {
          "output_type": "stream",
          "name": "stdout",
          "text": [
            "['김가현,95,93,97', '김혜현,85,84,85', '최재원,90,85,86', '최지윤,95,95,97', '김연수,100,95,85', '김연우,90,90,90']\n"
          ]
        }
      ]
    },
    {
      "cell_type": "markdown",
      "source": [
        ""
      ],
      "metadata": {
        "id": "1-Zn8PtuA35g"
      }
    }
  ]
}