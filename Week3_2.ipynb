{
  "nbformat": 4,
  "nbformat_minor": 0,
  "metadata": {
    "colab": {
      "name": "Week3-2.ipynb",
      "provenance": [],
      "collapsed_sections": [],
      "authorship_tag": "ABX9TyNhPsfLNhq5cHIergota+AV",
      "include_colab_link": true
    },
    "kernelspec": {
      "name": "python3",
      "display_name": "Python 3"
    },
    "language_info": {
      "name": "python"
    }
  },
  "cells": [
    {
      "cell_type": "markdown",
      "metadata": {
        "id": "view-in-github",
        "colab_type": "text"
      },
      "source": [
        "<a href=\"https://colab.research.google.com/github/HS587885/DigitalAnalytics_intermediateProgramming/blob/main/Week3_2.ipynb\" target=\"_parent\"><img src=\"https://colab.research.google.com/assets/colab-badge.svg\" alt=\"Open In Colab\"/></a>"
      ]
    },
    {
      "cell_type": "markdown",
      "source": [
        "리스트 생성과 추출"
      ],
      "metadata": {
        "id": "59emzU3UvnjJ"
      }
    },
    {
      "cell_type": "code",
      "source": [
        "#리스트 (객체)생성\n",
        "dir(list)\n",
        "help(list)\n",
        "a = [] #list()\n",
        "b = [10, 20] #list(range(10))"
      ],
      "metadata": {
        "id": "VygeuO3MsiE2",
        "colab": {
          "base_uri": "https://localhost:8080/"
        },
        "outputId": "fd3f5a23-cc69-4a25-fe7c-fc425e1f38c4"
      },
      "execution_count": null,
      "outputs": [
        {
          "output_type": "stream",
          "name": "stdout",
          "text": [
            "Help on class list in module builtins:\n",
            "\n",
            "class list(object)\n",
            " |  list(iterable=(), /)\n",
            " |  \n",
            " |  Built-in mutable sequence.\n",
            " |  \n",
            " |  If no argument is given, the constructor creates a new empty list.\n",
            " |  The argument must be an iterable if specified.\n",
            " |  \n",
            " |  Methods defined here:\n",
            " |  \n",
            " |  __add__(self, value, /)\n",
            " |      Return self+value.\n",
            " |  \n",
            " |  __contains__(self, key, /)\n",
            " |      Return key in self.\n",
            " |  \n",
            " |  __delitem__(self, key, /)\n",
            " |      Delete self[key].\n",
            " |  \n",
            " |  __eq__(self, value, /)\n",
            " |      Return self==value.\n",
            " |  \n",
            " |  __ge__(self, value, /)\n",
            " |      Return self>=value.\n",
            " |  \n",
            " |  __getattribute__(self, name, /)\n",
            " |      Return getattr(self, name).\n",
            " |  \n",
            " |  __getitem__(...)\n",
            " |      x.__getitem__(y) <==> x[y]\n",
            " |  \n",
            " |  __gt__(self, value, /)\n",
            " |      Return self>value.\n",
            " |  \n",
            " |  __iadd__(self, value, /)\n",
            " |      Implement self+=value.\n",
            " |  \n",
            " |  __imul__(self, value, /)\n",
            " |      Implement self*=value.\n",
            " |  \n",
            " |  __init__(self, /, *args, **kwargs)\n",
            " |      Initialize self.  See help(type(self)) for accurate signature.\n",
            " |  \n",
            " |  __iter__(self, /)\n",
            " |      Implement iter(self).\n",
            " |  \n",
            " |  __le__(self, value, /)\n",
            " |      Return self<=value.\n",
            " |  \n",
            " |  __len__(self, /)\n",
            " |      Return len(self).\n",
            " |  \n",
            " |  __lt__(self, value, /)\n",
            " |      Return self<value.\n",
            " |  \n",
            " |  __mul__(self, value, /)\n",
            " |      Return self*value.\n",
            " |  \n",
            " |  __ne__(self, value, /)\n",
            " |      Return self!=value.\n",
            " |  \n",
            " |  __repr__(self, /)\n",
            " |      Return repr(self).\n",
            " |  \n",
            " |  __reversed__(self, /)\n",
            " |      Return a reverse iterator over the list.\n",
            " |  \n",
            " |  __rmul__(self, value, /)\n",
            " |      Return value*self.\n",
            " |  \n",
            " |  __setitem__(self, key, value, /)\n",
            " |      Set self[key] to value.\n",
            " |  \n",
            " |  __sizeof__(self, /)\n",
            " |      Return the size of the list in memory, in bytes.\n",
            " |  \n",
            " |  append(self, object, /)\n",
            " |      Append object to the end of the list.\n",
            " |  \n",
            " |  clear(self, /)\n",
            " |      Remove all items from list.\n",
            " |  \n",
            " |  copy(self, /)\n",
            " |      Return a shallow copy of the list.\n",
            " |  \n",
            " |  count(self, value, /)\n",
            " |      Return number of occurrences of value.\n",
            " |  \n",
            " |  extend(self, iterable, /)\n",
            " |      Extend list by appending elements from the iterable.\n",
            " |  \n",
            " |  index(self, value, start=0, stop=9223372036854775807, /)\n",
            " |      Return first index of value.\n",
            " |      \n",
            " |      Raises ValueError if the value is not present.\n",
            " |  \n",
            " |  insert(self, index, object, /)\n",
            " |      Insert object before index.\n",
            " |  \n",
            " |  pop(self, index=-1, /)\n",
            " |      Remove and return item at index (default last).\n",
            " |      \n",
            " |      Raises IndexError if list is empty or index is out of range.\n",
            " |  \n",
            " |  remove(self, value, /)\n",
            " |      Remove first occurrence of value.\n",
            " |      \n",
            " |      Raises ValueError if the value is not present.\n",
            " |  \n",
            " |  reverse(self, /)\n",
            " |      Reverse *IN PLACE*.\n",
            " |  \n",
            " |  sort(self, /, *, key=None, reverse=False)\n",
            " |      Stable sort *IN PLACE*.\n",
            " |  \n",
            " |  ----------------------------------------------------------------------\n",
            " |  Static methods defined here:\n",
            " |  \n",
            " |  __new__(*args, **kwargs) from builtins.type\n",
            " |      Create and return a new object.  See help(type) for accurate signature.\n",
            " |  \n",
            " |  ----------------------------------------------------------------------\n",
            " |  Data and other attributes defined here:\n",
            " |  \n",
            " |  __hash__ = None\n",
            "\n"
          ]
        }
      ]
    },
    {
      "cell_type": "code",
      "source": [
        "fruits = ['apple', 'orange', 'grape', 'melon']\n",
        "list1 = ['yonsei', 'DA', ['c', 'python']]\n",
        "fruits[1:]\n",
        "fruits[:3]\n",
        "fruits[-4:-2]\n",
        "len(fruits)\n",
        "len(list1)"
      ],
      "metadata": {
        "id": "Jf7JTZ-1siCh",
        "colab": {
          "base_uri": "https://localhost:8080/"
        },
        "outputId": "ba0f436b-fd2a-4fc1-dd9f-5fb6f91848dc"
      },
      "execution_count": null,
      "outputs": [
        {
          "output_type": "execute_result",
          "data": {
            "text/plain": [
              "3"
            ]
          },
          "metadata": {},
          "execution_count": 7
        }
      ]
    },
    {
      "cell_type": "code",
      "source": [
        "a = [10,20, 30, 40]\n",
        "b = a[1:3]\n",
        "b\n",
        "hex(id(a)), hex(id(b))"
      ],
      "metadata": {
        "id": "yXDEWAmfsiAW",
        "colab": {
          "base_uri": "https://localhost:8080/"
        },
        "outputId": "65015d5b-e1ab-42d8-f17b-3aa3d46b214e"
      },
      "execution_count": null,
      "outputs": [
        {
          "output_type": "execute_result",
          "data": {
            "text/plain": [
              "('0x7f3a912b2e10', '0x7f3a8883b820')"
            ]
          },
          "metadata": {},
          "execution_count": 8
        }
      ]
    },
    {
      "cell_type": "markdown",
      "source": [
        "변경가능한 객체(mutable) vs 변경불가능한 객체(immutable)\n",
        "\n",
        "id()함수: 객체의 고유값(레퍼런스)을 반환하는 함수"
      ],
      "metadata": {
        "id": "3zxibhOryDMM"
      }
    },
    {
      "cell_type": "markdown",
      "source": [
        ""
      ],
      "metadata": {
        "id": "csh48kBCyDKF"
      }
    },
    {
      "cell_type": "code",
      "source": [
        "a = 100 # -5~256\n",
        "b = 100\n",
        "print(a,b)\n",
        "print(id(a), id(b))"
      ],
      "metadata": {
        "id": "PIwUdtQ6sh-b",
        "colab": {
          "base_uri": "https://localhost:8080/"
        },
        "outputId": "8760da4b-3006-457e-ec05-e97890bb980c"
      },
      "execution_count": null,
      "outputs": [
        {
          "output_type": "stream",
          "name": "stdout",
          "text": [
            "100 100\n",
            "93980082869856 93980082869856\n"
          ]
        }
      ]
    },
    {
      "cell_type": "markdown",
      "source": [
        "## 변경불가능한 객체\n",
        "- int, float, str, bool, tuple\n",
        "\n",
        "int같은 경우는 특정 범위가 있음"
      ],
      "metadata": {
        "id": "a32HTx_TzROl"
      }
    },
    {
      "cell_type": "code",
      "source": [
        "a = 300\n",
        "b = a\n",
        "print(id(a), id(b))\n",
        "b = 'hee'\n",
        "print(id(a), id(b))"
      ],
      "metadata": {
        "id": "POREbVD5sh8v",
        "colab": {
          "base_uri": "https://localhost:8080/"
        },
        "outputId": "3ce131bd-d24e-49ab-b0c4-2c1ea2f99ace"
      },
      "execution_count": null,
      "outputs": [
        {
          "output_type": "stream",
          "name": "stdout",
          "text": [
            "139889375954832 139889375954832\n",
            "139889375954832 139889375299504\n"
          ]
        }
      ]
    },
    {
      "cell_type": "code",
      "source": [
        "old = 'abc abc'\n",
        "#old[0]= 'A'\n",
        "new = old.upper()\n",
        "id(old), id(new)"
      ],
      "metadata": {
        "id": "BGK6LX9Jsh7F",
        "colab": {
          "base_uri": "https://localhost:8080/"
        },
        "outputId": "962d978a-f589-433a-aaf4-cf5b0bd4a47b"
      },
      "execution_count": null,
      "outputs": [
        {
          "output_type": "execute_result",
          "data": {
            "text/plain": [
              "(139889520301552, 139889375208944)"
            ]
          },
          "metadata": {},
          "execution_count": 15
        }
      ]
    },
    {
      "cell_type": "code",
      "source": [
        "# replace(), split()\n",
        "newStr = old.replace('a', 'A')"
      ],
      "metadata": {
        "id": "S9E4a6Acsh6C"
      },
      "execution_count": null,
      "outputs": []
    },
    {
      "cell_type": "code",
      "source": [
        "def add_to_dict(a_dict, word=\"\", definition=\"\"):\n",
        "  if type(a_dict) is not dict:\n",
        "    print(\"You need to send a dictionary. You sent:\", type(a_dict))\n",
        "  elif word == '' or definition == '':\n",
        "    print(\"You need to send a word and a definition.\")\n",
        "  else:\n",
        "    if word in a_dict:\n",
        "      print(f\"{word} is already on the dictionary. Won't add.\")\n",
        "    else:\n",
        "      a_dict[word] = definition\n",
        "      print(word,\"has been added.\")\n",
        "\n",
        "\n",
        "def get_from_dict(a_dict, word=\"\"):\n",
        "  if type(a_dict) is not dict:\n",
        "    print(\"You need to send a dictionary. You sent:\", type(a_dict))\n",
        "  elif word == '':\n",
        "    print(\"You need to send a word to search for.\")\n",
        "  else:\n",
        "    if word not in a_dict:\n",
        "      print(f\"{word} was not found in this dict.\")\n",
        "    else:\n",
        "      print(f\"{word}: {a_dict[word]}\") \n",
        "\n",
        "\n",
        "def update_word(a_dict, word=\"\", definition=\"\"):\n",
        "  if type(a_dict) is not dict:\n",
        "    print(\"You need to send a dictionary. You sent:\", type(a_dict))\n",
        "  elif word == \"\" or definition == \"\":\n",
        "    print(\"You need to send a word and a definition to update.\")\n",
        "  else:\n",
        "    if word not in a_dict:\n",
        "      print(f\"{word} is not on the dict. Can't update non-existing word.\")\n",
        "    else:\n",
        "      a_dict[word] = definition\n",
        "      print(word, \"has been updated to:\", definition)\n",
        "\n",
        "\n",
        "def delete_from_dict(a_dict, word=\"\"):\n",
        "  if type(a_dict) is not dict:\n",
        "    print(\"You need to send a dictionary. You sent:\", type(a_dict))\n",
        "  elif word == \"\":\n",
        "    print(\"You need to specify a word to delete.\")\n",
        "  else:\n",
        "    if word not in a_dict:\n",
        "      print(f\"{word} is not in this dict. Won't delete.\")\n",
        "    else:\n",
        "      del a_dict[word]\n",
        "      print(f\"{word} has been deleted.\")\n"
      ],
      "metadata": {
        "id": "D95Ct7uUsh4Y"
      },
      "execution_count": null,
      "outputs": []
    },
    {
      "cell_type": "code",
      "source": [
        ""
      ],
      "metadata": {
        "id": "asq8RXvPsh2H"
      },
      "execution_count": null,
      "outputs": []
    },
    {
      "cell_type": "markdown",
      "source": [
        "## 변경가능한 객체(mutable): list, dict, set\n"
      ],
      "metadata": {
        "id": "9-oHCWaG5XqR"
      }
    },
    {
      "cell_type": "code",
      "source": [
        "data = [3, 1, 2, 5, 4]\n",
        "print(data)\n",
        "newdata = data.sort() # sorted()\n",
        "print(newdata)"
      ],
      "metadata": {
        "id": "muR8n-9cshzt",
        "colab": {
          "base_uri": "https://localhost:8080/"
        },
        "outputId": "335dfb04-ef55-4663-ffa1-629947017742"
      },
      "execution_count": null,
      "outputs": [
        {
          "output_type": "stream",
          "name": "stdout",
          "text": [
            "[3, 1, 2, 5, 4]\n",
            "None\n"
          ]
        }
      ]
    },
    {
      "cell_type": "code",
      "source": [
        "data2 = data\n",
        "print(id(data), id(data2))\n",
        "data2[0] = 30\n",
        "print(data, data2)\n",
        "print(id(data[0]), id(data2[0]))"
      ],
      "metadata": {
        "id": "P6qSJ-uRshxR",
        "colab": {
          "base_uri": "https://localhost:8080/"
        },
        "outputId": "16ef220f-3c65-4b06-8b63-008d64c09d55"
      },
      "execution_count": null,
      "outputs": [
        {
          "output_type": "stream",
          "name": "stdout",
          "text": [
            "139889374649312 139889374649312\n",
            "[30, 2, 3, 4, 5] [30, 2, 3, 4, 5]\n",
            "93980082867616 93980082867616\n"
          ]
        }
      ]
    },
    {
      "cell_type": "markdown",
      "source": [
        "## 얕은 복사 vs 깊은 복사"
      ],
      "metadata": {
        "id": "gcazvUfr6oIq"
      }
    },
    {
      "cell_type": "code",
      "source": [
        "#변경가능가능 객체\n",
        "arr1 = [10, 20, 30]\n",
        "arr2 = arr1 #주소\n",
        "# arr2[0] = 100\n",
        "arr2.append(40)\n",
        "arr1, arr2"
      ],
      "metadata": {
        "colab": {
          "base_uri": "https://localhost:8080/"
        },
        "id": "nR3VtqrFrIl8",
        "outputId": "faf8de68-600b-4411-f918-1b64a705dd83"
      },
      "execution_count": null,
      "outputs": [
        {
          "output_type": "execute_result",
          "data": {
            "text/plain": [
              "([10, 20, 30, 40], [10, 20, 30, 40])"
            ]
          },
          "metadata": {},
          "execution_count": 1
        }
      ]
    },
    {
      "cell_type": "code",
      "source": [
        ""
      ],
      "metadata": {
        "id": "PfhPqYV6r19n"
      },
      "execution_count": null,
      "outputs": []
    },
    {
      "cell_type": "code",
      "source": [
        "#변경불가능 객체\n",
        "a1 =10\n",
        "a2 = a1\n",
        "print(id(a1), id(a2))\n",
        "a2 = 100\n",
        "print(id(a1), id(a2))"
      ],
      "metadata": {
        "colab": {
          "base_uri": "https://localhost:8080/"
        },
        "id": "40I_Nm57riKq",
        "outputId": "c79e45e3-4787-4e7c-b463-ecd22efbfa87"
      },
      "execution_count": null,
      "outputs": [
        {
          "output_type": "stream",
          "name": "stdout",
          "text": [
            "94897821899552 94897821899552\n",
            "94897821899552 94897821902432\n"
          ]
        }
      ]
    },
    {
      "cell_type": "code",
      "source": [
        "#리스트\n",
        "\n",
        "a = [1,2,3,4]\n",
        "\n",
        "b= a.copy() #a[:]\n",
        "print(id(a), id(b))\n",
        "print(id(a[0]), id(b[0]))\n",
        " \n",
        "b[0] = 10\n",
        "print(a,b)"
      ],
      "metadata": {
        "colab": {
          "base_uri": "https://localhost:8080/"
        },
        "id": "Uq23RBQ_r6m9",
        "outputId": "4261ea5a-dbef-4603-92c3-3fd6e0deabde"
      },
      "execution_count": null,
      "outputs": [
        {
          "output_type": "stream",
          "name": "stdout",
          "text": [
            "140674721492656 140674721358224\n",
            "94897821899264 94897821899264\n",
            "[1, 2, 3, 4] [10, 2, 3, 4]\n"
          ]
        }
      ]
    },
    {
      "cell_type": "code",
      "source": [
        "# 리스트 내 리스트: 이중 리스트\n",
        "a = [1,2,[3,4]]\n",
        "b= a.copy() #a[:]\n",
        "print(id(a), id(b))\n",
        "print(id(a[0]), id(b[0]))\n",
        "\n",
        "b[0].append(30)\n",
        "a,b"
      ],
      "metadata": {
        "id": "Ze_HJCybtg3u"
      },
      "execution_count": null,
      "outputs": []
    },
    {
      "cell_type": "code",
      "source": [
        "# 깊은복사(deepcopy)\n",
        "import copy\n",
        "a =[[1,2], [3,4]]\n",
        "b = copy.deepcopy(a)\n",
        "print(id(a), id(b))\n",
        "print(id(a[0]), id(b[0]))\n",
        "b[0].append(30)\n",
        "a,b\n"
      ],
      "metadata": {
        "colab": {
          "base_uri": "https://localhost:8080/"
        },
        "id": "WXlBtOMrucaJ",
        "outputId": "93088382-4fab-41b2-f809-99cc84a7b0c5"
      },
      "execution_count": null,
      "outputs": [
        {
          "output_type": "stream",
          "name": "stdout",
          "text": [
            "140674721398528 140674721198960\n",
            "140674721775440 140674721358864\n"
          ]
        },
        {
          "output_type": "execute_result",
          "data": {
            "text/plain": [
              "([[1, 2], [3, 4]], [[1, 2, 30], [3, 4]])"
            ]
          },
          "metadata": {},
          "execution_count": 12
        }
      ]
    },
    {
      "cell_type": "markdown",
      "source": [
        "## 리스트 조작함수(메소드)"
      ],
      "metadata": {
        "id": "oeFKbFnZ6uIU"
      }
    },
    {
      "cell_type": "code",
      "source": [
        "a =[3,2,1,5,4]\n",
        "a.append(10)\n",
        "a\n",
        "a.insert(1, 15)\n",
        "a\n",
        "a.sort()\n",
        "a\n",
        "a.sort(reverse = True) #내림차순\n",
        "a\n",
        "a.count(10)\n",
        "a.pop()\n",
        "a"
      ],
      "metadata": {
        "id": "nR3yPibeshn9",
        "colab": {
          "base_uri": "https://localhost:8080/"
        },
        "outputId": "27b35fcb-38bd-45c6-a563-2ad53d8220ef"
      },
      "execution_count": null,
      "outputs": [
        {
          "output_type": "execute_result",
          "data": {
            "text/plain": [
              "[15, 10, 5, 4, 3, 2]"
            ]
          },
          "metadata": {},
          "execution_count": 27
        }
      ]
    },
    {
      "cell_type": "code",
      "source": [
        "a.pop(0)"
      ],
      "metadata": {
        "id": "SPm-pUyLshkd",
        "colab": {
          "base_uri": "https://localhost:8080/"
        },
        "outputId": "7af236a5-eb4f-4077-fd20-6efecac529af"
      },
      "execution_count": null,
      "outputs": [
        {
          "output_type": "execute_result",
          "data": {
            "text/plain": [
              "15"
            ]
          },
          "metadata": {},
          "execution_count": 28
        }
      ]
    },
    {
      "cell_type": "code",
      "source": [
        "a.remove(10)"
      ],
      "metadata": {
        "id": "2XeTba7Z8INP"
      },
      "execution_count": null,
      "outputs": []
    },
    {
      "cell_type": "code",
      "source": [
        "a"
      ],
      "metadata": {
        "colab": {
          "base_uri": "https://localhost:8080/"
        },
        "id": "JWjET4Y58iEw",
        "outputId": "8351cce3-7002-45b1-85e0-7b7e536516fe"
      },
      "execution_count": null,
      "outputs": [
        {
          "output_type": "execute_result",
          "data": {
            "text/plain": [
              "[5, 4, 3, 2]"
            ]
          },
          "metadata": {},
          "execution_count": 30
        }
      ]
    },
    {
      "cell_type": "code",
      "source": [
        "#응용문제1; 동아리 회원관리 프로그램\\\n",
        "\n",
        "club = ['로제', '아이유']\n",
        "club.append('브레이브걸스')\n",
        "club.append('로제')\n",
        "club.count('로제')\n",
        "club.remove('브레이브걸스')\n",
        "club.append('성형훈')\n",
        "club.sort()\n",
        "len(club)"
      ],
      "metadata": {
        "colab": {
          "base_uri": "https://localhost:8080/"
        },
        "id": "BMhqg_HO8ibn",
        "outputId": "846d835c-2bad-485e-837c-69a90c9b30e9"
      },
      "execution_count": null,
      "outputs": [
        {
          "output_type": "execute_result",
          "data": {
            "text/plain": [
              "4"
            ]
          },
          "metadata": {},
          "execution_count": 38
        }
      ]
    },
    {
      "cell_type": "code",
      "source": [
        "club"
      ],
      "metadata": {
        "colab": {
          "base_uri": "https://localhost:8080/"
        },
        "id": "T0WB8BYb9iG4",
        "outputId": "5399904a-eba3-4bd9-eebb-ebb9f42c230c"
      },
      "execution_count": null,
      "outputs": [
        {
          "output_type": "execute_result",
          "data": {
            "text/plain": [
              "['로제', '로제', '성형훈', '아이유']"
            ]
          },
          "metadata": {},
          "execution_count": 39
        }
      ]
    },
    {
      "cell_type": "code",
      "source": [
        "a = [1,2,3,4]\n",
        "b = a.copy() #a[:]\n",
        "print(id(a), id(b))\n",
        "print(id(a[0]), id(b[0]))\n",
        "print(a,b)\n",
        "b[0] = 10 # 새로운 정수 객체 생성\n",
        "print(id(a[0]), id(b[0]))\n",
        "print(a, b)"
      ],
      "metadata": {
        "colab": {
          "base_uri": "https://localhost:8080/"
        },
        "id": "muIWfUlV9jUs",
        "outputId": "134a3494-c6e4-4591-a1af-95ab9a034966"
      },
      "execution_count": null,
      "outputs": [
        {
          "output_type": "stream",
          "name": "stdout",
          "text": [
            "139889374869856 139889374867856\n",
            "93980082866688 93980082866688\n",
            "[1, 2, 3, 4] [1, 2, 3, 4]\n",
            "93980082866688 93980082866976\n",
            "[1, 2, 3, 4] [10, 2, 3, 4]\n"
          ]
        }
      ]
    },
    {
      "cell_type": "code",
      "source": [
        "#딕셔너리 생성방법\n",
        "\n",
        "info={} #dict()\n",
        "info={100:'a',  200:'b'}\n",
        "info\n",
        "#help(dict)\n",
        "info=dict(name='hee', age= 200)\n",
        "info= {}\n",
        "\n",
        "for k, v in [('name', 'sung'), ('age', 20)]:\n",
        "  info[k]=v"
      ],
      "metadata": {
        "id": "Vz1Yy2QqBG5_"
      },
      "execution_count": null,
      "outputs": []
    },
    {
      "cell_type": "code",
      "source": [
        "info={100:'a', 200:'b'}\n",
        "#추가 \n",
        "info[100] ='c'\n",
        "info\n",
        "#수정\n",
        "#삭제\n",
        "#info.pop(100)\n",
        "#검색\n",
        "info[100]\n",
        "\n"
      ],
      "metadata": {
        "id": "0JkXn7oDDJAV",
        "colab": {
          "base_uri": "https://localhost:8080/",
          "height": 35
        },
        "outputId": "72ed50a1-6325-4789-ad99-69be6ed607f9"
      },
      "execution_count": null,
      "outputs": [
        {
          "output_type": "execute_result",
          "data": {
            "text/plain": [
              "'c'"
            ],
            "application/vnd.google.colaboratory.intrinsic+json": {
              "type": "string"
            }
          },
          "metadata": {},
          "execution_count": 51
        }
      ]
    },
    {
      "cell_type": "code",
      "source": [
        "info[300].get"
      ],
      "metadata": {
        "id": "fBghxfNWDVr1"
      },
      "execution_count": null,
      "outputs": []
    },
    {
      "cell_type": "code",
      "source": [
        ""
      ],
      "metadata": {
        "id": "wbYAwbXnFcvi"
      },
      "execution_count": null,
      "outputs": []
    }
  ]
}