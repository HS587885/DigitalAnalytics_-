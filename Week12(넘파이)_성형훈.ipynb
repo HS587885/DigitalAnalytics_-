{
  "nbformat": 4,
  "nbformat_minor": 0,
  "metadata": {
    "colab": {
      "name": "Week12(넘파이)_성형훈.ipynb",
      "provenance": [],
      "collapsed_sections": [],
      "include_colab_link": true
    },
    "kernelspec": {
      "name": "python3",
      "display_name": "Python 3"
    },
    "language_info": {
      "name": "python"
    }
  },
  "cells": [
    {
      "cell_type": "markdown",
      "metadata": {
        "id": "view-in-github",
        "colab_type": "text"
      },
      "source": [
        "<a href=\"https://colab.research.google.com/github/HS587885/DigitalAnalytics_intermediateProgramming/blob/main/Week12(%EB%84%98%ED%8C%8C%EC%9D%B4)_%EC%84%B1%ED%98%95%ED%9B%88.ipynb\" target=\"_parent\"><img src=\"https://colab.research.google.com/assets/colab-badge.svg\" alt=\"Open In Colab\"/></a>"
      ]
    },
    {
      "cell_type": "markdown",
      "source": [
        "# 넘파이 기초"
      ],
      "metadata": {
        "id": "gER-yZxQdabP"
      }
    },
    {
      "cell_type": "markdown",
      "source": [
        "## 넘파이 배열 생성 및 초기화"
      ],
      "metadata": {
        "id": "qZTNyi_BdnQw"
      }
    },
    {
      "cell_type": "code",
      "source": [
        "import numpy as np"
      ],
      "metadata": {
        "id": "bYCOyPRufOEg"
      },
      "execution_count": null,
      "outputs": []
    },
    {
      "cell_type": "code",
      "execution_count": null,
      "metadata": {
        "colab": {
          "base_uri": "https://localhost:8080/"
        },
        "id": "YM77iT9vdPs6",
        "outputId": "051c7ced-23ab-4b0e-d6b6-801e59f17ddb"
      },
      "outputs": [
        {
          "output_type": "execute_result",
          "data": {
            "text/plain": [
              "array([[10, 20, 30],\n",
              "       [10, 20, 30]])"
            ]
          },
          "metadata": {},
          "execution_count": 4
        }
      ],
      "source": [
        "a = np.array([1,2,3])\n",
        "type(a)\n",
        "np.array([[10,20,30], [10,20,30]])"
      ]
    },
    {
      "cell_type": "code",
      "source": [
        "np.arange(1, 11)"
      ],
      "metadata": {
        "colab": {
          "base_uri": "https://localhost:8080/"
        },
        "id": "D9F1p770fM4x",
        "outputId": "a1e0ccee-8662-42f2-b405-97f3055e77f9"
      },
      "execution_count": null,
      "outputs": [
        {
          "output_type": "execute_result",
          "data": {
            "text/plain": [
              "array([ 1,  2,  3,  4,  5,  6,  7,  8,  9, 10])"
            ]
          },
          "metadata": {},
          "execution_count": 5
        }
      ]
    },
    {
      "cell_type": "markdown",
      "source": [
        "## 난수로 배열 생성\n",
        "- rand(), randint(), randn()..."
      ],
      "metadata": {
        "id": "bbBOIRTKiH4n"
      }
    },
    {
      "cell_type": "code",
      "source": [
        "np.random.rand(2,2)"
      ],
      "metadata": {
        "colab": {
          "base_uri": "https://localhost:8080/"
        },
        "id": "8-MHtER-iO1F",
        "outputId": "2d3c971b-28d1-47f4-f59a-937e50a25a1f"
      },
      "execution_count": null,
      "outputs": [
        {
          "output_type": "execute_result",
          "data": {
            "text/plain": [
              "array([[0.67068066, 0.20578801],\n",
              "       [0.35455269, 0.75586335]])"
            ]
          },
          "metadata": {},
          "execution_count": 6
        }
      ]
    },
    {
      "cell_type": "code",
      "source": [
        "a = np.random.randint(0,1)\n",
        "a"
      ],
      "metadata": {
        "colab": {
          "base_uri": "https://localhost:8080/"
        },
        "id": "BTZVKnq_iT1L",
        "outputId": "40474450-85b6-438b-c485-27eaeb84c814"
      },
      "execution_count": null,
      "outputs": [
        {
          "output_type": "execute_result",
          "data": {
            "text/plain": [
              "0"
            ]
          },
          "metadata": {},
          "execution_count": 9
        }
      ]
    },
    {
      "cell_type": "code",
      "source": [
        "# 기대값이 0이고, 표준편차가 1인 정규분포를 따르는 난수\n",
        "a = np.random.randn(5)\n",
        "print(a)"
      ],
      "metadata": {
        "colab": {
          "base_uri": "https://localhost:8080/"
        },
        "id": "Fa2-kYLDldEL",
        "outputId": "0127464f-bc73-4430-84f7-8d0cd6bd2dff"
      },
      "execution_count": null,
      "outputs": [
        {
          "output_type": "stream",
          "name": "stdout",
          "text": [
            "[ 0.94575041 -0.15820749  0.84465356 -0.64242076 -0.24827205]\n"
          ]
        }
      ]
    },
    {
      "cell_type": "code",
      "source": [
        "# 응용문제\n",
        "import matplotlib.pyplot as plt\n",
        "n=np.random.randn(1000)\n",
        "plt.hist(n,bins=15)\n",
        "plt.show()"
      ],
      "metadata": {
        "colab": {
          "base_uri": "https://localhost:8080/",
          "height": 265
        },
        "id": "Q67bkCgDmJss",
        "outputId": "0553b964-8aff-4e95-80e1-c78ad5045db8"
      },
      "execution_count": null,
      "outputs": [
        {
          "output_type": "display_data",
          "data": {
            "text/plain": [
              "<Figure size 432x288 with 1 Axes>"
            ],
            "image/png": "[encoded data removed]"
          },
          "metadata": {
            "needs_background": "light"
          }
        }
      ]
    },
    {
      "cell_type": "markdown",
      "source": [
        "## 배열 속성 조회"
      ],
      "metadata": {
        "id": "sZtPLZx-nSLH"
      }
    },
    {
      "cell_type": "code",
      "source": [
        "n = np.array([[1,2,3], [4,5,6]])\n",
        "n.shape"
      ],
      "metadata": {
        "colab": {
          "base_uri": "https://localhost:8080/"
        },
        "id": "CBpCCw20ooMx",
        "outputId": "91ab3fac-ba84-4b82-96b9-6cf1a9eaa64a"
      },
      "execution_count": null,
      "outputs": [
        {
          "output_type": "execute_result",
          "data": {
            "text/plain": [
              "(2, 3)"
            ]
          },
          "metadata": {},
          "execution_count": 11
        }
      ]
    },
    {
      "cell_type": "code",
      "source": [
        "arr = np.arange(1,6)\n",
        "print(arr)\n",
        "print('ndim',arr.ndim) # 배열 차원\n",
        "print('shape', arr.shape) #배열의 모양, 1차원일때는 원소의 개수변환\n",
        "print('size', arr.size) # 배열원소의 개수 len(arr)\n",
        "print('itemsize', arr.itemsize) #원소의 크기를 바이트단위\n",
        "print('dtype', arr.dtype) #자료형\n",
        "print('nbytes', arr.nbytes) #배열 전체 바이트 크기"
      ],
      "metadata": {
        "colab": {
          "base_uri": "https://localhost:8080/"
        },
        "id": "XglwZ8dVnRbD",
        "outputId": "4ba79061-f0c7-4822-a7e4-5e665e885c71"
      },
      "execution_count": null,
      "outputs": [
        {
          "output_type": "stream",
          "name": "stdout",
          "text": [
            "[1 2 3 4 5]\n",
            "ndim 1\n",
            "shape (5,)\n",
            "size 5\n",
            "itemsize 8\n",
            "dtype int64\n",
            "nbytes 40\n"
          ]
        }
      ]
    },
    {
      "cell_type": "markdown",
      "source": [
        "# 넘파이 인덱싱과 슬라이싱"
      ],
      "metadata": {
        "id": "PlgpavIepHiy"
      }
    },
    {
      "cell_type": "markdown",
      "source": [
        "## 배열 슬라이싱"
      ],
      "metadata": {
        "id": "a7vV81yzrgPC"
      }
    },
    {
      "cell_type": "code",
      "source": [
        "a1 = np.arange(9)\n",
        "print(a1)\n",
        "print(a1[0])\n",
        "print(a1[-1])\n",
        "a1[0] = 10\n",
        "print(a1)"
      ],
      "metadata": {
        "colab": {
          "base_uri": "https://localhost:8080/"
        },
        "id": "6XO3SwdPpsEA",
        "outputId": "ea1a6b8f-3d40-4705-fc02-fb4c03446ad1"
      },
      "execution_count": null,
      "outputs": [
        {
          "output_type": "stream",
          "name": "stdout",
          "text": [
            "[0 1 2 3 4 5 6 7 8]\n",
            "0\n",
            "8\n",
            "[10  1  2  3  4  5  6  7  8]\n"
          ]
        }
      ]
    },
    {
      "cell_type": "code",
      "source": [
        "a2 = np.arange(6).reshape(2,3)\n",
        "print(a2)\n",
        "print(a2[0, 1])\n",
        "print(a2[1, 2])\n",
        "a2[0,0] = 10\n",
        "print(a2)"
      ],
      "metadata": {
        "colab": {
          "base_uri": "https://localhost:8080/"
        },
        "id": "Mg1WNXF8w42B",
        "outputId": "a520737c-21e5-4c4b-d031-edb543c936e4"
      },
      "execution_count": null,
      "outputs": [
        {
          "output_type": "stream",
          "name": "stdout",
          "text": [
            "[[0 1 2]\n",
            " [3 4 5]]\n",
            "1\n",
            "5\n",
            "[[10  1  2]\n",
            " [ 3  4  5]]\n"
          ]
        }
      ]
    },
    {
      "cell_type": "code",
      "source": [
        "a1 = np.arange(6)\n",
        "print(a1)\n",
        "print(a1[1:])\n",
        "print(a1[-2:])\n",
        "print(a1[:-3])\n",
        "print(a1[::2])\n",
        "print(a1[::-1])\n",
        "\n"
      ],
      "metadata": {
        "colab": {
          "base_uri": "https://localhost:8080/"
        },
        "id": "LTa4Bq3QqZ5n",
        "outputId": "79dfb722-63f0-4bc9-d5a3-8093714afb5e"
      },
      "execution_count": null,
      "outputs": [
        {
          "output_type": "stream",
          "name": "stdout",
          "text": [
            "[0 1 2 3 4 5]\n",
            "[1 2 3 4 5]\n",
            "[4 5]\n",
            "[0 1 2]\n",
            "[0 2 4]\n",
            "[5 4 3 2 1 0]\n"
          ]
        }
      ]
    },
    {
      "cell_type": "markdown",
      "source": [
        "## 논리 인덱싱\n",
        "- 주어진 배열에서 원하는 값을 추출\n",
        "- 관계연산자(동일)\n",
        "- 논리연산자 &(and), |(or) ~(not)"
      ],
      "metadata": {
        "id": "dzUuJ3FXrieQ"
      }
    },
    {
      "cell_type": "code",
      "source": [
        "a = np.arange(1,6)\n",
        "b = [True, False, True, True, False]\n",
        "a[b]"
      ],
      "metadata": {
        "colab": {
          "base_uri": "https://localhost:8080/"
        },
        "id": "wrbo22slrktC",
        "outputId": "d4622d06-fb95-4fdc-d678-39598bf894e0"
      },
      "execution_count": null,
      "outputs": [
        {
          "output_type": "execute_result",
          "data": {
            "text/plain": [
              "array([1, 3, 4])"
            ]
          },
          "metadata": {},
          "execution_count": 17
        }
      ]
    },
    {
      "cell_type": "code",
      "source": [
        "# 나이가 저장된 넘파이 배열\n",
        "age=np.array([20,15,19,25,30])\n",
        "# 20이상인 데이터 추출\n",
        "r = (age>=20) & (age <= 20)\n",
        "age[r]"
      ],
      "metadata": {
        "colab": {
          "base_uri": "https://localhost:8080/"
        },
        "id": "y3k0W3b6spYC",
        "outputId": "4778da1a-2621-4b03-bff8-20184553c496"
      },
      "execution_count": null,
      "outputs": [
        {
          "output_type": "execute_result",
          "data": {
            "text/plain": [
              "array([20])"
            ]
          },
          "metadata": {},
          "execution_count": 21
        }
      ]
    },
    {
      "cell_type": "code",
      "source": [
        "a = np.arange(0,3)\n",
        "b = [True, False, True]\n",
        "print(a)\n",
        "print(b)\n",
        "a[b]\n",
        "\n",
        "\n"
      ],
      "metadata": {
        "colab": {
          "base_uri": "https://localhost:8080/"
        },
        "id": "z99K0G7utXTJ",
        "outputId": "09f34f59-45e7-4d54-da77-8393a80072f3"
      },
      "execution_count": null,
      "outputs": [
        {
          "output_type": "stream",
          "name": "stdout",
          "text": [
            "[0 1 2]\n",
            "[True, False, True]\n"
          ]
        },
        {
          "output_type": "execute_result",
          "data": {
            "text/plain": [
              "array([0, 2])"
            ]
          },
          "metadata": {},
          "execution_count": 24
        }
      ]
    },
    {
      "cell_type": "code",
      "source": [
        "# range와 arange함수 비교\n",
        "print(range(1, 11))\n",
        "k = []\n",
        "for i in range(1, 11):\n",
        "  k.append(i)\n",
        "k"
      ],
      "metadata": {
        "colab": {
          "base_uri": "https://localhost:8080/"
        },
        "id": "DJEJMyWPvlXT",
        "outputId": "9725262c-0c87-44cb-f64d-33e9b738ea17"
      },
      "execution_count": null,
      "outputs": [
        {
          "output_type": "stream",
          "name": "stdout",
          "text": [
            "range(1, 11)\n"
          ]
        },
        {
          "output_type": "execute_result",
          "data": {
            "text/plain": [
              "[1, 2, 3, 4, 5, 6, 7, 8, 9, 10]"
            ]
          },
          "metadata": {},
          "execution_count": 7
        }
      ]
    },
    {
      "cell_type": "code",
      "source": [
        "a=np.arange(1,11)\n",
        "print(a)"
      ],
      "metadata": {
        "colab": {
          "base_uri": "https://localhost:8080/"
        },
        "id": "CDIKjzLewjew",
        "outputId": "ec70c3c7-0ad9-484c-de42-dd927cdfbacf"
      },
      "execution_count": null,
      "outputs": [
        {
          "output_type": "stream",
          "name": "stdout",
          "text": [
            "[ 1  2  3  4  5  6  7  8  9 10]\n"
          ]
        }
      ]
    },
    {
      "cell_type": "markdown",
      "source": [
        "# 넘파이 연산\n",
        "- 전통적인 배열은 동일한 자료형을 가진 데이터를 연속적으로 저장한다.\n",
        "- 넘파일 배열은 C언어 기반한 배열 구조로 메모리를 적게 차지하고 속도가 빠르다.\n",
        "- 넘파이 배열을 사용하면 배열 간에 수학적인 연산을 적용\n",
        "- 고급 연산자와 풍부한 함수를 제공한다."
      ],
      "metadata": {
        "id": "bAP_7_YGzlcC"
      }
    },
    {
      "cell_type": "code",
      "source": [
        "mid=[10,20,30]\n",
        "final=[10,20,30]"
      ],
      "metadata": {
        "id": "EHm0B4YaKbB2"
      },
      "execution_count": null,
      "outputs": []
    },
    {
      "cell_type": "code",
      "source": [
        "# 리스트\n",
        "n = len(mid)\n",
        "total, avg=[], []\n",
        "\n",
        "for i in range(n):\n",
        "  total.append(mid[i] + final[i])\n",
        "  avg.append(total[i]/2)\n",
        "print(total)\n",
        "print(avg)\n"
      ],
      "metadata": {
        "colab": {
          "base_uri": "https://localhost:8080/"
        },
        "id": "76-YUwU2Kl4t",
        "outputId": "11e9de44-0aff-4bf0-fcef-da44d9b9c3aa"
      },
      "execution_count": null,
      "outputs": [
        {
          "output_type": "stream",
          "name": "stdout",
          "text": [
            "[20, 40, 60]\n",
            "[10.0, 20.0, 30.0]\n"
          ]
        }
      ]
    },
    {
      "cell_type": "code",
      "source": [
        "# 넘파이 배열\n",
        "mid= np.array([10,20,30])\n",
        "final= np.array([10,20,30])\n",
        "\n",
        "total = mid + final\n",
        "print(total)\n",
        "print(total/2)"
      ],
      "metadata": {
        "colab": {
          "base_uri": "https://localhost:8080/"
        },
        "id": "gRarzM53LIYE",
        "outputId": "2a154437-42df-4474-8a29-2c8e2511f764"
      },
      "execution_count": null,
      "outputs": [
        {
          "output_type": "stream",
          "name": "stdout",
          "text": [
            "[20 40 60]\n",
            "[10. 20. 30.]\n"
          ]
        }
      ]
    },
    {
      "cell_type": "code",
      "source": [
        "import numpy as np\n",
        "a=np .arange ( 1 ,11 ) \n",
        "b=np .arange ( 1 ,11 ) \n",
        "print(a+b ) \n",
        "print(np .add (a,b)) # 덧셈 \n",
        "print(a -b) \n",
        "print(np .subtract (a,b)) # 뺄셈 \n",
        "print(a*b) \n",
        "print(np .multiply (a,b)) # 곱셈 \n",
        "print(a/b) \n",
        "print(np .divide (a,b)) # 나눗셈 \n",
        "\n"
      ],
      "metadata": {
        "colab": {
          "base_uri": "https://localhost:8080/"
        },
        "id": "oWA5sRQNFqbx",
        "outputId": "98a8f6b8-4396-45b0-c80c-86fce8b61a27"
      },
      "execution_count": null,
      "outputs": [
        {
          "output_type": "stream",
          "name": "stdout",
          "text": [
            "[ 2  4  6  8 10 12 14 16 18 20]\n",
            "[ 2  4  6  8 10 12 14 16 18 20]\n",
            "[0 0 0 0 0 0 0 0 0 0]\n",
            "[0 0 0 0 0 0 0 0 0 0]\n",
            "[  1   4   9  16  25  36  49  64  81 100]\n",
            "[  1   4   9  16  25  36  49  64  81 100]\n",
            "[1. 1. 1. 1. 1. 1. 1. 1. 1. 1.]\n",
            "[1. 1. 1. 1. 1. 1. 1. 1. 1. 1.]\n"
          ]
        }
      ]
    },
    {
      "cell_type": "code",
      "source": [
        "# 벡터 수행시간\n",
        "import time\n",
        "import numpy as np\n",
        "\n",
        "a = np.arange(10000000)\n",
        "result = 0\n",
        "s =time.time()\n",
        "\n",
        "for v in a:\n",
        "  result += v\n",
        "e=time.time()\n",
        "print(result, e-s) # 벡터연산 수행시간\n",
        "s=time.time()\n",
        "result=np.sum(a)\n",
        "e=time.time()\n",
        "print(result, e-s) # 백터연산 수행시간\n",
        "\n",
        "\n"
      ],
      "metadata": {
        "colab": {
          "base_uri": "https://localhost:8080/"
        },
        "id": "ul-5NFUYGDzt",
        "outputId": "c4d6d5b1-6281-4fb8-ca76-3e8bed92534c"
      },
      "execution_count": null,
      "outputs": [
        {
          "output_type": "stream",
          "name": "stdout",
          "text": [
            "49999995000000 2.1813228130340576\n",
            "49999995000000 0.010994672775268555\n"
          ]
        }
      ]
    },
    {
      "cell_type": "markdown",
      "source": [
        "# 실습문제 1"
      ],
      "metadata": {
        "id": "uRT7ZOB0G-Mo"
      }
    },
    {
      "cell_type": "code",
      "source": [
        ""
      ],
      "metadata": {
        "colab": {
          "base_uri": "https://localhost:8080/"
        },
        "id": "u22rarpmw9Ac",
        "outputId": "d5c86585-70d7-433a-d5b2-e181cffe0257"
      },
      "execution_count": null,
      "outputs": [
        {
          "output_type": "stream",
          "name": "stdout",
          "text": [
            "인상된 금액 : [300. 225. 270. 330. 375.]\n",
            "평균 금액 : 300.0\n",
            "평균이상인 원소 : [300. 330. 375.]\n",
            "평균이상인 원소의 개수 : 3\n"
          ]
        }
      ]
    }
  ]
}