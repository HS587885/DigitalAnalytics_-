{
  "nbformat": 4,
  "nbformat_minor": 0,
  "metadata": {
    "colab": {
      "name": "Week6_solution.ipynb",
      "provenance": [],
      "collapsed_sections": [],
      "include_colab_link": true
    },
    "kernelspec": {
      "name": "python3",
      "display_name": "Python 3"
    },
    "language_info": {
      "name": "python"
    }
  },
  "cells": [
    {
      "cell_type": "markdown",
      "metadata": {
        "id": "view-in-github",
        "colab_type": "text"
      },
      "source": [
        "<a href=\"https://colab.research.google.com/github/HS587885/DigitalAnalytics_intermediateProgramming/blob/main/Week6_solution.ipynb\" target=\"_parent\"><img src=\"https://colab.research.google.com/assets/colab-badge.svg\" alt=\"Open In Colab\"/></a>"
      ]
    },
    {
      "cell_type": "code",
      "source": [
        "# 실습예제 1"
      ],
      "metadata": {
        "id": "oiVXkYMNqZ0N"
      },
      "execution_count": null,
      "outputs": []
    },
    {
      "cell_type": "code",
      "source": [
        "# 실습예제 2\n",
        "\n",
        "def grade(s):\n",
        "  if s>=90:\n",
        "    result='A'\n",
        "  elif s>=80:\n",
        "    result='B'\n",
        "  elif s>=70:\n",
        "    result='C'\n",
        "  else:\n",
        "    result='F'\n",
        "  print(result)\n",
        "\n",
        "# 메인코드\n",
        "score=int(input('score:'))\n",
        "grade(score)"
      ],
      "metadata": {
        "colab": {
          "base_uri": "https://localhost:8080/"
        },
        "id": "Qf8R1008q6ig",
        "outputId": "25a8e772-2eea-45a9-c830-f80af12b293a"
      },
      "execution_count": null,
      "outputs": [
        {
          "output_type": "stream",
          "name": "stdout",
          "text": [
            "score:78\n",
            "C\n"
          ]
        }
      ]
    },
    {
      "cell_type": "code",
      "source": [
        "# 실습예제 2-2\n",
        "def grade(s):\n",
        "  if s>=90:\n",
        "    result='A'\n",
        "  elif s>=80:\n",
        "    result='B'\n",
        "  elif s>=70:\n",
        "    result='C'\n",
        "  else:\n",
        "    result='F'\n",
        "  print(result)\n",
        "\n",
        "# 메인코드\n",
        "score=[]\n",
        "n=int(input('count:'))\n",
        "for i in range(n):\n",
        "  s=int(input('score:'))\n",
        "  score.append(s)\n",
        "for i in range(n):\n",
        "  grade(score[i])"
      ],
      "metadata": {
        "colab": {
          "base_uri": "https://localhost:8080/"
        },
        "id": "yp_oiZq4rhyo",
        "outputId": "2104051a-3871-4b80-dce9-e7f0362f579e"
      },
      "execution_count": null,
      "outputs": [
        {
          "output_type": "stream",
          "name": "stdout",
          "text": [
            "count:5\n",
            "score:100\n",
            "score:90\n",
            "score:50\n",
            "score:40\n",
            "score:0\n",
            "A\n",
            "A\n",
            "F\n",
            "F\n",
            "F\n"
          ]
        }
      ]
    },
    {
      "cell_type": "markdown",
      "source": [
        "## 가변 매개변수 *args"
      ],
      "metadata": {
        "id": "Mi3ltN-sOsdb"
      }
    },
    {
      "cell_type": "code",
      "source": [
        "def show(*args):\n",
        "  print(args)\n",
        "  print(type(args))\n",
        "\n",
        "show(10,20)\n",
        "show(10,20,30)"
      ],
      "metadata": {
        "colab": {
          "base_uri": "https://localhost:8080/"
        },
        "id": "Rt6Xcw-osMbq",
        "outputId": "d3bbc5e6-0c81-4e78-bc22-c84e2cbfd642"
      },
      "execution_count": null,
      "outputs": [
        {
          "output_type": "stream",
          "name": "stdout",
          "text": [
            "(10, 20)\n",
            "<class 'tuple'>\n",
            "(10, 20, 30)\n",
            "<class 'tuple'>\n"
          ]
        }
      ]
    },
    {
      "cell_type": "code",
      "source": [
        "def average(*score): # 튜플\n",
        "  print(score)\n",
        "  print(type(score))\n",
        "  for i in range(len(score)):\n",
        "    print(score[i])\n",
        "\n",
        "# 함수의 호출\n",
        "average(100,100)    \n",
        "average(10,20,30)"
      ],
      "metadata": {
        "colab": {
          "base_uri": "https://localhost:8080/"
        },
        "id": "j93Nqce1QYR_",
        "outputId": "5771107a-ab4f-4b8d-9228-d0b6bb072465"
      },
      "execution_count": null,
      "outputs": [
        {
          "output_type": "stream",
          "name": "stdout",
          "text": [
            "(100, 100)\n",
            "<class 'tuple'>\n",
            "100\n",
            "100\n",
            "(10, 20, 30)\n",
            "<class 'tuple'>\n",
            "10\n",
            "20\n",
            "30\n"
          ]
        }
      ]
    },
    {
      "cell_type": "code",
      "execution_count": null,
      "metadata": {
        "colab": {
          "base_uri": "https://localhost:8080/"
        },
        "id": "ska3EnwWOiCi",
        "outputId": "7ac82760-14b7-425f-e67e-6d4a3ed2253f"
      },
      "outputs": [
        {
          "output_type": "stream",
          "name": "stdout",
          "text": [
            "avg : 100.0\n",
            "avg : 60.0\n"
          ]
        }
      ],
      "source": [
        "def average(*score): # 튜플\n",
        "  hap=0\n",
        "  for i in range(len(score)):\n",
        "    hap+=score[i]\n",
        "  avg=hap/len(score)\n",
        "  print(f'avg : {avg}')\n",
        "\n",
        "average(100,100)    \n",
        "average(50,60,70)"
      ]
    },
    {
      "cell_type": "markdown",
      "source": [
        "## 기본매개변수=디폴트매개변수"
      ],
      "metadata": {
        "id": "Cj_SfP0VcNAT"
      }
    },
    {
      "cell_type": "code",
      "source": [
        "def print_n(value,n=2):\n",
        "  for i in range(n):\n",
        "    print(value)\n",
        "\n",
        "print_n('Hello')"
      ],
      "metadata": {
        "id": "U0Mce-qpcMrA",
        "colab": {
          "base_uri": "https://localhost:8080/"
        },
        "outputId": "877921e2-5881-4c41-c0a3-faced457589f"
      },
      "execution_count": null,
      "outputs": [
        {
          "output_type": "stream",
          "name": "stdout",
          "text": [
            "Hello\n",
            "Hello\n"
          ]
        }
      ]
    },
    {
      "cell_type": "code",
      "source": [
        "help(print) # 가변매개변수, 키워드매개변수"
      ],
      "metadata": {
        "colab": {
          "base_uri": "https://localhost:8080/"
        },
        "id": "cCuAUz5lcuzC",
        "outputId": "e41b018e-dcc1-4b27-c85c-dedc2955fe69"
      },
      "execution_count": null,
      "outputs": [
        {
          "output_type": "stream",
          "name": "stdout",
          "text": [
            "Help on built-in function print in module builtins:\n",
            "\n",
            "print(...)\n",
            "    print(value, ..., sep=' ', end='\\n', file=sys.stdout, flush=False)\n",
            "    \n",
            "    Prints the values to a stream, or to sys.stdout by default.\n",
            "    Optional keyword arguments:\n",
            "    file:  a file-like object (stream); defaults to the current sys.stdout.\n",
            "    sep:   string inserted between values, default a space.\n",
            "    end:   string appended after the last value, default a newline.\n",
            "    flush: whether to forcibly flush the stream.\n",
            "\n"
          ]
        }
      ]
    },
    {
      "cell_type": "markdown",
      "source": [
        "## 매개변수의 변수 값 전달 방식\n",
        "- 주소에 의한 호출(call by reference)"
      ],
      "metadata": {
        "id": "rE8PwaLPR_KF"
      }
    },
    {
      "cell_type": "code",
      "source": [
        "def func(x):\n",
        "  print(id(x))\n",
        "  x=10\n",
        "  print(f'함수{x}')\n",
        "  print(id(x))\n",
        "\n",
        "x=5\n",
        "print(id(x))\n",
        "func(x)\n",
        "print(f'메인{x}')\n"
      ],
      "metadata": {
        "colab": {
          "base_uri": "https://localhost:8080/"
        },
        "id": "DnnMj8iOSJkY",
        "outputId": "53024286-294c-4752-df1c-00b008421bf8"
      },
      "execution_count": null,
      "outputs": [
        {
          "output_type": "stream",
          "name": "stdout",
          "text": [
            "93873364818560\n",
            "93873364818560\n",
            "함수10\n",
            "93873364818720\n",
            "메인5\n"
          ]
        }
      ]
    },
    {
      "cell_type": "code",
      "source": [
        "# swap알고리즘\n",
        "def swap(aa,bb):\n",
        "  print(id(aa),id(bb))\n",
        "  return bb,aa\n",
        "\n",
        "a,b=10,5\n",
        "print(id(a),id(b))\n",
        "print('before:',(a,b))\n",
        "result=swap(a,b)\n",
        "print(id(a),id(b))\n",
        "print('after:',result)"
      ],
      "metadata": {
        "colab": {
          "base_uri": "https://localhost:8080/"
        },
        "id": "SZZleaOkYg-v",
        "outputId": "95987ecf-5050-474f-9b8d-6b40ac9f2a09"
      },
      "execution_count": null,
      "outputs": [
        {
          "output_type": "stream",
          "name": "stdout",
          "text": [
            "93873364818720 93873364818560\n",
            "before: (10, 5)\n",
            "93873364818720 93873364818560\n",
            "93873364818720 93873364818560\n",
            "after: (5, 10)\n"
          ]
        }
      ]
    },
    {
      "cell_type": "markdown",
      "source": [
        "## 사용자 정의 모듈"
      ],
      "metadata": {
        "id": "XZBTVAi0JDKK"
      }
    },
    {
      "cell_type": "code",
      "source": [
        "import main\n",
        "\n",
        "main.study()\n",
        "main.eat()\n",
        "print(main.name)"
      ],
      "metadata": {
        "colab": {
          "base_uri": "https://localhost:8080/"
        },
        "id": "fijomSaFJTjR",
        "outputId": "7790bbf3-5707-4d9b-9e87-21a2a8ffc3ea"
      },
      "execution_count": null,
      "outputs": [
        {
          "output_type": "stream",
          "name": "stdout",
          "text": [
            "공부하다\n",
            "먹다\n",
            "새로이\n"
          ]
        }
      ]
    },
    {
      "cell_type": "code",
      "source": [
        "from google.colab import drive\n",
        "drive.mount('/content/drive')"
      ],
      "metadata": {
        "colab": {
          "base_uri": "https://localhost:8080/"
        },
        "id": "izJSZYfitjxi",
        "outputId": "2c946336-20ee-4d27-989b-0bf3e052dc41"
      },
      "execution_count": null,
      "outputs": [
        {
          "output_type": "stream",
          "name": "stdout",
          "text": [
            "Mounted at /content/drive\n"
          ]
        }
      ]
    },
    {
      "cell_type": "markdown",
      "source": [
        "## 람다함수(표현식)"
      ],
      "metadata": {
        "id": "sZp_k2euWI-_"
      }
    },
    {
      "cell_type": "code",
      "source": [
        "def plus(x,y):\n",
        "  return x+y\n",
        "print(plus(10,20))"
      ],
      "metadata": {
        "colab": {
          "base_uri": "https://localhost:8080/"
        },
        "id": "sybHOo45WLaG",
        "outputId": "7188988f-9027-4455-bb2d-58f8b6d2bdd7"
      },
      "execution_count": null,
      "outputs": [
        {
          "output_type": "stream",
          "name": "stdout",
          "text": [
            "30\n"
          ]
        }
      ]
    },
    {
      "cell_type": "code",
      "source": [
        "# 함수를 호출하려면 변수에 할당해주어야한다.\n",
        "lambda x,y:x+y "
      ],
      "metadata": {
        "colab": {
          "base_uri": "https://localhost:8080/"
        },
        "id": "XgDGgJepZPtV",
        "outputId": "6bd49b7e-ac97-4f5d-c955-a6afd34a8064"
      },
      "execution_count": null,
      "outputs": [
        {
          "output_type": "execute_result",
          "data": {
            "text/plain": [
              "<function __main__.<lambda>>"
            ]
          },
          "metadata": {},
          "execution_count": 11
        }
      ]
    },
    {
      "cell_type": "code",
      "source": [
        "result=lambda x,y:x+y \n",
        "result(10,20)\n",
        "type(result)"
      ],
      "metadata": {
        "colab": {
          "base_uri": "https://localhost:8080/"
        },
        "id": "4_Y-xTxuWXuo",
        "outputId": "3c9cc67c-62d4-4115-fb01-9223be2bd1da"
      },
      "execution_count": null,
      "outputs": [
        {
          "output_type": "execute_result",
          "data": {
            "text/plain": [
              "function"
            ]
          },
          "metadata": {},
          "execution_count": 4
        }
      ]
    },
    {
      "cell_type": "code",
      "source": [
        "def plus(x):\n",
        "  return x+5\n",
        "\n",
        "list(map(plus,[10,20,30]))"
      ],
      "metadata": {
        "colab": {
          "base_uri": "https://localhost:8080/"
        },
        "id": "gi-RNKGgXTAR",
        "outputId": "ceb0db74-3e05-49d8-e8bf-80ae5e6122ed"
      },
      "execution_count": null,
      "outputs": [
        {
          "output_type": "execute_result",
          "data": {
            "text/plain": [
              "[15, 25, 35]"
            ]
          },
          "metadata": {},
          "execution_count": 5
        }
      ]
    },
    {
      "cell_type": "code",
      "source": [
        "# 람다 표현식을 인수로 사용\n",
        "list(map(lambda x:x+5,[10,20,30]))"
      ],
      "metadata": {
        "colab": {
          "base_uri": "https://localhost:8080/"
        },
        "id": "rM-vx-cwX8Id",
        "outputId": "f5df739a-d0c2-4f69-cdc3-fe742a4de4d0"
      },
      "execution_count": null,
      "outputs": [
        {
          "output_type": "execute_result",
          "data": {
            "text/plain": [
              "[15, 25, 35]"
            ]
          },
          "metadata": {},
          "execution_count": 7
        }
      ]
    },
    {
      "cell_type": "markdown",
      "source": [
        "# 모듈 불러오는 방법"
      ],
      "metadata": {
        "id": "wXGbf5w52l2D"
      }
    },
    {
      "cell_type": "code",
      "source": [
        "import random\n",
        "r=random.randint(1,10)\n",
        "print(r)"
      ],
      "metadata": {
        "colab": {
          "base_uri": "https://localhost:8080/"
        },
        "id": "lyslENup2nrb",
        "outputId": "1cb2ec09-e7cf-4187-cc46-37cf6768719c"
      },
      "execution_count": null,
      "outputs": [
        {
          "output_type": "stream",
          "name": "stdout",
          "text": [
            "4\n"
          ]
        }
      ]
    },
    {
      "cell_type": "code",
      "source": [
        "import random as rd\n",
        "rd.randrange(10)"
      ],
      "metadata": {
        "id": "iE89rS7j283g"
      },
      "execution_count": null,
      "outputs": []
    },
    {
      "cell_type": "code",
      "source": [
        "from random import *\n",
        "randint(1,10)"
      ],
      "metadata": {
        "id": "YYAOpUV73IVU"
      },
      "execution_count": null,
      "outputs": []
    },
    {
      "cell_type": "code",
      "source": [
        "#map 함수 활용\n",
        "num=[1.5,2.8,4.5,1.1]\n",
        "\n",
        "for i in range(len(num)):\n",
        "    num[i]=int(num[i])\n",
        "print(num)\n",
        "\n",
        "num=['10','30','40']\n",
        "result=list(map(int,num))\n",
        "print(result)"
      ],
      "metadata": {
        "id": "9Q0rmevOq--_"
      },
      "execution_count": null,
      "outputs": []
    },
    {
      "cell_type": "markdown",
      "source": [
        "# 응용문제 1 : 문자열 반복"
      ],
      "metadata": {
        "id": "P-RH9PzIY07U"
      }
    },
    {
      "cell_type": "code",
      "source": [
        "def print_str(s,c):\n",
        "    for i in range(c):\n",
        "        print(s)\n",
        "'''\n",
        "def print_str(s,c):\n",
        "  print(s*c)\n",
        "'''\n",
        "# 메인코드\n",
        "string=input('문자열:')\n",
        "cnt=int(input('횟수:'))\n",
        "print_str(string,cnt)"
      ],
      "metadata": {
        "id": "wvgL4rKQZAY9"
      },
      "execution_count": null,
      "outputs": []
    },
    {
      "cell_type": "markdown",
      "source": [
        "# 응용문제 2 : 계산기 프로그램"
      ],
      "metadata": {
        "id": "yV2Ywe8aaI_q"
      }
    },
    {
      "cell_type": "code",
      "source": [
        "def add(n1,n2):\n",
        "  return n1+n2\n",
        "\n",
        "def sub(n1,n2):\n",
        "  if n1>n2:\n",
        "    result=n1-n2\n",
        "  else:\n",
        "    result=n2-n1\n",
        "  return result\n",
        "\n",
        "def mul(n1,n2):\n",
        "  return n1*n2\n",
        "\n",
        "def div(n1,n2):\n",
        "  return n1/n2\n",
        "\n",
        "# main\n",
        "\n",
        "while True:\n",
        "  n1=int(input('num1:'))\n",
        "  if n1==0:break\n",
        "  n2=int(input('num2:'))\n",
        "  prompt='1:add 2:sub 3:mum 4:div => '\n",
        "  select=int(input(prompt))\n",
        "  if select==1:\n",
        "    print(add(n1,n2))\n",
        "  elif select==2:\n",
        "    print(sub(n1,n2))\n",
        "  elif select==3:\n",
        "    print(mul(n1,n2))\n",
        "  elif select==4:\n",
        "    if n2==0:\n",
        "      print('not divide by 0')\n",
        "    else:\n",
        "      print(div(n1,n2))\n"
      ],
      "metadata": {
        "colab": {
          "base_uri": "https://localhost:8080/"
        },
        "id": "Yr3UEmMtaNQK",
        "outputId": "fc00b10e-8c0b-44f6-b918-3c26037857b5"
      },
      "execution_count": null,
      "outputs": [
        {
          "name": "stdout",
          "output_type": "stream",
          "text": [
            "num1:10\n",
            "num2:20\n",
            "1:add 2:sub 3:mum 4:div => 1\n",
            "30\n",
            "num1:10\n",
            "num2:0\n",
            "1:add 2:sub 3:mum 4:div => 4\n",
            "not divide by 0\n",
            "num1:10\n",
            "num2:5\n",
            "1:add 2:sub 3:mum 4:div => 4\n",
            "2.0\n",
            "num1:0\n"
          ]
        }
      ]
    },
    {
      "cell_type": "markdown",
      "source": [
        "*이탤릭체 텍스트*\n",
        "# 응용문제 3 : 커피자판기 프로그램"
      ],
      "metadata": {
        "id": "qqC6DfQ8mcYu"
      }
    },
    {
      "cell_type": "code",
      "source": [
        "# 함수정의\n",
        "def menu_List(): # 메뉴\n",
        "    print('** 자판기 판매 메뉴 **')\n",
        "    for i in coffee: \n",
        "        print(f'{i}:{coffee[i]}')\n",
        "\n",
        "def change(money): # 동전교환  \n",
        "    c500 = money//500 \n",
        "    change=money%500    \n",
        "    c100 = change//100 #    \n",
        "    print(f'500원 {c500}개 반환')\n",
        "    print(f'100원 {c100}개 반환')\n",
        "\n",
        "def m_Input(): # 투입\n",
        "     money=int(input('돈을 투입하세요 : '))\n",
        "     return money\n",
        "\n",
        "def m_calc():\n",
        "    global money\n",
        "    if money <coffee[m][1]:#\n",
        "        print('잔액부족')\n",
        "        money=m_Input()\n",
        "    else:\n",
        "        print(coffee[m][0],'구입완료') #\n",
        "        money=money-coffee[m][1]#\n",
        "        \n",
        "# 메인코드    \n",
        "coffee={1:['뜨아',2000],2:['아아',3000],3:['라떼',3500]}\n",
        "menu_List()       \n",
        "print()\n",
        "money=m_Input() # 전역변수\n",
        "while True:\n",
        "    m=int(input('메뉴 선택 (종료:0) : '))\n",
        "    if m==0:break\n",
        "    m_calc()    \n",
        "    print('잔액: ', money)\n",
        "    print()\n",
        "      \n",
        "print('자판기 종료, 동전 반환')\n",
        "change(money)"
      ],
      "metadata": {
        "colab": {
          "base_uri": "https://localhost:8080/"
        },
        "id": "2pFfB4J8mbcO",
        "outputId": "a6417c9d-29a4-478b-a8b3-2414182ffc55"
      },
      "execution_count": null,
      "outputs": [
        {
          "output_type": "stream",
          "name": "stdout",
          "text": [
            "** 자판기 판매 메뉴 **\n",
            "1:['뜨아', 2000]\n",
            "2:['아아', 3000]\n",
            "3:['라떼', 3500]\n",
            "\n",
            "돈을 투입하세요 : 10000\n",
            "메뉴 선택 (종료:0) : 1\n",
            "뜨아 구입완료\n",
            "잔액:  8000\n",
            "\n",
            "메뉴 선택 (종료:0) : 3\n",
            "라떼 구입완료\n",
            "잔액:  4500\n",
            "\n",
            "메뉴 선택 (종료:0) : 3\n",
            "라떼 구입완료\n",
            "잔액:  1000\n",
            "\n",
            "메뉴 선택 (종료:0) : 2\n",
            "잔액부족\n",
            "돈을 투입하세요 : 0\n",
            "잔액:  0\n",
            "\n",
            "메뉴 선택 (종료:0) : 0\n",
            "자판기 종료, 동전 반환\n",
            "500원 0개 반환\n",
            "100원 0개 반환\n"
          ]
        }
      ]
    },
    {
      "cell_type": "markdown",
      "source": [
        "*이탤릭체 텍스트*# 응용문제 4 : 스마트폰 연락처 관리 프로그램"
      ],
      "metadata": {
        "id": "Q2ZeOwx8111V"
      }
    },
    {
      "cell_type": "code",
      "source": [
        "\n",
        "def add(name): # 추가\n",
        "  if name in addr:\n",
        "    print('already exists')\n",
        "  else :\n",
        "    phone=input('phone : ')\n",
        "    addr[name]=phone\n",
        "        \n",
        "def update(name) : # 수정\n",
        "  if name in addr:\n",
        "    phone=input('phone : ')\n",
        "    addr[name] = phone\n",
        "  else:\n",
        "    print('not Found')\n",
        "\n",
        "def delete(name) : # 삭제\n",
        "  if name in addr:\n",
        "    del addr[name]# addr.pop(name)\n",
        "  else:\n",
        "    print('not Found')\n",
        "\n",
        "def search(name) : # 이름으로 검색\n",
        "  if name in addr:\n",
        "      print(name, addr[name])\n",
        "  else :\n",
        "      print('not Found')\n",
        "\n",
        "def all_search(): # 전체 검색\n",
        "  for k, v in addr.items():\n",
        "      print(f'{k} : {v}')\n",
        "\n",
        "def scan(s):\n",
        "  result = input(s+' name : ')\n",
        "  return result\n",
        "\n",
        "addr = {}\n",
        "\n",
        "while True :\n",
        "  prompt='[ 1) 추가 2) 수정 3) 삭제 4) 검색 5) 전체검색 6)종료 ] : '\n",
        "  selection = int(input(prompt))\n",
        "  \n",
        "  if selection == 0 : break\n",
        "  if selection == 1:\n",
        "    name = scan('add')\n",
        "    add(name)\n",
        "  elif selection == 2:\n",
        "    name = scan('update')\n",
        "    update(name)\n",
        "  elif selection == 3:\n",
        "    name = scan('delete')\n",
        "    delete(name)\n",
        "  elif selection ==4:\n",
        "    name = scan('search')\n",
        "    search(name)\n",
        "  elif selection ==5:\n",
        "    all_search()    "
      ],
      "metadata": {
        "colab": {
          "base_uri": "https://localhost:8080/"
        },
        "id": "sb3rJJIQAQFy",
        "outputId": "a8dfb0c5-e287-4191-8dfb-fdd4e185ca66"
      },
      "execution_count": null,
      "outputs": [
        {
          "name": "stdout",
          "output_type": "stream",
          "text": [
            "[ 1) 추가 2) 수정 3) 삭제 4) 검색 5) 전체검색 6)종료 ] : 1\n",
            "add namehee\n",
            "phone : 010\n",
            "[ 1) 추가 2) 수정 3) 삭제 4) 검색 5) 전체검색 6)종료 ] : 4\n",
            "search namehee\n",
            "hee 010\n",
            "[ 1) 추가 2) 수정 3) 삭제 4) 검색 5) 전체검색 6)종료 ] : 5\n",
            "hee : 010\n",
            "[ 1) 추가 2) 수정 3) 삭제 4) 검색 5) 전체검색 6)종료 ] : 3\n",
            "delete namehee\n",
            "[ 1) 추가 2) 수정 3) 삭제 4) 검색 5) 전체검색 6)종료 ] : 0\n"
          ]
        }
      ]
    },
    {
      "cell_type": "markdown",
      "source": [
        "# 응용문제 5 : 인공지능을 위한 빅데이터 분석의 예제\n",
        "- 인공지능은 입력 데이터로 학습을 시켜야 한다. 입력데이터는 training_data를 사용, 2차원 리스트로 구성되어있다. flower_counts()에서 입력데이터에 대한 꽃들의 개수를 카운트하여 그 정보를 딕셔너리 형식으로 저장한 후 출력해보자.\n",
        "- 컬렉션자료형(리스트, 딕셔너리)\n",
        "- 함수정의와 호출\n",
        "- 제어문"
      ],
      "metadata": {
        "id": "FI4Yk7SOKEFI"
      }
    },
    {
      "cell_type": "code",
      "source": [
        "def flower_counts(data):\n",
        "  for row in data:\n",
        "    label=row[-1]\n",
        "    value=flower.get(label)\n",
        "    if value==None:\n",
        "      flower[label]=1\n",
        "    else:\n",
        "      flower[label]+=1    \n",
        "  \n",
        "\n",
        "training_data=[['노랑',2,'개나리'],\n",
        "               ['흰색',5,'벚꽃'],\n",
        "               ['노랑',5,'개나리'],\n",
        "               ['흰색',2,'목련'],\n",
        "               ['분홍색',2,'진달래']]\n",
        "flower={}\n",
        "flower_counts(training_data)\n",
        "print(flower)"
      ],
      "metadata": {
        "colab": {
          "base_uri": "https://localhost:8080/"
        },
        "id": "OoCoP4wLhoqH",
        "outputId": "74c30104-f490-4865-f188-dcf46be82762"
      },
      "execution_count": null,
      "outputs": [
        {
          "output_type": "stream",
          "name": "stdout",
          "text": [
            "{'개나리': 2, '벚꽃': 1, '목련': 1, '진달래': 1}\n"
          ]
        }
      ]
    },
    {
      "cell_type": "code",
      "source": [
        "def flower_counts(data):\n",
        "  for row in data:\n",
        "    label=row[-1]\n",
        "    if label not in flower:\n",
        "      flower[label]=1\n",
        "    else:\n",
        "      flower[label]+=1\n",
        "  \n",
        "\n",
        "training_data=[['노랑',2,'개나리'],\n",
        "               ['흰색',5,'벚꽃'],\n",
        "               ['노랑',5,'개나리'],\n",
        "               ['흰색',2,'목련'],\n",
        "               ['분홍색',2,'진달래']]\n",
        "flower={}\n",
        "flower_counts(training_data)\n",
        "print(flower)"
      ],
      "metadata": {
        "colab": {
          "base_uri": "https://localhost:8080/"
        },
        "id": "Q_zrAPuAKIZT",
        "outputId": "f3743d00-5019-4b87-eb6e-37e4d23ff8c0"
      },
      "execution_count": null,
      "outputs": [
        {
          "output_type": "stream",
          "name": "stdout",
          "text": [
            "{'개나리': 2, '벚꽃': 1, '목련': 1, '진달래': 1}\n"
          ]
        }
      ]
    },
    {
      "cell_type": "code",
      "source": [
        "training_data=[['노랑', 2, '개나리'],\n",
        "           ['흰색', 5, '벚꽃'],\n",
        "           ['노랑', 5, '개나리'],\n",
        "           ['흰색', 2, '목련'],\n",
        "           ['분홍색', 2, '진달래']\n",
        "             ]\n",
        "td=training_data                         "
      ],
      "metadata": {
        "colab": {
          "base_uri": "https://localhost:8080/"
        },
        "id": "vyP_l1-5rjhK",
        "outputId": "72c25e9f-f64b-4118-b1c0-eac7cd2595e1"
      },
      "execution_count": null,
      "outputs": [
        {
          "output_type": "execute_result",
          "data": {
            "text/plain": [
              "['노랑', 2, '개나리', '흰색', 5, '벚꽃', '노랑', 5, '개나리', '흰색', 2, '목련', '분홍색', 2, '진달래']"
            ]
          },
          "metadata": {},
          "execution_count": 16
        }
      ]
    }
  ]
}